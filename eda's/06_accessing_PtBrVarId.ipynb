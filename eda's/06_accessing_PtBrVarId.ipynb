{
 "cells": [
  {
   "cell_type": "code",
   "execution_count": 1,
   "id": "80399a62",
   "metadata": {},
   "outputs": [],
   "source": [
    "from datasets import load_dataset, DatasetDict, concatenate_datasets\n",
    "import pandas as pd\n",
    "\n",
    "pd.set_option(\"display.max_colwidth\", None)\n"
   ]
  },
  {
   "cell_type": "code",
   "execution_count": 4,
   "id": "72b17d2c",
   "metadata": {},
   "outputs": [],
   "source": [
    "# !pip install -U datasets clean-text jusText nltk numpy beautifulsoup4 lxml\n",
    "from datasets import load_dataset\n",
    "import numpy as np\n",
    "from cleantext import clean\n",
    "import nltk\n",
    "\n",
    "nltk.download(\"punkt\", quiet=True)\n",
    "\n",
    "import os, nltk, re\n",
    "from bs4 import BeautifulSoup\n",
    "import hashlib\n",
    "\n",
    "# Make sure NLTK looks in your user directory\n",
    "NLTK_USER_DIR = os.path.expanduser(\"~/nltk_data\")\n",
    "if NLTK_USER_DIR not in nltk.data.path:\n",
    "    nltk.data.path.append(NLTK_USER_DIR)\n",
    "\n",
    "def ensure_punkt():\n",
    "    \"\"\"\n",
    "    Ensure Portuguese punkt is available and visible to this kernel.\n",
    "    Newer NLTK may also require 'punkt_tab'.\n",
    "    \"\"\"\n",
    "    try:\n",
    "        nltk.data.find(\"tokenizers/punkt/portuguese.pickle\")\n",
    "    except LookupError:\n",
    "        # download into the same directory we added to nltk.data.path\n",
    "        nltk.download(\"punkt\", download_dir=NLTK_USER_DIR, quiet=True)\n",
    "        try:\n",
    "            nltk.data.find(\"tokenizers/punkt/portuguese.pickle\")\n",
    "        except LookupError:\n",
    "            nltk.download(\"punkt_tab\", download_dir=NLTK_USER_DIR, quiet=True)\n",
    "            nltk.data.find(\"tokenizers/punkt/portuguese.pickle\")\n",
    "\n",
    "# ----------------------------\n",
    "# Author's regex & helpers (verbatim)\n",
    "# ----------------------------\n",
    "import re\n",
    "from bs4 import BeautifulSoup\n",
    "import hashlib\n",
    "\n",
    "HTML_RE = re.compile(r\"<[^>]+>\")\n",
    "URL_RE = re.compile(r\"((http|https)\\:\\/\\/)?[a-zA-Z0-9\\.\\/\\?\\:@\\-_=#]+\\.([a-zA-Z]){2,6}([a-zA-Z0-9\\.\\&\\/\\?\\:@\\-_=#…])*\")\n",
    "HASHTAG_RE = re.compile(r\"#(\\w+)\")\n",
    "QUOTE_SPACE_START_RE = re.compile(r\"^\\\"\\s\")\n",
    "QUOTE_SPACE_END_RE = re.compile(r\"\\s\\\"$\")\n",
    "MENTION_RE = re.compile(r\"@(\\w+)\")\n",
    "RETWEET_RE = re.compile(r\"RT @(\\w+):\")\n",
    "COD_RE = re.compile(r\"COD _ (\\w+) \")\n",
    "BULLET_RE = re.compile(r\"^(\\d)+.\\s\")\n",
    "THREE_DASH_RE = re.compile(r\"---.*---\")\n",
    "MORE_THAN_THREE_POINTS_RE = re.compile(r\"\\.{4,}\")\n",
    "\n",
    "VALID_CHARS = \"0123456789abcdefghijklmnopqrstuvwxyzàáâãåāèéêëěėēîïíìįīĵłñńôöòóōõšśûüùúūÿýźçćčñń!\\\"#$%&'()*+,-./:;<=>?@[\\\\]^_`{|}~«»“”ºª€ \\t\\n\\r\\x0b\\x0c\"\n",
    "\n",
    "INVALID_START = [\n",
    "    \"List of recent changes\",\"Sort by\",\"Home |\",\"> Home\",\"useful tips\",\"Licenses:\",\"Search in: \",\n",
    "    \"Terms of Use - \",\"Home page\",\"Home Page\",\"Copyright\",\"Results/Page\",\n",
    "    \"!\",\"#\",\"$\",\"%\",\"&\",\"*\",\"+\",\n",
    "    \",\",\"-\",\".\",\"/\",\":\",\";\",\"<\",\"=\",\n",
    "    \">\",\"?\",\"@\",\"[\",\"\\\\\",\"]\",\"^\",\"_\",\"`\",\"{\",\"|\",\"}\",\"~\",\n",
    "]\n",
    "INVALID_MIDDLE = [\" @ \", \" / \", \" | \", \"[...]\", \"(...)\"]\n",
    "INVALID_END = [\" (\"]\n",
    "\n",
    "MONTHS = [\"january\",\"february\",\"march\",\"april\",\"may\",\"june\",\"july\",\"august\",\"september\",\"october\",\"november\",\"december\"]\n",
    "\n",
    "def remove_html_tags(text):\n",
    "    soup = BeautifulSoup(text, \"html.parser\")\n",
    "    return soup.get_text()\n",
    "\n",
    "def remove_hashtags(text): return HASHTAG_RE.sub(\"\", text).strip()\n",
    "def remove_mentions(text): return MENTION_RE.sub(\"\", text).strip()\n",
    "def remove_retweets(text): return RETWEET_RE.sub(\"\", text).strip()\n",
    "def remove_urls(text): return URL_RE.sub(\"\", text).strip()\n",
    "def remove_cod_literature(text): return COD_RE.sub(\"\", text).strip()\n",
    "def remove_bullets(text): return BULLET_RE.sub(\"\", text).strip()\n",
    "def remove_three_dashes(text): return THREE_DASH_RE.sub(\"\", text).strip()\n",
    "def remove_quote_space_start(text): return QUOTE_SPACE_START_RE.sub('\"', text)\n",
    "def remove_quote_space_end(text):\n",
    "    if text.endswith(' \"'): return text[:-2] + '\"'\n",
    "    return text\n",
    "\n",
    "def has_more_than_three_points(text): return bool(MORE_THAN_THREE_POINTS_RE.search(text))\n",
    "def starts_with_month(text): return text.lower().startswith(tuple(MONTHS))\n",
    "def has_too_long_word(text): return any(word for word in text.split(\" \") if len(word) > 20)\n",
    "def has_invalid_start(text): return text.startswith(tuple(INVALID_START))\n",
    "def has_invalid_middle(text): return any(True for word in INVALID_MIDDLE if word in text)\n",
    "def has_invalid_end(text): return text.endswith(tuple(INVALID_END))\n",
    "def has_valid_brackets(text):\n",
    "    return (text.count(\"(\") == text.count(\")\") and text.count(\"[\") == text.count(\"]\") and text.count(\"{\") == text.count(\"}\"))\n",
    "def has_valid_quotes(text): return text.count('\"') % 2 == 0 and text.count(\"“\") == text.count(\"”\")\n",
    "def is_empty(text): return len(text) == 0\n",
    "def has_invalid_character(text):\n",
    "    for char in text:\n",
    "        if char.lower() not in VALID_CHARS: return True\n",
    "    return False\n",
    "\n",
    "def author_transform_chain(text: str) -> str:\n",
    "    text = remove_retweets(text)\n",
    "    text = remove_mentions(text)\n",
    "    text = remove_hashtags(text)\n",
    "    text = remove_urls(text)\n",
    "    text = remove_html_tags(text)\n",
    "    text = remove_cod_literature(text)\n",
    "    text = remove_bullets(text)\n",
    "    text = remove_three_dashes(text)\n",
    "    text = remove_quote_space_start(text)\n",
    "    text = remove_quote_space_end(text)\n",
    "    return text\n",
    "\n",
    "# ----------------------------\n",
    "# Paper-faithful helpers\n",
    "# ----------------------------\n",
    "def drop_nans_and_empties(ds):\n",
    "    return ds.filter(lambda x: x[\"text\"] is not None and len(x[\"text\"].strip()) > 0)\n",
    "\n",
    "# MEMORY-SAFE exact de-dup (streaming via hash set; single process to keep state)\n",
    "def drop_exact_duplicates(ds, batch_size: int = 1000):\n",
    "    seen = set()\n",
    "    def tag_batch(batch):\n",
    "        keep = []\n",
    "        for t in batch[\"text\"]:\n",
    "            h = hashlib.md5(t.encode(\"utf-8\")).hexdigest()\n",
    "            if h in seen:\n",
    "                keep.append(False)\n",
    "            else:\n",
    "                seen.add(h)\n",
    "                keep.append(True)\n",
    "        return {\"__keep__\": keep}\n",
    "    ds = ds.map(tag_batch, batched=True, batch_size=batch_size, num_proc=1)\n",
    "    ds = ds.filter(lambda k: k, input_columns=\"__keep__\")\n",
    "    ds = ds.remove_columns([\"__keep__\"])\n",
    "    return ds\n",
    "\n",
    "def apply_clean_text_ascii(s: str) -> str:\n",
    "    return clean(\n",
    "        s, fix_unicode=True, to_ascii=True, lower=False,\n",
    "        no_line_breaks=False, no_urls=False, no_emails=False, no_phone_numbers=False,\n",
    "        no_numbers=False, no_digits=False, no_currency_symbols=False,\n",
    "    )\n",
    "\n",
    "# Regex fallback if punkt still isn't available (keeps the pipeline running)\n",
    "_FALLBACK_TOKEN_RE = re.compile(r\"\\w+|[^\\w\\s]\")\n",
    "\n",
    "def pt_word_count(s: str) -> int:\n",
    "    try:\n",
    "        ensure_punkt()\n",
    "        return len(nltk.word_tokenize(s, language=\"portuguese\"))\n",
    "    except LookupError:\n",
    "        # last-resort fallback (not paper-perfect, but close)\n",
    "        return len(_FALLBACK_TOKEN_RE.findall(s))\n",
    "\n",
    "\n",
    "def add_length_column(ds, batch_size: int = 1000):\n",
    "    ensure_punkt()\n",
    "    def _lens(batch):\n",
    "        return {\"__len__\": [pt_word_count(t) for t in batch[\"text\"]]}\n",
    "    return ds.map(_lens, batched=True, batch_size=batch_size, num_proc=1)\n",
    "\n",
    "\n",
    "def iqr_bounds_from_lengths(lengths):\n",
    "    q1, q3 = np.percentile(lengths, 25), np.percentile(lengths, 75)\n",
    "    iqr = q3 - q1\n",
    "    return (q1 - 1.5*iqr, q3 + 1.5*iqr)\n",
    "\n",
    "def apply_iqr_filter_on_cached_lengths(ds, lo, hi):\n",
    "    ds = ds.filter(lambda L: lo <= L <= hi, input_columns=\"__len__\")\n",
    "    return ds.remove_columns([\"__len__\"])\n",
    "\n",
    "# jusText boilerplate removal (paper: only for Web)\n",
    "def web_justext(text: str) -> str:\n",
    "    import justext\n",
    "    paras = justext.justext(text, justext.get_stoplist(\"Portuguese\"))\n",
    "    good = [p.text for p in paras if p.class_type == \"good\"]\n",
    "    return \"\\n\".join(good) if good else text\n",
    "\n",
    "def apply_clean_text_unicode_only(s: str) -> str:\n",
    "    # Keep accents; still fix bad unicode\n",
    "    from cleantext import clean\n",
    "    return clean(\n",
    "        s,\n",
    "        fix_unicode=True,\n",
    "        to_ascii=False,   # <-- keep accents\n",
    "        lower=False,\n",
    "        no_line_breaks=False,\n",
    "        no_urls=False, no_emails=False, no_phone_numbers=False,\n",
    "        no_numbers=False, no_digits=False, no_currency_symbols=False,\n",
    "    )\n",
    "\n",
    "# ----------------------------\n",
    "# Integrated pipeline\n",
    "# ----------------------------\n",
    "def clean_one_domain(\n",
    "    domain: str,\n",
    "    use_author_transforms: bool = True,\n",
    "    run_web_justext: bool = True,\n",
    "    apply_author_filters: bool = True,\n",
    "    keep_accents: bool = True,\n",
    "    num_proc: int = 1,\n",
    "    batch_size: int = 1000,\n",
    "):\n",
    "    \"\"\"\n",
    "    Paper pipeline + optional author steps, memory-safe:\n",
    "      1) drop NaNs/empties\n",
    "      2) jusText for Web (paper)\n",
    "      3) author's transform chain (URLs/HTML/etc.)\n",
    "      4) clean-text -> ASCII (paper)\n",
    "      5) de-dup (streaming, hash-based)\n",
    "      6) optional author filters (no tokenizer)\n",
    "      7) add cached token lengths (NLTK), compute IQR, filter, drop length col (paper)\n",
    "    \"\"\"\n",
    "    ds = load_dataset(\"liaad/PtBrVId-Raw\", domain, split=\"train\")\n",
    "\n",
    "    ds = drop_nans_and_empties(ds)\n",
    "\n",
    "    if run_web_justext and domain == \"web\":\n",
    "        ds = ds.map(lambda x: {\"text\": web_justext(x[\"text\"])}, num_proc=num_proc, batched=False)\n",
    "\n",
    "    # 3) author's transform chain (pure text cleanup)\n",
    "    if use_author_transforms:\n",
    "        ds = ds.map(lambda x: {\"text\": author_transform_chain(x[\"text\"])}, num_proc=num_proc, batched=False)\n",
    "\n",
    "    # 4) clean-text step — choose whether to preserve accents\n",
    "    if keep_accents:\n",
    "        ds = ds.map(lambda x: {\"text\": apply_clean_text_unicode_only(x[\"text\"])}, num_proc=num_proc, batched=False)\n",
    "    else:\n",
    "        ds = ds.map(lambda x: {\"text\": apply_clean_text_ascii(x[\"text\"])}, num_proc=num_proc, batched=False)\n",
    "    ds = drop_exact_duplicates(ds, batch_size=batch_size)\n",
    "\n",
    "    if apply_author_filters:\n",
    "        ds = ds.filter(\n",
    "            lambda t: (not starts_with_month(t))\n",
    "                      and (not has_too_long_word(t))\n",
    "                      and (not has_invalid_start(t))\n",
    "                      and (not has_invalid_middle(t))\n",
    "                      and (not has_invalid_end(t))\n",
    "                      and (not has_more_than_three_points(t))\n",
    "                      and (not is_empty(t))\n",
    "                      and (not has_invalid_character(t))\n",
    "                      and has_valid_brackets(t)\n",
    "                      and has_valid_quotes(t),\n",
    "            input_columns=\"text\",\n",
    "            num_proc=num_proc\n",
    "        )\n",
    "\n",
    "    # Cache token lengths once, then IQR-filter\n",
    "    ds = add_length_column(ds, batch_size=batch_size)\n",
    "    lo, hi = iqr_bounds_from_lengths(ds[\"__len__\"])\n",
    "    ds = apply_iqr_filter_on_cached_lengths(ds, lo, hi)\n",
    "\n",
    "    return ds\n"
   ]
  },
  {
   "cell_type": "code",
   "execution_count": 2,
   "id": "4967a542",
   "metadata": {},
   "outputs": [
    {
     "name": "stderr",
     "output_type": "stream",
     "text": [
      "[nltk_data] Downloading package punkt to\n",
      "[nltk_data]     /home/laiarodrigo/nltk_data...\n",
      "[nltk_data]   Unzipping tokenizers/punkt.zip.\n",
      "[nltk_data] Downloading package punkt_tab to\n",
      "[nltk_data]     /home/laiarodrigo/nltk_data...\n"
     ]
    },
    {
     "name": "stdout",
     "output_type": "stream",
     "text": [
      "NLTK paths: ['/home/laiarodrigo/nltk_data', '/home/laiarodrigo/repos/Thesis/thesis/nltk_data', '/home/laiarodrigo/repos/Thesis/thesis/share/nltk_data', '/home/laiarodrigo/repos/Thesis/thesis/lib/nltk_data', '/usr/share/nltk_data', '/usr/local/share/nltk_data', '/usr/lib/nltk_data', '/usr/local/lib/nltk_data']\n",
      "Has package dir?  True\n",
      "['Olá', 'mundo', '!', 'Isto', 'é', 'um', 'teste', '.']\n"
     ]
    },
    {
     "name": "stderr",
     "output_type": "stream",
     "text": [
      "[nltk_data]   Unzipping tokenizers/punkt_tab.zip.\n"
     ]
    }
   ],
   "source": [
    "import os, nltk, pathlib\n",
    "\n",
    "# 1) Pick a single directory and make NLTK look there\n",
    "NLTK_USER_DIR = os.path.expanduser(\"~/nltk_data\")\n",
    "os.environ[\"NLTK_DATA\"] = NLTK_USER_DIR  # ensure child processes see it too\n",
    "if NLTK_USER_DIR not in nltk.data.path:\n",
    "    nltk.data.path.insert(0, NLTK_USER_DIR)\n",
    "\n",
    "# 2) Force-reinstall punkt + punkt_tab into that directory\n",
    "nltk.download(\"punkt\", download_dir=NLTK_USER_DIR, force=True, quiet=False)\n",
    "# Newer NLTK also needs this metadata package\n",
    "try:\n",
    "    nltk.download(\"punkt_tab\", download_dir=NLTK_USER_DIR, force=True, quiet=False)\n",
    "except Exception:\n",
    "    pass  # older NLTK won't have it\n",
    "\n",
    "# 3) Verify both the PACKAGE and the Portuguese model are visible\n",
    "print(\"NLTK paths:\", nltk.data.path)\n",
    "print(\"Has package dir? \", pathlib.Path(NLTK_USER_DIR, \"tokenizers\", \"punkt\").exists())\n",
    "nltk.data.find(\"tokenizers/punkt\")                       # should NOT raise\n",
    "nltk.data.find(\"tokenizers/punkt/portuguese.pickle\")     # should NOT raise\n",
    "\n",
    "# Quick smoke test\n",
    "from nltk import word_tokenize\n",
    "print(word_tokenize(\"Olá mundo! Isto é um teste.\", language=\"portuguese\"))\n",
    "\n"
   ]
  },
  {
   "cell_type": "code",
   "execution_count": 5,
   "id": "596c8da9",
   "metadata": {},
   "outputs": [
    {
     "name": "stdout",
     "output_type": "stream",
     "text": [
      "Raw count: 1842804\n",
      "Cleaned count: 1696469\n",
      "————————————————————————————————————————————————————————————\n",
      "Cardoso e Cunha «Insatisfatório» O resultado do referendo francês é insatisfatório, tímido e modesto. Os problemas da Comunidade Europeia exigiam, da parte de um país que sempre esteve na linha da frente, uma vitória mais clara. A vitória tangencial do «sim» dá que pensar. Esta margem tão pequena que deu a vitória ao «sim» torna imprevisível o que vai acontecer na Grã-Bretanha.\n",
      "label: 0\n",
      "————————————————————————————————————————————————————————————\n",
      "Santo Tirso de fora Apesar da intenção das principais autarquias do Ave, para já Santo Tirso quer ficar de fora deste processo. Joaquim Couto, o presidente da edilidade tirsense, não está muito convencido da interesse das empresas e prefere concessionar alguns serviços a privados. É o caso da recolha e transporte dos lixos domésticos e da gestão e exploração do abastecimento de água. «A concessão a privados dá mais transparência à gestão da autarquia», referiu ao PÚBLICO o edil. Quanto às empresas públicas municipais, Couto duvida da sua utilidade e pergunta mesmo se valerá a pena autonomizar sem ter garantias de que não haverá um aumento das despesas e melhorias nos serviços. De resto, o autarca garante ainda que «a gestão privada das coisas tem-se mostrado mais eficiente para os dinheiros públicos». Em vez da legislação que permite a criação de empresas municipais, Couto preferia ter visto aprovada legislação que aumentasse o poder das câmaras e que lhes desse «mais autonomia financeira». «Neste campo, somos os últimos da Europa», refere, garantindo ainda que as verbas distribuídas pelo Estado às autarquias deveriam «triplicar». É que, diz, «nenhuma empresa funciona se não tiver uma lei de financiamento capaz». Emília Monteiro\n",
      "label: 0\n",
      "————————————————————————————————————————————————————————————\n",
      "«1 Rpm» é a abreviatura para «Uma Revolução por Minuto», e a respectiva tradução inglesa, uma vez que os LX-90 de Rui Pregal da Cunha e Pedro Paulo Gonçalves (ex-Heróis do Mar) vão editar não um, mas dois álbuns de estreia. Lembra a estratégia dos seus colegas de editora Guns N' Roses, até porque o que permitirá diferenciar os dois discos nos escaparates serão os contrastes de cores -- o roxo numa das capas é amarelo na outra e vice-versa. Mas as comparações acabam aí: ao contrário dos Roses, os discos dos LX-90 incluem as mesmas faixas, com a diferença de num disco elas surgirem cantadas em português e no outro em inglês. Como pode deduzir-se deste aparato, trata-se de um dos lançamentos mais ousados de sempre no capítulo da música feita no nosso país, e tem sido -- pelas próprias exigências que se fixou -- vítima de uma série de acidentes de percurso. Embora o disco começasse por ser gravado nos estúdios Exit, com a produção dos ingleses Sam e Danny, estes consideraram que faltavam ali máquinas indispensáveis, e o grupo mudou-se para os estúdios de Paço de Arcos da Valentim de Carvalho. Em Setembro, com a mesma dupla de produtores, a banda voou para Londres, no intuito de ultimar as misturas finais, tendo-se então avançado o princípio deste mês como data de edição do trabalho.\n",
      "label: 0\n"
     ]
    }
   ],
   "source": [
    "domain = \"journalistic\"\n",
    "\n",
    "raw_ds = load_dataset(\"liaad/PtBrVId-Raw\", domain, split=\"train\")\n",
    "print(\"Raw count:\", len(raw_ds))\n",
    "\n",
    "clean_ds = clean_one_domain(\n",
    "    domain=domain,\n",
    "    use_author_transforms=True,\n",
    "    run_web_justext=True,\n",
    "    apply_author_filters=True,\n",
    "    keep_accents=True,      # <-- important\n",
    "    num_proc=1,\n",
    "    batch_size=1000,\n",
    ")\n",
    "\n",
    "print(\"Cleaned count:\", len(clean_ds))\n",
    "for i in range(3):\n",
    "    print(\"—\"*60)\n",
    "    print(clean_ds[i][\"text\"])\n",
    "    print(\"label:\", clean_ds[i][\"label\"])\n",
    "\n"
   ]
  },
  {
   "cell_type": "code",
   "execution_count": 6,
   "id": "4edade04",
   "metadata": {},
   "outputs": [
    {
     "data": {
      "application/vnd.jupyter.widget-view+json": {
       "model_id": "551c33d8b2ba4f1998a6f505e1254bbe",
       "version_major": 2,
       "version_minor": 0
      },
      "text/plain": [
       "Map:   0%|          | 0/16965 [00:00<?, ? examples/s]"
      ]
     },
     "metadata": {},
     "output_type": "display_data"
    },
    {
     "data": {
      "application/vnd.jupyter.widget-view+json": {
       "model_id": "e1cbd38f4c3a43b6a4d87dc782518ab1",
       "version_major": 2,
       "version_minor": 0
      },
      "text/plain": [
       "Map:   0%|          | 0/16965 [00:00<?, ? examples/s]"
      ]
     },
     "metadata": {},
     "output_type": "display_data"
    },
    {
     "data": {
      "application/vnd.jupyter.widget-view+json": {
       "model_id": "0666d9487c4743d6b1c62abcd60134cf",
       "version_major": 2,
       "version_minor": 0
      },
      "text/plain": [
       "Map:   0%|          | 0/16965 [00:00<?, ? examples/s]"
      ]
     },
     "metadata": {},
     "output_type": "display_data"
    },
    {
     "data": {
      "application/vnd.jupyter.widget-view+json": {
       "model_id": "939d93107bcd45c4bb8949163fc0f717",
       "version_major": 2,
       "version_minor": 0
      },
      "text/plain": [
       "Map:   0%|          | 0/16965 [00:00<?, ? examples/s]"
      ]
     },
     "metadata": {},
     "output_type": "display_data"
    },
    {
     "data": {
      "application/vnd.jupyter.widget-view+json": {
       "model_id": "f80c18f9368a43e2b4c81988369a271a",
       "version_major": 2,
       "version_minor": 0
      },
      "text/plain": [
       "Map:   0%|          | 0/16965 [00:00<?, ? examples/s]"
      ]
     },
     "metadata": {},
     "output_type": "display_data"
    },
    {
     "data": {
      "application/vnd.jupyter.widget-view+json": {
       "model_id": "969274fac8b041b9bd3be7ec0b32a1c5",
       "version_major": 2,
       "version_minor": 0
      },
      "text/plain": [
       "Map:   0%|          | 0/16965 [00:00<?, ? examples/s]"
      ]
     },
     "metadata": {},
     "output_type": "display_data"
    },
    {
     "data": {
      "application/vnd.jupyter.widget-view+json": {
       "model_id": "e9589a77935244a8b77582309a640120",
       "version_major": 2,
       "version_minor": 0
      },
      "text/plain": [
       "Map:   0%|          | 0/16965 [00:00<?, ? examples/s]"
      ]
     },
     "metadata": {},
     "output_type": "display_data"
    },
    {
     "data": {
      "application/vnd.jupyter.widget-view+json": {
       "model_id": "cbf4a26ffe8d45da949ce05081234529",
       "version_major": 2,
       "version_minor": 0
      },
      "text/plain": [
       "Map:   0%|          | 0/16965 [00:00<?, ? examples/s]"
      ]
     },
     "metadata": {},
     "output_type": "display_data"
    },
    {
     "data": {
      "application/vnd.jupyter.widget-view+json": {
       "model_id": "50e3fe250d85402285e91a423405dc13",
       "version_major": 2,
       "version_minor": 0
      },
      "text/plain": [
       "Map:   0%|          | 0/16965 [00:00<?, ? examples/s]"
      ]
     },
     "metadata": {},
     "output_type": "display_data"
    },
    {
     "data": {
      "application/vnd.jupyter.widget-view+json": {
       "model_id": "3173527fd1ea491ba5e793a8382884c5",
       "version_major": 2,
       "version_minor": 0
      },
      "text/plain": [
       "Map:   0%|          | 0/16965 [00:00<?, ? examples/s]"
      ]
     },
     "metadata": {},
     "output_type": "display_data"
    },
    {
     "data": {
      "application/vnd.jupyter.widget-view+json": {
       "model_id": "90a584bd6fde46d5b425995701b36b53",
       "version_major": 2,
       "version_minor": 0
      },
      "text/plain": [
       "Map:   0%|          | 0/16965 [00:00<?, ? examples/s]"
      ]
     },
     "metadata": {},
     "output_type": "display_data"
    },
    {
     "data": {
      "application/vnd.jupyter.widget-view+json": {
       "model_id": "b13cebe294b34092ba792899e3cc540e",
       "version_major": 2,
       "version_minor": 0
      },
      "text/plain": [
       "Map:   0%|          | 0/16965 [00:00<?, ? examples/s]"
      ]
     },
     "metadata": {},
     "output_type": "display_data"
    },
    {
     "data": {
      "application/vnd.jupyter.widget-view+json": {
       "model_id": "28b17bd54f7743acbabcccee7e6f5496",
       "version_major": 2,
       "version_minor": 0
      },
      "text/plain": [
       "Map:   0%|          | 0/16965 [00:00<?, ? examples/s]"
      ]
     },
     "metadata": {},
     "output_type": "display_data"
    },
    {
     "data": {
      "application/vnd.jupyter.widget-view+json": {
       "model_id": "64a92b7a466e487bac033df13310ae9f",
       "version_major": 2,
       "version_minor": 0
      },
      "text/plain": [
       "Map:   0%|          | 0/16965 [00:00<?, ? examples/s]"
      ]
     },
     "metadata": {},
     "output_type": "display_data"
    },
    {
     "data": {
      "application/vnd.jupyter.widget-view+json": {
       "model_id": "8495d8bcb4604179add0efd6dcaef85c",
       "version_major": 2,
       "version_minor": 0
      },
      "text/plain": [
       "Map:   0%|          | 0/16965 [00:00<?, ? examples/s]"
      ]
     },
     "metadata": {},
     "output_type": "display_data"
    },
    {
     "data": {
      "application/vnd.jupyter.widget-view+json": {
       "model_id": "d365bc5bdfe8473380cf61728e4459be",
       "version_major": 2,
       "version_minor": 0
      },
      "text/plain": [
       "Map:   0%|          | 0/16965 [00:00<?, ? examples/s]"
      ]
     },
     "metadata": {},
     "output_type": "display_data"
    },
    {
     "data": {
      "application/vnd.jupyter.widget-view+json": {
       "model_id": "05b8ced0cca146fba54677c0d9fecdbd",
       "version_major": 2,
       "version_minor": 0
      },
      "text/plain": [
       "Map:   0%|          | 0/16965 [00:00<?, ? examples/s]"
      ]
     },
     "metadata": {},
     "output_type": "display_data"
    },
    {
     "data": {
      "application/vnd.jupyter.widget-view+json": {
       "model_id": "692fb6abac444b7f97bbc793698812a6",
       "version_major": 2,
       "version_minor": 0
      },
      "text/plain": [
       "Map:   0%|          | 0/16965 [00:00<?, ? examples/s]"
      ]
     },
     "metadata": {},
     "output_type": "display_data"
    },
    {
     "data": {
      "application/vnd.jupyter.widget-view+json": {
       "model_id": "8ee6a1e183754d64a226badd3d24e4e3",
       "version_major": 2,
       "version_minor": 0
      },
      "text/plain": [
       "Map:   0%|          | 0/16965 [00:00<?, ? examples/s]"
      ]
     },
     "metadata": {},
     "output_type": "display_data"
    },
    {
     "data": {
      "application/vnd.jupyter.widget-view+json": {
       "model_id": "f9d94d78a4fe47a3bf91ccbe58b8ac40",
       "version_major": 2,
       "version_minor": 0
      },
      "text/plain": [
       "Map:   0%|          | 0/16965 [00:00<?, ? examples/s]"
      ]
     },
     "metadata": {},
     "output_type": "display_data"
    },
    {
     "data": {
      "application/vnd.jupyter.widget-view+json": {
       "model_id": "e47628d29bd44a10a4fb01fa5eb9eff0",
       "version_major": 2,
       "version_minor": 0
      },
      "text/plain": [
       "Map:   0%|          | 0/16965 [00:00<?, ? examples/s]"
      ]
     },
     "metadata": {},
     "output_type": "display_data"
    },
    {
     "data": {
      "application/vnd.jupyter.widget-view+json": {
       "model_id": "57c8c873b8c74100ac00912ed41a4835",
       "version_major": 2,
       "version_minor": 0
      },
      "text/plain": [
       "Map:   0%|          | 0/16965 [00:00<?, ? examples/s]"
      ]
     },
     "metadata": {},
     "output_type": "display_data"
    },
    {
     "data": {
      "application/vnd.jupyter.widget-view+json": {
       "model_id": "b7132fd2d6224f0899fcea66cb4c41ba",
       "version_major": 2,
       "version_minor": 0
      },
      "text/plain": [
       "Map:   0%|          | 0/16965 [00:00<?, ? examples/s]"
      ]
     },
     "metadata": {},
     "output_type": "display_data"
    },
    {
     "data": {
      "application/vnd.jupyter.widget-view+json": {
       "model_id": "2ca07a8bee384bb4be593b4bd239d810",
       "version_major": 2,
       "version_minor": 0
      },
      "text/plain": [
       "Map:   0%|          | 0/16965 [00:00<?, ? examples/s]"
      ]
     },
     "metadata": {},
     "output_type": "display_data"
    },
    {
     "data": {
      "application/vnd.jupyter.widget-view+json": {
       "model_id": "4a336df8034e4b24a05aaa735c39cb3e",
       "version_major": 2,
       "version_minor": 0
      },
      "text/plain": [
       "Map:   0%|          | 0/16965 [00:00<?, ? examples/s]"
      ]
     },
     "metadata": {},
     "output_type": "display_data"
    },
    {
     "data": {
      "application/vnd.jupyter.widget-view+json": {
       "model_id": "739dd8cd6dd84d07abc005611dcf9efd",
       "version_major": 2,
       "version_minor": 0
      },
      "text/plain": [
       "Map:   0%|          | 0/16965 [00:00<?, ? examples/s]"
      ]
     },
     "metadata": {},
     "output_type": "display_data"
    },
    {
     "data": {
      "application/vnd.jupyter.widget-view+json": {
       "model_id": "5d88128ddba946c398bb1d99ba78ae2d",
       "version_major": 2,
       "version_minor": 0
      },
      "text/plain": [
       "Map:   0%|          | 0/16965 [00:00<?, ? examples/s]"
      ]
     },
     "metadata": {},
     "output_type": "display_data"
    },
    {
     "data": {
      "application/vnd.jupyter.widget-view+json": {
       "model_id": "7a9a23533e454fa5b270c7a78d09f9e2",
       "version_major": 2,
       "version_minor": 0
      },
      "text/plain": [
       "Map:   0%|          | 0/16965 [00:00<?, ? examples/s]"
      ]
     },
     "metadata": {},
     "output_type": "display_data"
    },
    {
     "data": {
      "application/vnd.jupyter.widget-view+json": {
       "model_id": "159a6421033e45f9a7fe62d0e0fd7043",
       "version_major": 2,
       "version_minor": 0
      },
      "text/plain": [
       "Map:   0%|          | 0/16965 [00:00<?, ? examples/s]"
      ]
     },
     "metadata": {},
     "output_type": "display_data"
    },
    {
     "data": {
      "application/vnd.jupyter.widget-view+json": {
       "model_id": "4c0c6acc537e4591ad3efde7311b5012",
       "version_major": 2,
       "version_minor": 0
      },
      "text/plain": [
       "Map:   0%|          | 0/16965 [00:00<?, ? examples/s]"
      ]
     },
     "metadata": {},
     "output_type": "display_data"
    },
    {
     "data": {
      "application/vnd.jupyter.widget-view+json": {
       "model_id": "f1978e53797444fbbf64ec4b1144e2dd",
       "version_major": 2,
       "version_minor": 0
      },
      "text/plain": [
       "Map:   0%|          | 0/16965 [00:00<?, ? examples/s]"
      ]
     },
     "metadata": {},
     "output_type": "display_data"
    },
    {
     "data": {
      "application/vnd.jupyter.widget-view+json": {
       "model_id": "a5515c5c0d38416fa1d05dc5f6ffe385",
       "version_major": 2,
       "version_minor": 0
      },
      "text/plain": [
       "Map:   0%|          | 0/16965 [00:00<?, ? examples/s]"
      ]
     },
     "metadata": {},
     "output_type": "display_data"
    },
    {
     "data": {
      "application/vnd.jupyter.widget-view+json": {
       "model_id": "ced782beecb646adad33087acc4cfbf9",
       "version_major": 2,
       "version_minor": 0
      },
      "text/plain": [
       "Map:   0%|          | 0/16965 [00:00<?, ? examples/s]"
      ]
     },
     "metadata": {},
     "output_type": "display_data"
    },
    {
     "data": {
      "application/vnd.jupyter.widget-view+json": {
       "model_id": "fc57605d09224ef0b1e2142b28244015",
       "version_major": 2,
       "version_minor": 0
      },
      "text/plain": [
       "Map:   0%|          | 0/16965 [00:00<?, ? examples/s]"
      ]
     },
     "metadata": {},
     "output_type": "display_data"
    },
    {
     "data": {
      "application/vnd.jupyter.widget-view+json": {
       "model_id": "fc5cffd3548140f491130205cfb2dcdf",
       "version_major": 2,
       "version_minor": 0
      },
      "text/plain": [
       "Map:   0%|          | 0/16965 [00:00<?, ? examples/s]"
      ]
     },
     "metadata": {},
     "output_type": "display_data"
    },
    {
     "data": {
      "application/vnd.jupyter.widget-view+json": {
       "model_id": "75dc3e99304a4634bdcd6d20bde5e23e",
       "version_major": 2,
       "version_minor": 0
      },
      "text/plain": [
       "Map:   0%|          | 0/16965 [00:00<?, ? examples/s]"
      ]
     },
     "metadata": {},
     "output_type": "display_data"
    },
    {
     "data": {
      "application/vnd.jupyter.widget-view+json": {
       "model_id": "97a546f5aac14c9d8ccd88866aface14",
       "version_major": 2,
       "version_minor": 0
      },
      "text/plain": [
       "Map:   0%|          | 0/16965 [00:00<?, ? examples/s]"
      ]
     },
     "metadata": {},
     "output_type": "display_data"
    },
    {
     "data": {
      "application/vnd.jupyter.widget-view+json": {
       "model_id": "ee63c398e8d041da95a76bd9e7f72c84",
       "version_major": 2,
       "version_minor": 0
      },
      "text/plain": [
       "Map:   0%|          | 0/16965 [00:00<?, ? examples/s]"
      ]
     },
     "metadata": {},
     "output_type": "display_data"
    },
    {
     "data": {
      "application/vnd.jupyter.widget-view+json": {
       "model_id": "d83878abe8c744549a814d91ec47ce1f",
       "version_major": 2,
       "version_minor": 0
      },
      "text/plain": [
       "Map:   0%|          | 0/16965 [00:00<?, ? examples/s]"
      ]
     },
     "metadata": {},
     "output_type": "display_data"
    },
    {
     "data": {
      "application/vnd.jupyter.widget-view+json": {
       "model_id": "bf4a603307674eaca235976fa5125c7e",
       "version_major": 2,
       "version_minor": 0
      },
      "text/plain": [
       "Map:   0%|          | 0/16965 [00:00<?, ? examples/s]"
      ]
     },
     "metadata": {},
     "output_type": "display_data"
    },
    {
     "data": {
      "application/vnd.jupyter.widget-view+json": {
       "model_id": "a024ab66c07e43799939a9ff46fe4cfb",
       "version_major": 2,
       "version_minor": 0
      },
      "text/plain": [
       "Map:   0%|          | 0/16965 [00:00<?, ? examples/s]"
      ]
     },
     "metadata": {},
     "output_type": "display_data"
    },
    {
     "data": {
      "application/vnd.jupyter.widget-view+json": {
       "model_id": "6c95c89a816940bfa2853220a3385c20",
       "version_major": 2,
       "version_minor": 0
      },
      "text/plain": [
       "Map:   0%|          | 0/16965 [00:00<?, ? examples/s]"
      ]
     },
     "metadata": {},
     "output_type": "display_data"
    },
    {
     "data": {
      "application/vnd.jupyter.widget-view+json": {
       "model_id": "7a7c3040cc8846499b4f0aed5e6132d7",
       "version_major": 2,
       "version_minor": 0
      },
      "text/plain": [
       "Map:   0%|          | 0/16965 [00:00<?, ? examples/s]"
      ]
     },
     "metadata": {},
     "output_type": "display_data"
    },
    {
     "data": {
      "application/vnd.jupyter.widget-view+json": {
       "model_id": "073bad8edc36446c8462bcc1cea83808",
       "version_major": 2,
       "version_minor": 0
      },
      "text/plain": [
       "Map:   0%|          | 0/16965 [00:00<?, ? examples/s]"
      ]
     },
     "metadata": {},
     "output_type": "display_data"
    },
    {
     "data": {
      "application/vnd.jupyter.widget-view+json": {
       "model_id": "04b6d34b995045b9bed03c192da53028",
       "version_major": 2,
       "version_minor": 0
      },
      "text/plain": [
       "Map:   0%|          | 0/16965 [00:00<?, ? examples/s]"
      ]
     },
     "metadata": {},
     "output_type": "display_data"
    },
    {
     "data": {
      "application/vnd.jupyter.widget-view+json": {
       "model_id": "4f590e976a884619b0b7a4d69bced04f",
       "version_major": 2,
       "version_minor": 0
      },
      "text/plain": [
       "Map:   0%|          | 0/16965 [00:00<?, ? examples/s]"
      ]
     },
     "metadata": {},
     "output_type": "display_data"
    },
    {
     "data": {
      "application/vnd.jupyter.widget-view+json": {
       "model_id": "4b77d0bc96cc473f8eb7f0632e0d09f7",
       "version_major": 2,
       "version_minor": 0
      },
      "text/plain": [
       "Map:   0%|          | 0/16965 [00:00<?, ? examples/s]"
      ]
     },
     "metadata": {},
     "output_type": "display_data"
    },
    {
     "data": {
      "application/vnd.jupyter.widget-view+json": {
       "model_id": "5475441a300a4ebda4ebb92bec581c13",
       "version_major": 2,
       "version_minor": 0
      },
      "text/plain": [
       "Map:   0%|          | 0/16965 [00:00<?, ? examples/s]"
      ]
     },
     "metadata": {},
     "output_type": "display_data"
    },
    {
     "data": {
      "application/vnd.jupyter.widget-view+json": {
       "model_id": "57d38e93d9bb417fa1c56b9ca4faff68",
       "version_major": 2,
       "version_minor": 0
      },
      "text/plain": [
       "Map:   0%|          | 0/16965 [00:00<?, ? examples/s]"
      ]
     },
     "metadata": {},
     "output_type": "display_data"
    },
    {
     "data": {
      "application/vnd.jupyter.widget-view+json": {
       "model_id": "267bd7a71159419c9191e26e9767e412",
       "version_major": 2,
       "version_minor": 0
      },
      "text/plain": [
       "Map:   0%|          | 0/16965 [00:00<?, ? examples/s]"
      ]
     },
     "metadata": {},
     "output_type": "display_data"
    },
    {
     "data": {
      "application/vnd.jupyter.widget-view+json": {
       "model_id": "ea6d3148114848438577e7b244c0a843",
       "version_major": 2,
       "version_minor": 0
      },
      "text/plain": [
       "Map:   0%|          | 0/16965 [00:00<?, ? examples/s]"
      ]
     },
     "metadata": {},
     "output_type": "display_data"
    },
    {
     "data": {
      "application/vnd.jupyter.widget-view+json": {
       "model_id": "169e7c13a1aa462ead57b0891746e477",
       "version_major": 2,
       "version_minor": 0
      },
      "text/plain": [
       "Map:   0%|          | 0/16965 [00:00<?, ? examples/s]"
      ]
     },
     "metadata": {},
     "output_type": "display_data"
    },
    {
     "data": {
      "application/vnd.jupyter.widget-view+json": {
       "model_id": "70091307de1c47379a5d173b91f70f07",
       "version_major": 2,
       "version_minor": 0
      },
      "text/plain": [
       "Map:   0%|          | 0/16965 [00:00<?, ? examples/s]"
      ]
     },
     "metadata": {},
     "output_type": "display_data"
    },
    {
     "data": {
      "application/vnd.jupyter.widget-view+json": {
       "model_id": "3a780b9d2b504942b9bb44253fff7aad",
       "version_major": 2,
       "version_minor": 0
      },
      "text/plain": [
       "Map:   0%|          | 0/16965 [00:00<?, ? examples/s]"
      ]
     },
     "metadata": {},
     "output_type": "display_data"
    },
    {
     "data": {
      "application/vnd.jupyter.widget-view+json": {
       "model_id": "abd8b2396dcc42359368f061a9d0215f",
       "version_major": 2,
       "version_minor": 0
      },
      "text/plain": [
       "Map:   0%|          | 0/16965 [00:00<?, ? examples/s]"
      ]
     },
     "metadata": {},
     "output_type": "display_data"
    },
    {
     "data": {
      "application/vnd.jupyter.widget-view+json": {
       "model_id": "a01fd4b95e5c443b9fdc7192b8a3f89a",
       "version_major": 2,
       "version_minor": 0
      },
      "text/plain": [
       "Map:   0%|          | 0/16965 [00:00<?, ? examples/s]"
      ]
     },
     "metadata": {},
     "output_type": "display_data"
    },
    {
     "data": {
      "application/vnd.jupyter.widget-view+json": {
       "model_id": "3f7c62e106b74ced9b5a5fd1f040e31b",
       "version_major": 2,
       "version_minor": 0
      },
      "text/plain": [
       "Map:   0%|          | 0/16965 [00:00<?, ? examples/s]"
      ]
     },
     "metadata": {},
     "output_type": "display_data"
    },
    {
     "data": {
      "application/vnd.jupyter.widget-view+json": {
       "model_id": "f18f2bd1816d49c589690863ff5c58d0",
       "version_major": 2,
       "version_minor": 0
      },
      "text/plain": [
       "Map:   0%|          | 0/16965 [00:00<?, ? examples/s]"
      ]
     },
     "metadata": {},
     "output_type": "display_data"
    },
    {
     "data": {
      "application/vnd.jupyter.widget-view+json": {
       "model_id": "0ba34798785b46799bc375ff7e53f3c0",
       "version_major": 2,
       "version_minor": 0
      },
      "text/plain": [
       "Map:   0%|          | 0/16965 [00:00<?, ? examples/s]"
      ]
     },
     "metadata": {},
     "output_type": "display_data"
    },
    {
     "data": {
      "application/vnd.jupyter.widget-view+json": {
       "model_id": "318239533b034f15ab5d1b18a6878f6b",
       "version_major": 2,
       "version_minor": 0
      },
      "text/plain": [
       "Map:   0%|          | 0/16965 [00:00<?, ? examples/s]"
      ]
     },
     "metadata": {},
     "output_type": "display_data"
    },
    {
     "data": {
      "application/vnd.jupyter.widget-view+json": {
       "model_id": "953448c2cf6c4f549a5ec765cd75f322",
       "version_major": 2,
       "version_minor": 0
      },
      "text/plain": [
       "Map:   0%|          | 0/16965 [00:00<?, ? examples/s]"
      ]
     },
     "metadata": {},
     "output_type": "display_data"
    },
    {
     "data": {
      "application/vnd.jupyter.widget-view+json": {
       "model_id": "1be0dd48935a4163af0527afcaaa1c6a",
       "version_major": 2,
       "version_minor": 0
      },
      "text/plain": [
       "Map:   0%|          | 0/16965 [00:00<?, ? examples/s]"
      ]
     },
     "metadata": {},
     "output_type": "display_data"
    },
    {
     "data": {
      "application/vnd.jupyter.widget-view+json": {
       "model_id": "efa07661953c406abc98931ae3037e6c",
       "version_major": 2,
       "version_minor": 0
      },
      "text/plain": [
       "Map:   0%|          | 0/16965 [00:00<?, ? examples/s]"
      ]
     },
     "metadata": {},
     "output_type": "display_data"
    },
    {
     "data": {
      "application/vnd.jupyter.widget-view+json": {
       "model_id": "e1cb6397d0a7486ab8a2e2b1645aea24",
       "version_major": 2,
       "version_minor": 0
      },
      "text/plain": [
       "Map:   0%|          | 0/16965 [00:00<?, ? examples/s]"
      ]
     },
     "metadata": {},
     "output_type": "display_data"
    },
    {
     "data": {
      "application/vnd.jupyter.widget-view+json": {
       "model_id": "476e87c9b828443bb8016d0c4bbde46a",
       "version_major": 2,
       "version_minor": 0
      },
      "text/plain": [
       "Map:   0%|          | 0/16965 [00:00<?, ? examples/s]"
      ]
     },
     "metadata": {},
     "output_type": "display_data"
    },
    {
     "data": {
      "application/vnd.jupyter.widget-view+json": {
       "model_id": "58e001fa8eb245dc95628ef28d6b4a1b",
       "version_major": 2,
       "version_minor": 0
      },
      "text/plain": [
       "Map:   0%|          | 0/16965 [00:00<?, ? examples/s]"
      ]
     },
     "metadata": {},
     "output_type": "display_data"
    },
    {
     "data": {
      "application/vnd.jupyter.widget-view+json": {
       "model_id": "4fe61aa9c9194762a42d96256740b274",
       "version_major": 2,
       "version_minor": 0
      },
      "text/plain": [
       "Map:   0%|          | 0/16965 [00:00<?, ? examples/s]"
      ]
     },
     "metadata": {},
     "output_type": "display_data"
    },
    {
     "data": {
      "application/vnd.jupyter.widget-view+json": {
       "model_id": "5bb1252a1928432cb6afa40e63371e33",
       "version_major": 2,
       "version_minor": 0
      },
      "text/plain": [
       "Map:   0%|          | 0/16965 [00:00<?, ? examples/s]"
      ]
     },
     "metadata": {},
     "output_type": "display_data"
    },
    {
     "data": {
      "application/vnd.jupyter.widget-view+json": {
       "model_id": "adc7702b9e3b4739b1a279f477437634",
       "version_major": 2,
       "version_minor": 0
      },
      "text/plain": [
       "Map:   0%|          | 0/16965 [00:00<?, ? examples/s]"
      ]
     },
     "metadata": {},
     "output_type": "display_data"
    },
    {
     "data": {
      "application/vnd.jupyter.widget-view+json": {
       "model_id": "c6831a67a2504d589ae7b6e81af5d665",
       "version_major": 2,
       "version_minor": 0
      },
      "text/plain": [
       "Map:   0%|          | 0/16964 [00:00<?, ? examples/s]"
      ]
     },
     "metadata": {},
     "output_type": "display_data"
    },
    {
     "data": {
      "application/vnd.jupyter.widget-view+json": {
       "model_id": "d4b2fd8ac5044fbc837866e9cbb38802",
       "version_major": 2,
       "version_minor": 0
      },
      "text/plain": [
       "Map:   0%|          | 0/16964 [00:00<?, ? examples/s]"
      ]
     },
     "metadata": {},
     "output_type": "display_data"
    },
    {
     "data": {
      "application/vnd.jupyter.widget-view+json": {
       "model_id": "113d7c03af864970bb913d91b10063bb",
       "version_major": 2,
       "version_minor": 0
      },
      "text/plain": [
       "Map:   0%|          | 0/16964 [00:00<?, ? examples/s]"
      ]
     },
     "metadata": {},
     "output_type": "display_data"
    },
    {
     "data": {
      "application/vnd.jupyter.widget-view+json": {
       "model_id": "5b8e827b2ad34fb2904ca025cae8eef9",
       "version_major": 2,
       "version_minor": 0
      },
      "text/plain": [
       "Map:   0%|          | 0/16964 [00:00<?, ? examples/s]"
      ]
     },
     "metadata": {},
     "output_type": "display_data"
    },
    {
     "data": {
      "application/vnd.jupyter.widget-view+json": {
       "model_id": "2aded36346ea42babece6d4ef03b7101",
       "version_major": 2,
       "version_minor": 0
      },
      "text/plain": [
       "Map:   0%|          | 0/16964 [00:00<?, ? examples/s]"
      ]
     },
     "metadata": {},
     "output_type": "display_data"
    },
    {
     "data": {
      "application/vnd.jupyter.widget-view+json": {
       "model_id": "0d312556b0cf4f67b2b931b401c959d3",
       "version_major": 2,
       "version_minor": 0
      },
      "text/plain": [
       "Map:   0%|          | 0/16964 [00:00<?, ? examples/s]"
      ]
     },
     "metadata": {},
     "output_type": "display_data"
    },
    {
     "data": {
      "application/vnd.jupyter.widget-view+json": {
       "model_id": "dcf60fbbb05642bca095553cdaf8232e",
       "version_major": 2,
       "version_minor": 0
      },
      "text/plain": [
       "Map:   0%|          | 0/16964 [00:00<?, ? examples/s]"
      ]
     },
     "metadata": {},
     "output_type": "display_data"
    },
    {
     "data": {
      "application/vnd.jupyter.widget-view+json": {
       "model_id": "05d24b9e386c4565b779883aee573172",
       "version_major": 2,
       "version_minor": 0
      },
      "text/plain": [
       "Map:   0%|          | 0/16964 [00:00<?, ? examples/s]"
      ]
     },
     "metadata": {},
     "output_type": "display_data"
    },
    {
     "data": {
      "application/vnd.jupyter.widget-view+json": {
       "model_id": "bef5d88f72864004b1cce1c9fc0ef8d6",
       "version_major": 2,
       "version_minor": 0
      },
      "text/plain": [
       "Map:   0%|          | 0/16964 [00:00<?, ? examples/s]"
      ]
     },
     "metadata": {},
     "output_type": "display_data"
    },
    {
     "data": {
      "application/vnd.jupyter.widget-view+json": {
       "model_id": "32c86e29ad7749d1baa8b78e494117df",
       "version_major": 2,
       "version_minor": 0
      },
      "text/plain": [
       "Map:   0%|          | 0/16964 [00:00<?, ? examples/s]"
      ]
     },
     "metadata": {},
     "output_type": "display_data"
    },
    {
     "data": {
      "application/vnd.jupyter.widget-view+json": {
       "model_id": "872631f5fff64da09662185960735540",
       "version_major": 2,
       "version_minor": 0
      },
      "text/plain": [
       "Map:   0%|          | 0/16964 [00:00<?, ? examples/s]"
      ]
     },
     "metadata": {},
     "output_type": "display_data"
    },
    {
     "data": {
      "application/vnd.jupyter.widget-view+json": {
       "model_id": "e0dc186bb9ef48f8a58e71145d5a2a6f",
       "version_major": 2,
       "version_minor": 0
      },
      "text/plain": [
       "Map:   0%|          | 0/16964 [00:00<?, ? examples/s]"
      ]
     },
     "metadata": {},
     "output_type": "display_data"
    },
    {
     "data": {
      "application/vnd.jupyter.widget-view+json": {
       "model_id": "39263152708f41518ff56df8adb1c728",
       "version_major": 2,
       "version_minor": 0
      },
      "text/plain": [
       "Map:   0%|          | 0/16964 [00:00<?, ? examples/s]"
      ]
     },
     "metadata": {},
     "output_type": "display_data"
    },
    {
     "data": {
      "application/vnd.jupyter.widget-view+json": {
       "model_id": "72dd601390244b8d83186f175af9fe75",
       "version_major": 2,
       "version_minor": 0
      },
      "text/plain": [
       "Map:   0%|          | 0/16964 [00:00<?, ? examples/s]"
      ]
     },
     "metadata": {},
     "output_type": "display_data"
    },
    {
     "data": {
      "application/vnd.jupyter.widget-view+json": {
       "model_id": "955fecd664904731885e8422f631f6f2",
       "version_major": 2,
       "version_minor": 0
      },
      "text/plain": [
       "Map:   0%|          | 0/16964 [00:00<?, ? examples/s]"
      ]
     },
     "metadata": {},
     "output_type": "display_data"
    },
    {
     "data": {
      "application/vnd.jupyter.widget-view+json": {
       "model_id": "652be0bec08a41d9bdf0e40c75ad711c",
       "version_major": 2,
       "version_minor": 0
      },
      "text/plain": [
       "Map:   0%|          | 0/16964 [00:00<?, ? examples/s]"
      ]
     },
     "metadata": {},
     "output_type": "display_data"
    },
    {
     "data": {
      "application/vnd.jupyter.widget-view+json": {
       "model_id": "ec68d087a07548829184b2ff3c691e2b",
       "version_major": 2,
       "version_minor": 0
      },
      "text/plain": [
       "Map:   0%|          | 0/16964 [00:00<?, ? examples/s]"
      ]
     },
     "metadata": {},
     "output_type": "display_data"
    },
    {
     "data": {
      "application/vnd.jupyter.widget-view+json": {
       "model_id": "28ad758f1ab64ffcb853be879cbaf702",
       "version_major": 2,
       "version_minor": 0
      },
      "text/plain": [
       "Map:   0%|          | 0/16964 [00:00<?, ? examples/s]"
      ]
     },
     "metadata": {},
     "output_type": "display_data"
    },
    {
     "data": {
      "application/vnd.jupyter.widget-view+json": {
       "model_id": "7fb6aa210e1e411599e85f3fbc71f14b",
       "version_major": 2,
       "version_minor": 0
      },
      "text/plain": [
       "Map:   0%|          | 0/16964 [00:00<?, ? examples/s]"
      ]
     },
     "metadata": {},
     "output_type": "display_data"
    },
    {
     "data": {
      "application/vnd.jupyter.widget-view+json": {
       "model_id": "e4a9b602e01049d8a7373eb3daddcdcc",
       "version_major": 2,
       "version_minor": 0
      },
      "text/plain": [
       "Map:   0%|          | 0/16964 [00:00<?, ? examples/s]"
      ]
     },
     "metadata": {},
     "output_type": "display_data"
    },
    {
     "data": {
      "application/vnd.jupyter.widget-view+json": {
       "model_id": "9743cf89ffb94bac9aac4d02c833fc2f",
       "version_major": 2,
       "version_minor": 0
      },
      "text/plain": [
       "Map:   0%|          | 0/16964 [00:00<?, ? examples/s]"
      ]
     },
     "metadata": {},
     "output_type": "display_data"
    },
    {
     "data": {
      "application/vnd.jupyter.widget-view+json": {
       "model_id": "be494fd6f9ad4a7a86da1d59cb7a5981",
       "version_major": 2,
       "version_minor": 0
      },
      "text/plain": [
       "Map:   0%|          | 0/16964 [00:00<?, ? examples/s]"
      ]
     },
     "metadata": {},
     "output_type": "display_data"
    },
    {
     "data": {
      "application/vnd.jupyter.widget-view+json": {
       "model_id": "2e1ae6e333b24f91824d3e8b6fd023d5",
       "version_major": 2,
       "version_minor": 0
      },
      "text/plain": [
       "Map:   0%|          | 0/16964 [00:00<?, ? examples/s]"
      ]
     },
     "metadata": {},
     "output_type": "display_data"
    },
    {
     "data": {
      "application/vnd.jupyter.widget-view+json": {
       "model_id": "fcacd2be89e7469397f90917197a7e92",
       "version_major": 2,
       "version_minor": 0
      },
      "text/plain": [
       "Map:   0%|          | 0/16964 [00:00<?, ? examples/s]"
      ]
     },
     "metadata": {},
     "output_type": "display_data"
    },
    {
     "data": {
      "application/vnd.jupyter.widget-view+json": {
       "model_id": "6f0864d8171f4ac9a925ca0708619d26",
       "version_major": 2,
       "version_minor": 0
      },
      "text/plain": [
       "Map:   0%|          | 0/16964 [00:00<?, ? examples/s]"
      ]
     },
     "metadata": {},
     "output_type": "display_data"
    },
    {
     "data": {
      "application/vnd.jupyter.widget-view+json": {
       "model_id": "c16798faaa4a4c9d8b81ac7312d0fe9f",
       "version_major": 2,
       "version_minor": 0
      },
      "text/plain": [
       "Map:   0%|          | 0/16964 [00:00<?, ? examples/s]"
      ]
     },
     "metadata": {},
     "output_type": "display_data"
    },
    {
     "data": {
      "application/vnd.jupyter.widget-view+json": {
       "model_id": "c2a2a9aa000b4d839ca07e4e47befd5e",
       "version_major": 2,
       "version_minor": 0
      },
      "text/plain": [
       "Map:   0%|          | 0/16964 [00:00<?, ? examples/s]"
      ]
     },
     "metadata": {},
     "output_type": "display_data"
    },
    {
     "data": {
      "application/vnd.jupyter.widget-view+json": {
       "model_id": "85f65aa2f1164c3b8d3650ea7fe5892f",
       "version_major": 2,
       "version_minor": 0
      },
      "text/plain": [
       "Map:   0%|          | 0/16964 [00:00<?, ? examples/s]"
      ]
     },
     "metadata": {},
     "output_type": "display_data"
    },
    {
     "data": {
      "application/vnd.jupyter.widget-view+json": {
       "model_id": "cc8836b1005d453fb7fee4d54377d7f6",
       "version_major": 2,
       "version_minor": 0
      },
      "text/plain": [
       "Map:   0%|          | 0/16964 [00:00<?, ? examples/s]"
      ]
     },
     "metadata": {},
     "output_type": "display_data"
    },
    {
     "data": {
      "application/vnd.jupyter.widget-view+json": {
       "model_id": "b161ed0821704cee9d12882448850d92",
       "version_major": 2,
       "version_minor": 0
      },
      "text/plain": [
       "Map:   0%|          | 0/16964 [00:00<?, ? examples/s]"
      ]
     },
     "metadata": {},
     "output_type": "display_data"
    },
    {
     "data": {
      "application/vnd.jupyter.widget-view+json": {
       "model_id": "cc9a7755d5cf4ae0b474cbac4117487c",
       "version_major": 2,
       "version_minor": 0
      },
      "text/plain": [
       "Map:   0%|          | 0/16964 [00:00<?, ? examples/s]"
      ]
     },
     "metadata": {},
     "output_type": "display_data"
    },
    {
     "name": "stdout",
     "output_type": "stream",
     "text": [
      "\n",
      "Comparing 20 random examples from 'journalistic':\n",
      "\n",
      "————————————————————————————————————————————————————————————————————————————————————————————————————\n",
      "[train] label=0  |  idx=109814\n",
      "OFFICIAL (ASCII):\n",
      "Siria desmente apelo oficial ao assassinio de Saddam \"AL-THAWRA\", um jornal oficial sirio, apelara sabado aos iraquianos para que assassinassem o Presidente Saddam Hussein, mas o ministro da Informacao, Mohamed Salman, disse de imediato que semelhante declaracao nao espelha uma posicao do seu Governo.\n",
      "\n",
      "CLEANED RAW (ACCENTED):\n",
      "Síria desmente apelo oficial ao assassínio de Saddam «AL-THAWRA», um jornal oficial sírio, apelara sábado aos iraquianos para que assassinassem o Presidente Saddam Hussein, mas o ministro da Informação, Mohamed Salman, disse de imediato que semelhante declaração não espelha uma posição do seu Governo.\n",
      "\n",
      "Has accents? True\n",
      "————————————————————————————————————————————————————————————————————————————————————————————————————\n",
      "[train] label=0  |  idx=561359\n",
      "OFFICIAL (ASCII):\n",
      "No final, venceu o projecto dos golfinhos do Adriatico, do Instituto Tethys de Pesquisas, visto pelo juri do premio como \"um modelo de educacao, associado com investigacao profissional e gestao\". Um dos principais resultados deste projecto foi a sua influencia na legislacao para a proteccao de golfinhos na costa da Croacia. Tambem dele resultou um \"codigo de conduta\" para barcos de recreio, alem de extensiva informacao cientifica sobre os cetaceos do Adriatico. Um segundo premio foi atribuido ao Fundo Mundial para Monumentos, com sede em Paris, pelo seu projecto de conservacao do castelo e do \n",
      "\n",
      "CLEANED RAW (ACCENTED):\n",
      "No final, venceu o projecto dos golfinhos do Adriático, do Instituto Tethys de Pesquisas, visto pelo júri do prémio como «um modelo de educação, associado com investigação profissional e gestão». Um dos principais resultados deste projecto foi a sua influência na legislação para a protecção de golfinhos na costa da Croácia. Também dele resultou um «código de conduta» para barcos de recreio, além de extensiva informação científica sobre os cetáceos do Adriático. Um segundo prémio foi atribuído ao Fundo Mundial para Monumentos, com sede em Paris, pelo seu projecto de conservação do castelo e do \n",
      "\n",
      "Has accents? True\n",
      "————————————————————————————————————————————————————————————————————————————————————————————————————\n",
      "[train] label=0  |  idx=182843\n",
      "OFFICIAL (ASCII):\n",
      "Instituto Monetario Europeu avalia convergencia nominal Seguranca Social agravara a divida publica A avaliacao do Instituto Monetario Europeu (IME) sobre os esforcos de convergencia nominal, nos doze meses terminados em Setembro passado, face as metas do Tratado de Maastricht para a criacao da moeda unica, e favoravel para a evolucao dos precos, mas frisa-se, mais uma vez, que os progressos nas contas publicas foram \"demasiado lentos\" ou mesmo negativos, como e o caso da Alemanha. Esta a conclusao que se retira do relatorio do IME, ontem disponibilizado, onde o IME alerta que, a manterem-se as\n",
      "\n",
      "CLEANED RAW (ACCENTED):\n",
      "Instituto Monetário Europeu avalia convergência nominal Segurança Social agravará a dívida pública A avaliação do Instituto Monetário Europeu (IME) sobre os esforços de convergência nominal, nos doze meses terminados em Setembro passado, face às metas do Tratado de Maastricht para a criação da moeda única, é favorável para a evolução dos preços, mas frisa-se, mais uma vez, que os progressos nas contas públicas foram «demasiado lentos» ou mesmo negativos, como é o caso da Alemanha. Esta a conclusão que se retira do relatório do IME, ontem disponibilizado, onde o IME alerta que, a manterem-se as\n",
      "\n",
      "Has accents? True\n",
      "————————————————————————————————————————————————————————————————————————————————————————————————————\n",
      "[train] label=1  |  idx=1612618\n",
      "OFFICIAL (ASCII):\n",
      "Com \"Isso ou Aquilo\" surgiu a questao: seria danca ou teatro? Marilena deu uma interpretacao pessoal a associacao das duas linguagens. \"Nao fiz exatamente pecas de teatro ou danca. Me apaixonava por autores ou personagens, como a escritora Clarice Lispector, Picasso ou o Ze Ninguem do psiquiatra alemao Wilhelm Reich e, aos poucos, idealizava roteiros, trilhas sonoras, espacos\", ela diz.\n",
      "\n",
      "CLEANED RAW (ACCENTED):\n",
      "Com «Isso ou Aquilo» surgiu a questão: seria dança ou teatro? Marilena deu uma interpretação pessoal à associação das duas linguagens. «Não fiz exatamente peças de teatro ou dança. Me apaixonava por autores ou personagens, como a escritora Clarice Lispector, Picasso ou o Zé Ninguém do psiquiatra alemão Wilhelm Reich e, aos poucos, idealizava roteiros, trilhas sonoras, espaços», ela diz.\n",
      "\n",
      "Has accents? True\n",
      "————————————————————————————————————————————————————————————————————————————————————————————————————\n",
      "[train] label=0  |  idx=854047\n",
      "OFFICIAL (ASCII):\n",
      "Entretanto, as bolsas de Hong Kong e Taipe estiveram encerradas, enquanto a generalidade dos mercados asiaticos terminaram em alta. Kuala Lumpur subiu 0,25 por cento, Singapura 1,54 por cento, Manila 1,24 por cento e Jacarta 1,87 por cento. Em Nova Iorque, o Dow Jones, depois de um fecho em queda na terca-feira, influenciado pela descida da Disney, registava, a meio da sessao de ontem, uma subida de 0,7 por cento e, duas horas depois, descia para os 0,6 por cento. Entretanto, a Reserva Federal voltou a reunir-se ontem, mas o cenario para a manutencao das taxas directoras mantem-se consensual.\n",
      "\n",
      "CLEANED RAW (ACCENTED):\n",
      "Entretanto, as bolsas de Hong Kong e Taipé estiveram encerradas, enquanto a generalidade dos mercados asiáticos terminaram em alta. Kuala Lumpur subiu 0,25 por cento, Singapura 1,54 por cento, Manila 1,24 por cento e Jacarta 1,87 por cento. Em Nova Iorque, o Dow Jones, depois de um fecho em queda na terça-feira, influenciado pela descida da Disney, registava, a meio da sessão de ontem, uma subida de 0,7 por cento e, duas horas depois, descia para os 0,6 por cento. Entretanto, a Reserva Federal voltou a reunir-se ontem, mas o cenário para a manutenção das taxas directoras mantém-se consensual.\n",
      "\n",
      "Has accents? True\n",
      "————————————————————————————————————————————————————————————————————————————————————————————————————\n",
      "[train] label=0  |  idx=559003\n",
      "OFFICIAL (ASCII):\n",
      "O primeiro-ministro jugoslavo, Vladislav Jovanovic disse a televisao estatal de Belgrado que a iniciativa conjunta franco-alema para a revitalizacao do processo para a paz na Bosnia-Herzegovina e \"bem-vinda\". \"Contudo, algumas das ideias discutidas no Luxemburgo nao sao totalmente claras e identificadas com precisao\", afirmou Jovanovic. E, comentando a proposta da continuacao da conferencia de Londres para a paz na ex-Jugoslavia, acrescentou que \"Belgrado nao esta preparada para participar numa conferencia deste tipo ate que as sancoes sejam levantadas e o nosso pais continue diplomaticamente \n",
      "\n",
      "CLEANED RAW (ACCENTED):\n",
      "O primeiro-ministro jugoslavo, Vladislav Jovanovic disse à televisão estatal de Belgrado que a iniciativa conjunta franco-alemã para a revitalização do processo para a paz na Bósnia-Herzegovina é «bem-vinda». «Contudo, algumas das ideias discutidas no Luxemburgo não são totalmente claras e identificadas com precisão», afirmou Jovanovic. E, comentando a proposta da continuação da conferência de Londres para a paz na ex-Jugoslávia, acrescentou que «Belgrado não está preparada para participar numa conferência deste tipo até que as sanções sejam levantadas e o nosso país continue diplomaticamente \n",
      "\n",
      "Has accents? True\n",
      "————————————————————————————————————————————————————————————————————————————————————————————————————\n",
      "[train] label=0  |  idx=225863\n",
      "OFFICIAL (ASCII):\n",
      "As autoridades sanitarias norte-americanas aprovaram o primeiro teste de despistagem do virus da sida na urina. A decisao podera permitir uma aceleracao dos programas de deteccao do virus nas populacoes dos paises em vias de desenvolvimento e em situacoes em que a sua deteccao no sangue nao e praticavel. O teste agora aprovado e fabricado pela Calypte Biomedical Corp., uma empresa com sede na California e que ja desenvolveu testes a urina para a despistagem de varias doencas sexualmente transmissiveis, entre outras. Segundo Darrell Cummings, do Los Angeles Gay and Lesbian Community Services Ce\n",
      "\n",
      "CLEANED RAW (ACCENTED):\n",
      "As autoridades sanitárias norte-americanas aprovaram o primeiro teste de despistagem do vírus da sida na urina. A decisão poderá permitir uma aceleração dos programas de detecção do vírus nas populações dos países em vias de desenvolvimento e em situações em que a sua detecção no sangue não é praticável. O teste agora aprovado é fabricado pela Calypte Biomedical Corp., uma empresa com sede na Califórnia e que já desenvolveu testes à urina para a despistagem de várias doenças sexualmente transmissíveis, entre outras. Segundo Darrell Cummings, do Los Angeles Gay and Lesbian Community Services Ce\n",
      "\n",
      "Has accents? True\n",
      "————————————————————————————————————————————————————————————————————————————————————————————————————\n",
      "[train] label=1  |  idx=1758469\n",
      "OFFICIAL (ASCII):\n",
      "Gostoso de guiar, o primeiro carro nacional a trazer o turbo de serie faz curvas com total neutralidade e apresentou distancias de frenagens muito boas. Travado a 100 km/h, por exemplo, parou em 33 metros, recorde entre os carros nacionais testados por Veiculos.\n",
      "\n",
      "CLEANED RAW (ACCENTED):\n",
      "Gostoso de guiar, o primeiro carro nacional a trazer o turbo de série faz curvas com total neutralidade e apresentou distâncias de frenagens muito boas. Travado a 100 km/h, por exemplo, parou em 33 metros, recorde entre os carros nacionais testados por Veículos.\n",
      "\n",
      "Has accents? True\n",
      "————————————————————————————————————————————————————————————————————————————————————————————————————\n",
      "[train] label=0  |  idx=80014\n",
      "OFFICIAL (ASCII):\n",
      "A ultima parte do texto dedica-se a questao da avaliacao, com os alunos a protestarem pelo facto de haver \"exames ostensivamente cotados para 18 valores\" e de nao saberem se, nas orais, \"sao avaliados pelo que dizem ou pelo seu curriculo\". Pede-se que sejam dados passos no sentido da avaliacao continua e reafirma-se a oposicao dos estudantes a decisao do conselho directivo de sobrepor as datas das segundas frequencias com as dos exames da primeira chamada. Este ponto, dizem os alunos, foi apenas \"a gota de agua\" que fez transbordar a contestacao para as outras realidades de que os estudantes d\n",
      "\n",
      "CLEANED RAW (ACCENTED):\n",
      "A última parte do texto dedica-se à questão da avaliação, com os alunos a protestarem pelo facto de haver «exames ostensivamente cotados para 18 valores» e de não saberem se, nas orais, «são avaliados pelo que dizem ou pelo seu currículo». Pede-se que sejam dados passos no sentido da avaliação contínua e reafirma-se a oposição dos estudantes à decisão do conselho directivo de sobrepor as datas das segundas frequências com as dos exames da primeira chamada. Este ponto, dizem os alunos, foi apenas «a gota de água» que fez transbordar a contestação para as outras realidades de que os estudantes d\n",
      "\n",
      "Has accents? True\n",
      "————————————————————————————————————————————————————————————————————————————————————————————————————\n",
      "[train] label=0  |  idx=795081\n",
      "OFFICIAL (ASCII):\n",
      "A vitoria da estafeta norueguesa nos 4x10km de esqui de fundo significou a queda de mais um recorde olimpico, o maior de todos. Bjorn Daehlie, de 30 anos, conquistou nesta prova a setima medalha de ouro da sua carreira e passou a ser o mais \"dourado\" de sempre na historia dos Jogos de Inverno. Soma ainda mais quatro medalhas de prata, 11 no total -- outro recorde. O homem que em Nagano ja subira ao degrau mais alto do podio nos 10km vive um sonho: \"Ainda nao consigo mentalizar-me. Nao me vejo como o maior esquiador de fundo do mundo.\" Mas e. A gloria de Daehlie foi conquistada por apenas 0,2s,\n",
      "\n",
      "CLEANED RAW (ACCENTED):\n",
      "A vitória da estafeta norueguesa nos 4x10km de esqui de fundo significou a queda de mais um recorde olímpico, o maior de todos. Bjorn Daehlie, de 30 anos, conquistou nesta prova a sétima medalha de ouro da sua carreira e passou a ser o mais «dourado» de sempre na história dos Jogos de Inverno. Soma ainda mais quatro medalhas de prata, 11 no total -- outro recorde. O homem que em Nagano já subira ao degrau mais alto do pódio nos 10km vive um sonho: «Ainda não consigo mentalizar-me. Não me vejo como o maior esquiador de fundo do mundo.» Mas é. A glória de Daehlie foi conquistada por apenas 0,2s,\n",
      "\n",
      "Has accents? True\n",
      "————————————————————————————————————————————————————————————————————————————————————————————————————\n",
      "[train] label=0  |  idx=1124497\n",
      "OFFICIAL (ASCII):\n",
      "Angola Deputados da UNITA no Registo Civil GRANDE parte dos deputados da UNITA presentes em Luanda entregaram ontem os seus dados a um oficial do Registo Civil, para lhes serem fornecidos documentos de identificacao. Em grupos de dez, os deputados sentaram-se perante o livro de registos, dentro de uma divisao de vidro que ja foi uma casa de cambios nos melhores anos do hotel Panorama. Contaram datas e locais de nascimento, casamentos e divorcios, moradas e regimes de bens - e o oficial fez fe, porque a guerra consumiu muitos arquivos de paroquia por Angola fora.\n",
      "\n",
      "CLEANED RAW (ACCENTED):\n",
      "Angola Deputados da UNITA no Registo Civil GRANDE parte dos deputados da UNITA presentes em Luanda entregaram ontem os seus dados a um oficial do Registo Civil, para lhes serem fornecidos documentos de identificação. Em grupos de dez, os deputados sentaram-se perante o livro de registos, dentro de uma divisão de vidro que já foi uma casa de câmbios nos melhores anos do hotel Panorama. Contaram datas e locais de nascimento, casamentos e divórcios, moradas e regimes de bens - e o oficial fez fé, porque a guerra consumiu muitos arquivos de paróquia por Angola fora.\n",
      "\n",
      "Has accents? True\n",
      "————————————————————————————————————————————————————————————————————————————————————————————————————\n",
      "[train] label=0  |  idx=1179267\n",
      "OFFICIAL (ASCII):\n",
      "O SIS ou o Robin dos Bosques Na Assembleia da Republica ja circula uma piada sobre Robin de Andrade, o unico dos tres candidatos a \"fiscais\" do SIS que foi eleito. E assim: Robin tera por tarefa principal roubar a informacao aos ricos para a dar aos pobres... Ciber-Odete A adesao ao ciberespaco esta a invadir a Assembleia. Esta semana foi a vez de Odete Santos ser atingida pela paixao a informatica. A carismatica deputada nunca mais sera vista nos corredores de Sao Bento, atras de duas pastas, tres filofax e dezenas de \"dossier\". Comprou um computador portatil e irradia felicidade passeando o \n",
      "\n",
      "CLEANED RAW (ACCENTED):\n",
      "O SIS ou o Robin dos Bosques Na Assembleia da República já circula uma piada sobre Robin de Andrade, o único dos três candidatos a «fiscais» do SIS que foi eleito. É assim: Robin terá por tarefa principal roubar a informação aos ricos para a dar aos pobres... Ciber-Odete A adesão ao ciberespaço está a invadir a Assembleia. Esta semana foi a vez de Odete Santos ser atingida pela paixão à informática. A carismática deputada nunca mais será vista nos corredores de São Bento, atrás de duas pastas, três filofax e dezenas de «dossier». Comprou um computador portátil e irradia felicidade passeando o \n",
      "\n",
      "Has accents? True\n",
      "————————————————————————————————————————————————————————————————————————————————————————————————————\n",
      "[train] label=0  |  idx=696669\n",
      "OFFICIAL (ASCII):\n",
      "A estacao emissora estava a difundir normalmente quando, por volta das 10h30, houve um corte na emissao, presumindo os seus responsaveis tratar-se de uma falha de energia electrica no equipamento de retransmissao. Chegados ao local onde estava montado -- um sitio ermo, em plena serra --, verificaram que as instalacoes tinham sido assaltadas, tendo os ladroes levado dois aparelhos considerados fundamentais para a radiodifusao: um receptor de \"link\" e um excitador. Segundo uma fonte da RIP, os assaltantes arrombaram a porta da cabina, consumando o roubo, cujos prejuizos rondam os 800 mil escudos\n",
      "\n",
      "CLEANED RAW (ACCENTED):\n",
      "A estação emissora estava a difundir normalmente quando, por volta das 10h30, houve um corte na emissão, presumindo os seus responsáveis tratar-se de uma falha de energia eléctrica no equipamento de retransmissão. Chegados ao local onde estava montado -- um sítio ermo, em plena serra --, verificaram que as instalações tinham sido assaltadas, tendo os ladrões levado dois aparelhos considerados fundamentais para a radiodifusão: um receptor de «link» e um excitador. Segundo uma fonte da RIP, os assaltantes arrombaram a porta da cabina, consumando o roubo, cujos prejuízos rondam os 800 mil escudos\n",
      "\n",
      "Has accents? True\n",
      "————————————————————————————————————————————————————————————————————————————————————————————————————\n",
      "[train] label=0  |  idx=714705\n",
      "OFFICIAL (ASCII):\n",
      "P. -- Se se recandidatar, que projectos apresentara para a Fenprof? R. -- Estamos a iniciar o debate sobre os documentos a apresentar ao congresso. O Conselho Nacional aprovou um tema de estudo que tem tres vectores: os professores e a accao sindical, mudar a escola, valorizar a profissao docente. Os proximos tres anos vao ser marcados pelo processo de integracao europeia. No dominio da Educacao, vao distinguir-se pela existencia -- ou nao -- de uma prioridade a renovacao do sistema educativo. E ainda por duas questoes que sao elementos de bloqueio do sistema educativo. A primeira e a questao \n",
      "\n",
      "CLEANED RAW (ACCENTED):\n",
      "P. -- Se se recandidatar, que projectos apresentará para a Fenprof? R. -- Estamos a iniciar o debate sobre os documentos a apresentar ao congresso. O Conselho Nacional aprovou um tema de estudo que tem três vectores: os professores e a acção sindical, mudar a escola, valorizar a profissão docente. Os próximos três anos vão ser marcados pelo processo de integração europeia. No domínio da Educação, vão distinguir-se pela existência -- ou não -- de uma prioridade à renovação do sistema educativo. E ainda por duas questões que são elementos de bloqueio do sistema educativo. A primeira é a questão \n",
      "\n",
      "Has accents? True\n",
      "————————————————————————————————————————————————————————————————————————————————————————————————————\n",
      "[train] label=0  |  idx=108845\n",
      "OFFICIAL (ASCII):\n",
      "Em entrevista ao jornal alemao \"Bild\", o lider croata confessou recear que apenas uma minoria dos militares de ouvidos ao chefe de Estado recem-eleito. A maioria seria comandada por \"comunistas teimosos\". Acrescentou, no entanto, que estes \"tem de ter cuidado pois agora o mundo inteiro tem os olhos postos [na Jugoslavia]\". Um alto comandante militar considerava ontem que o Exercito destacado na Eslovenia se encontra em \"situacao extremamente grave\". As forcas de defesa eslovenas sao acusadas de \"tratar os soldados federais como um exercito inimigo de ocupacao\", recorrendo a \"metodos jamais uti\n",
      "\n",
      "CLEANED RAW (ACCENTED):\n",
      "Em entrevista ao jornal alemão «Bild», o líder croata confessou recear que apenas uma minoria dos militares dê ouvidos ao chefe de Estado recém-eleito. A maioria seria comandada por «comunistas teimosos». Acrescentou, no entanto, que estes «têm de ter cuidado pois agora o mundo inteiro tem os olhos postos [na Jugoslávia]». Um alto comandante militar considerava ontem que o Exército destacado na Eslovénia se encontra em «situação extremamente grave». As forças de defesa eslovenas são acusadas de «tratar os soldados federais como um exército inimigo de ocupação», recorrendo a «métodos jamais uti\n",
      "\n",
      "Has accents? True\n",
      "————————————————————————————————————————————————————————————————————————————————————————————————————\n",
      "[train] label=0  |  idx=334836\n",
      "OFFICIAL (ASCII):\n",
      "O Presidente nao comecou por apresentar planos. Preferiu desfiar um longo rosario de ataques ao Congresso democrata, ignorando que os congressistas sao recipientes dos mesmos privilegios do que os do partido adversario. A seguir, a promessa de congelar pela forca as despesas, e novo ataque as diversas posicoes que Clinton tem tomado ao longo dos tempos em relacao a varios assuntos: \"Ele ja foi visto em mais lugares do que Elvis Presley\".\n",
      "\n",
      "CLEANED RAW (ACCENTED):\n",
      "O Presidente não começou por apresentar planos. Preferiu desfiar um longo rosário de ataques ao Congresso democrata, ignorando que os congressistas são recipientes dos mesmos privilégios do que os do partido adversário. A seguir, a promessa de congelar pela força as despesas, e novo ataque às diversas posições que Clinton tem tomado ao longo dos tempos em relação a vários assuntos: «Ele já foi visto em mais lugares do que Elvis Presley».\n",
      "\n",
      "Has accents? True\n",
      "————————————————————————————————————————————————————————————————————————————————————————————————————\n",
      "[train] label=0  |  idx=283236\n",
      "OFFICIAL (ASCII):\n",
      "\"Deve ser do seculo XII, da escola de Bizancio\", dir-nos-a, no interior da deslumbrante capela do Convento da Esperanca, irma Beatriz, sua guardia e devota. \"Era ja antiga no seculo XVI. E uma imagem de Cristo fixada quando Pilatos O expoe a multidao. Tem na cabeca uma coroa de espinhos e no peito um sacrario com um pedacinho do Santo Lenho. O seu valor e hoje incalculavel, mas quando o trouxeram vinha vestido muito pobremente, capa remendada, bastao de madeira, coroa de pano. Foram os acorianos, e os nobres ricos que passaram pelos Acores, que o engrandeceram, lhe deram ouro, prata, brocados,\n",
      "\n",
      "CLEANED RAW (ACCENTED): <not found — your pipeline may have filtered it out>\n",
      "Has accents? False\n",
      "————————————————————————————————————————————————————————————————————————————————————————————————————\n",
      "[train] label=0  |  idx=707194\n",
      "OFFICIAL (ASCII):\n",
      "Hoje, com o encerramento do Congresso, pela hora do almoco, o PPM tera estrategia eleitoral: ficarao a faltar, apenas, os votos.\n",
      "\n",
      "CLEANED RAW (ACCENTED):\n",
      "Hoje, com o encerramento do Congresso, pela hora do almoço, o PPM terá estratégia eleitoral: ficarão a faltar, apenas, os votos.\n",
      "\n",
      "Has accents? True\n",
      "————————————————————————————————————————————————————————————————————————————————————————————————————\n",
      "[train] label=0  |  idx=1176422\n",
      "OFFICIAL (ASCII):\n",
      "As camaras de Setubal, da Moita e do Barreiro vao construir duas estacoes de tratamento de residuos solidos urbanos, para resolver o problema da falta de capacidade de recepcao dos seus aterros controlados, uma das areas mais carenciadas da Peninsula de Setubal, devido a expansao urbana dos ultimos anos. O projecto mais avancado e o setubalense, cuja obra foi ja adjudicada a empresa Kock Portugal, por cerca de dois milhoes de contos. A nova estacao, que vai ficar instalada na zona de Pecoilhos-Algeruz, utilizara o processo de compostagem e destina-se exclusivamente a lixos de natureza domestic\n",
      "\n",
      "CLEANED RAW (ACCENTED):\n",
      "As câmaras de Setúbal, da Moita e do Barreiro vão construir duas estações de tratamento de resíduos sólidos urbanos, para resolver o problema da falta de capacidade de recepção dos seus aterros controlados, uma das áreas mais carenciadas da Península de Setúbal, devido à expansão urbana dos últimos anos. O projecto mais avançado é o setubalense, cuja obra foi já adjudicada à empresa Kock Portugal, por cerca de dois milhões de contos. A nova estação, que vai ficar instalada na zona de Peçoilhos-Algeruz, utilizará o processo de compostagem e destina-se exclusivamente a lixos de natureza doméstic\n",
      "\n",
      "Has accents? True\n",
      "————————————————————————————————————————————————————————————————————————————————————————————————————\n",
      "[train] label=0  |  idx=700021\n",
      "OFFICIAL (ASCII):\n",
      "Ontem, ao cruzar-se com o Bispo Joao Luiz -- responsavel maximo pela IURD na Europa -- e com Manuel Ramos (outro dirigente da Igreja) nos corredores da Miramar, Ana Miranda disse-lhes: \"Meus senhores, acabo de ser despedida por questoes economicas, mas voces tiveram dinheiro para empregar um contingente de segurancas\". \"Minha filha, voce costuma cuspir na mesa que lhe da o pao?\", tera respondido o bispo. Outra pessoa que acompanhava Joao Luiz era Luis Farinha, o substituto de Gustavo Rosa no cargo de director de Informacao da radio. Recorde-se que Farinha dirigiu a \"Tribuna Universal\" -- orgao\n",
      "\n",
      "CLEANED RAW (ACCENTED):\n",
      "Ontem, ao cruzar-se com o Bispo João Luiz -- responsável máximo pela IURD na Europa -- e com Manuel Ramos (outro dirigente da Igreja) nos corredores da Miramar, Ana Miranda disse-lhes: «Meus senhores, acabo de ser despedida por questões económicas, mas vocês tiveram dinheiro para empregar um contingente de seguranças». «Minha filha, você costuma cuspir na mesa que lhe dá o pão?», terá respondido o bispo. Outra pessoa que acompanhava João Luiz era Luís Farinha, o substituto de Gustavo Rosa no cargo de director de Informação da rádio. Recorde-se que Farinha dirigiu a «Tribuna Universal» -- órgão\n",
      "\n",
      "Has accents? True\n",
      "\n",
      "Summary:\n",
      "  Requested samples: 20\n",
      "  Found accented matches: 19\n",
      "  Misses: 1\n"
     ]
    }
   ],
   "source": [
    "# If needed: from datasets import load_dataset, concatenate_datasets\n",
    "from cleantext import clean\n",
    "import random, html\n",
    "\n",
    "# ASCII ONLY FOR THE MATCHING KEY (final text stays accented)\n",
    "def to_ascii_like_paper(s: str) -> str:\n",
    "    return clean(\n",
    "        s, fix_unicode=True, to_ascii=True, lower=False,\n",
    "        no_line_breaks=False, no_urls=False, no_emails=False, no_phone_numbers=False,\n",
    "        no_numbers=False, no_digits=False, no_currency_symbols=False,\n",
    "    )\n",
    "\n",
    "def ascii_key(s: str) -> str:\n",
    "    s = html.unescape(s).replace(\"\\xa0\", \" \")\n",
    "    return \" \".join(to_ascii_like_paper(s).split())\n",
    "\n",
    "def combine_splits_to_one(ds_dict, add_split_col=True):\n",
    "    from datasets import concatenate_datasets\n",
    "    parts = []\n",
    "    for split_name, split_ds in ds_dict.items():\n",
    "        if add_split_col:\n",
    "            split_ds = split_ds.map(lambda x, sn=split_name: {\"__split__\": sn})\n",
    "        parts.append(split_ds)\n",
    "    return concatenate_datasets(parts)\n",
    "\n",
    "def build_needed_keys_for_sample(official_all, idxs, text_col=\"text\", label_col=\"label\"):\n",
    "    keys_in_order = []\n",
    "    for i in idxs:\n",
    "        keys_in_order.append(f\"{ascii_key(official_all[text_col][i])}||{official_all[label_col][i]}\")\n",
    "    return keys_in_order, set(keys_in_order)\n",
    "\n",
    "def build_mapping_from_cleaned_sharded(clean_ds, needed_keys,\n",
    "                                       text_col=\"text\", label_col=\"label\",\n",
    "                                       num_shards=100, batch_size=500):\n",
    "    \"\"\"Scan your preprocessed RAW (with accents) in shards; keep first hit for each needed key.\"\"\"\n",
    "    mapping, remaining = {}, set(needed_keys)\n",
    "    for shard_idx in range(num_shards):\n",
    "        if not remaining:\n",
    "            break\n",
    "        shard = clean_ds.shard(num_shards=num_shards, index=shard_idx)\n",
    "        # compute combined keys for this shard in small batches\n",
    "        def _mk(batch):\n",
    "            cks = []\n",
    "            for t, lbl in zip(batch[text_col], batch[label_col]):\n",
    "                cks.append(f\"{ascii_key(t)}||{lbl}\")\n",
    "            return {\"__ckey__\": cks}\n",
    "        shard_k = shard.map(_mk, batched=True, batch_size=batch_size, num_proc=1)\n",
    "        for i in range(len(shard_k)):\n",
    "            ck = shard_k[\"__ckey__\"][i]\n",
    "            if ck in remaining:\n",
    "                mapping[ck] = shard[text_col][i]   # ACCENTED, preprocessed text\n",
    "                remaining.remove(ck)\n",
    "                if not remaining:\n",
    "                    break\n",
    "        del shard, shard_k\n",
    "    return mapping\n",
    "\n",
    "from datasets import load_dataset\n",
    "\n",
    "DOMAIN   = \"journalistic\"\n",
    "N_SAMPLES = 20\n",
    "SEED      = 123\n",
    "\n",
    "# 1) Load official (paper) dataset and flatten splits\n",
    "official_dd  = load_dataset(\"liaad/PtBrVId\", DOMAIN)   # ASCII text\n",
    "official_all = combine_splits_to_one(official_dd, add_split_col=True)\n",
    "\n",
    "# 2) Ensure you already have your preprocessed RAW (with accents)\n",
    "# If not already created earlier:\n",
    "# clean_ds = clean_one_domain(domain=DOMAIN, keep_accents=True, num_proc=1, batch_size=1000)\n",
    "\n",
    "# 3) Pick random official rows to compare\n",
    "import random\n",
    "random.seed(SEED)\n",
    "sample_idxs = random.sample(range(len(official_all)), k=min(N_SAMPLES, len(official_all)))\n",
    "\n",
    "# 4) Build keys just for those samples and find their matches inside your cleaned set\n",
    "keys_in_order, needed = build_needed_keys_for_sample(official_all, sample_idxs)\n",
    "raw_map = build_mapping_from_cleaned_sharded(clean_ds, needed, num_shards=100, batch_size=500)\n",
    "\n",
    "# 5) Pretty print comparisons\n",
    "def has_accents(s): return any(ord(c) > 127 for c in s)\n",
    "\n",
    "hits = 0\n",
    "print(f\"\\nComparing {len(sample_idxs)} random examples from '{DOMAIN}':\\n\")\n",
    "for i, ck in zip(sample_idxs, keys_in_order):\n",
    "    off_txt = official_all[\"text\"][i]      # ASCII (paper release)\n",
    "    lbl     = official_all[\"label\"][i]\n",
    "    split   = official_all[\"__split__\"][i]\n",
    "    acc_txt = raw_map.get(ck)\n",
    "\n",
    "    print(\"—\"*100)\n",
    "    print(f\"[{split}] label={lbl}  |  idx={i}\")\n",
    "    print(\"OFFICIAL (ASCII):\")\n",
    "    print(off_txt[:600].replace(\"\\n\",\" \"))\n",
    "    if acc_txt is not None:\n",
    "        hits += 1\n",
    "        print(\"\\nCLEANED RAW (ACCENTED):\")\n",
    "        print(acc_txt[:600].replace(\"\\n\",\" \"))\n",
    "        print(f\"\\nHas accents? {has_accents(acc_txt)}\")\n",
    "    else:\n",
    "        print(\"\\nCLEANED RAW (ACCENTED): <not found — your pipeline may have filtered it out>\")\n",
    "        print(f\"Has accents? {has_accents(off_txt)}\")\n",
    "\n",
    "print(\"\\nSummary:\")\n",
    "print(f\"  Requested samples: {len(sample_idxs)}\")\n",
    "print(f\"  Found accented matches: {hits}\")\n",
    "print(f\"  Misses: {len(sample_idxs) - hits}\")\n"
   ]
  },
  {
   "cell_type": "code",
   "execution_count": 46,
   "id": "59a8f1ec",
   "metadata": {},
   "outputs": [],
   "source": [
    "first_0 = journalistic_df_train[journalistic_df_train['label'] == 0].head(10)\n",
    "first_1 = journalistic_df_train[journalistic_df_train['label'] == 1].head(10)"
   ]
  },
  {
   "cell_type": "code",
   "execution_count": 47,
   "id": "e475fdd5",
   "metadata": {},
   "outputs": [
    {
     "data": {
      "text/html": [
       "<div>\n",
       "<style scoped>\n",
       "    .dataframe tbody tr th:only-of-type {\n",
       "        vertical-align: middle;\n",
       "    }\n",
       "\n",
       "    .dataframe tbody tr th {\n",
       "        vertical-align: top;\n",
       "    }\n",
       "\n",
       "    .dataframe thead th {\n",
       "        text-align: right;\n",
       "    }\n",
       "</style>\n",
       "<table border=\"1\" class=\"dataframe\">\n",
       "  <thead>\n",
       "    <tr style=\"text-align: right;\">\n",
       "      <th></th>\n",
       "      <th>text</th>\n",
       "      <th>label</th>\n",
       "    </tr>\n",
       "  </thead>\n",
       "  <tbody>\n",
       "    <tr>\n",
       "      <th>0</th>\n",
       "      <td>E preciso um alerta nacional e internacional p...</td>\n",
       "      <td>0</td>\n",
       "    </tr>\n",
       "    <tr>\n",
       "      <th>1</th>\n",
       "      <td>Bancos centrais garantem defesa do iene A reun...</td>\n",
       "      <td>0</td>\n",
       "    </tr>\n",
       "    <tr>\n",
       "      <th>2</th>\n",
       "      <td>L' Ile au Tresor Desenho de Michel Faure Texto...</td>\n",
       "      <td>0</td>\n",
       "    </tr>\n",
       "    <tr>\n",
       "      <th>3</th>\n",
       "      <td>Polemica sobre a chefia da forca de paz na Bos...</td>\n",
       "      <td>0</td>\n",
       "    </tr>\n",
       "    <tr>\n",
       "      <th>4</th>\n",
       "      <td>Assim sera mesmo que os resultados -- que so d...</td>\n",
       "      <td>0</td>\n",
       "    </tr>\n",
       "    <tr>\n",
       "      <th>5</th>\n",
       "      <td>Hoje, realiza-se o leilao de 10 milhoes de con...</td>\n",
       "      <td>0</td>\n",
       "    </tr>\n",
       "    <tr>\n",
       "      <th>6</th>\n",
       "      <td>Boa velocidade maxima, aceleracoes e recuperac...</td>\n",
       "      <td>0</td>\n",
       "    </tr>\n",
       "    <tr>\n",
       "      <th>7</th>\n",
       "      <td>Casas para os amigos Foi em Setembro de 1997 q...</td>\n",
       "      <td>0</td>\n",
       "    </tr>\n",
       "    <tr>\n",
       "      <th>8</th>\n",
       "      <td>Assim, preve-se, ja para Maio, o inicio da pre...</td>\n",
       "      <td>0</td>\n",
       "    </tr>\n",
       "    <tr>\n",
       "      <th>9</th>\n",
       "      <td>Recorde-se que a criacao do cargo de vice-gove...</td>\n",
       "      <td>0</td>\n",
       "    </tr>\n",
       "  </tbody>\n",
       "</table>\n",
       "</div>"
      ],
      "text/plain": [
       "                                                text  label\n",
       "0  E preciso um alerta nacional e internacional p...      0\n",
       "1  Bancos centrais garantem defesa do iene A reun...      0\n",
       "2  L' Ile au Tresor Desenho de Michel Faure Texto...      0\n",
       "3  Polemica sobre a chefia da forca de paz na Bos...      0\n",
       "4  Assim sera mesmo que os resultados -- que so d...      0\n",
       "5  Hoje, realiza-se o leilao de 10 milhoes de con...      0\n",
       "6  Boa velocidade maxima, aceleracoes e recuperac...      0\n",
       "7  Casas para os amigos Foi em Setembro de 1997 q...      0\n",
       "8  Assim, preve-se, ja para Maio, o inicio da pre...      0\n",
       "9  Recorde-se que a criacao do cargo de vice-gove...      0"
      ]
     },
     "execution_count": 47,
     "metadata": {},
     "output_type": "execute_result"
    }
   ],
   "source": [
    "first_0"
   ]
  },
  {
   "cell_type": "code",
   "execution_count": 48,
   "id": "e84eae58",
   "metadata": {},
   "outputs": [
    {
     "data": {
      "text/html": [
       "<div>\n",
       "<style scoped>\n",
       "    .dataframe tbody tr th:only-of-type {\n",
       "        vertical-align: middle;\n",
       "    }\n",
       "\n",
       "    .dataframe tbody tr th {\n",
       "        vertical-align: top;\n",
       "    }\n",
       "\n",
       "    .dataframe thead th {\n",
       "        text-align: right;\n",
       "    }\n",
       "</style>\n",
       "<table border=\"1\" class=\"dataframe\">\n",
       "  <thead>\n",
       "    <tr style=\"text-align: right;\">\n",
       "      <th></th>\n",
       "      <th>text</th>\n",
       "      <th>label</th>\n",
       "    </tr>\n",
       "  </thead>\n",
       "  <tbody>\n",
       "    <tr>\n",
       "      <th>1442906</th>\n",
       "      <td>Mesmo assim, o diretor reconhece \"a importanci...</td>\n",
       "      <td>1</td>\n",
       "    </tr>\n",
       "    <tr>\n",
       "      <th>1442907</th>\n",
       "      <td>Os funcionarios com mais de 40 anos sao proteg...</td>\n",
       "      <td>1</td>\n",
       "    </tr>\n",
       "    <tr>\n",
       "      <th>1442908</th>\n",
       "      <td>De seu lado, a America Latina, movida a invest...</td>\n",
       "      <td>1</td>\n",
       "    </tr>\n",
       "    <tr>\n",
       "      <th>1442909</th>\n",
       "      <td>Os funcionarios que querem fundos de pensao co...</td>\n",
       "      <td>1</td>\n",
       "    </tr>\n",
       "    <tr>\n",
       "      <th>1442910</th>\n",
       "      <td>Gemeos nascem na Inglaterra com diferentes cor...</td>\n",
       "      <td>1</td>\n",
       "    </tr>\n",
       "    <tr>\n",
       "      <th>1442911</th>\n",
       "      <td>\"A defasagem e um custo a mais, que tera de se...</td>\n",
       "      <td>1</td>\n",
       "    </tr>\n",
       "    <tr>\n",
       "      <th>1442912</th>\n",
       "      <td>Nova filial A Cia. Ultragaz esta abrindo filia...</td>\n",
       "      <td>1</td>\n",
       "    </tr>\n",
       "    <tr>\n",
       "      <th>1442913</th>\n",
       "      <td>Nova novela alterna pequenas ousadias com gran...</td>\n",
       "      <td>1</td>\n",
       "    </tr>\n",
       "    <tr>\n",
       "      <th>1442914</th>\n",
       "      <td>Muitos precos ficaram para tras, defasados, o ...</td>\n",
       "      <td>1</td>\n",
       "    </tr>\n",
       "    <tr>\n",
       "      <th>1442915</th>\n",
       "      <td>VOTACAO COMECA COM DERROTA DE JOBIM, GABRIELA ...</td>\n",
       "      <td>1</td>\n",
       "    </tr>\n",
       "  </tbody>\n",
       "</table>\n",
       "</div>"
      ],
      "text/plain": [
       "                                                      text  label\n",
       "1442906  Mesmo assim, o diretor reconhece \"a importanci...      1\n",
       "1442907  Os funcionarios com mais de 40 anos sao proteg...      1\n",
       "1442908  De seu lado, a America Latina, movida a invest...      1\n",
       "1442909  Os funcionarios que querem fundos de pensao co...      1\n",
       "1442910  Gemeos nascem na Inglaterra com diferentes cor...      1\n",
       "1442911  \"A defasagem e um custo a mais, que tera de se...      1\n",
       "1442912  Nova filial A Cia. Ultragaz esta abrindo filia...      1\n",
       "1442913  Nova novela alterna pequenas ousadias com gran...      1\n",
       "1442914  Muitos precos ficaram para tras, defasados, o ...      1\n",
       "1442915  VOTACAO COMECA COM DERROTA DE JOBIM, GABRIELA ...      1"
      ]
     },
     "execution_count": 48,
     "metadata": {},
     "output_type": "execute_result"
    }
   ],
   "source": [
    "first_1"
   ]
  },
  {
   "cell_type": "markdown",
   "id": "b8a5ad4c",
   "metadata": {},
   "source": [
    "este dataset nao é paralelo e apenas tem duas colunas: texto e label.  Primeiro, removeu entradas nulas, vazias e duplicadas. Em seguida, utilizou a biblioteca clean-text para corrigir erros de Unicode e normalizar todo o texto para ASCII. No domínio Web, aplicou ainda o jusText para eliminar sentenças irrelevantes e código-base HTML. Por fim, identificou e removeu outliers em cada domínio: calculou o intervalo inter-quartil (IQR) do número de tokens, usando o tokenizer do NLTK para português, e descartou textos com comprimento inferior a \n",
    "𝑄\n",
    "1\n",
    "−\n",
    "1,5\n",
    "×\n",
    "IQR\n",
    "Q1−1,5×IQR ou superior a \n",
    "𝑄\n",
    "3\n",
    "+\n",
    "1,5\n",
    "×\n",
    "IQR\n",
    "Q3+1,5×IQR. Este processo assegurou a exclusão de documentos demasiado curtos ou longos para o respetivo domínio, resultando num corpus mais limpo e consistente."
   ]
  },
  {
   "cell_type": "markdown",
   "id": "f4504ce6",
   "metadata": {},
   "source": [
    "**//FRMT DATASET**"
   ]
  },
  {
   "cell_type": "code",
   "execution_count": 49,
   "id": "c867bb1e",
   "metadata": {},
   "outputs": [
    {
     "name": "stdout",
     "output_type": "stream",
     "text": [
      "['https://raw.githubusercontent.com/google-research/google-research/HEAD/frmt/dataset/entity_bucket/pt_entity_dev_en_pt-BR.tsv', 'https://raw.githubusercontent.com/google-research/google-research/HEAD/frmt/dataset/entity_bucket/pt_entity_dev_en_pt-PT.tsv', 'https://raw.githubusercontent.com/google-research/google-research/HEAD/frmt/dataset/entity_bucket/pt_entity_test_en_pt-BR.tsv']\n"
     ]
    }
   ],
   "source": [
    "GITHUB_RAW = (\"https://raw.githubusercontent.com/google-research/google-research/\"\n",
    "              \"HEAD/frmt/dataset\")\n",
    "\n",
    "buckets = {          # bucket → filename prefix inside that bucket\n",
    "    \"lexical\": \"pt_lexical\",\n",
    "    \"entity\" : \"pt_entity\",\n",
    "    \"random\" : \"pt_random\",\n",
    "}\n",
    "\n",
    "splits   = [\"dev\", \"test\", \"exemplars\"]        # the paper’s three splits\n",
    "regions  = [\"pt-BR\", \"pt-PT\"]                  # ⬅️ we ignore zh-* files\n",
    "\n",
    "def urls(bucket):\n",
    "    prefix = buckets[bucket]\n",
    "    return [f\"{GITHUB_RAW}/{bucket}_bucket/\"\n",
    "            f\"{prefix}_{split}_en_{region}.tsv\"\n",
    "            for split in splits\n",
    "            for region in regions]\n",
    "\n",
    "# sanity-check\n",
    "print(urls(\"entity\")[:3])\n"
   ]
  },
  {
   "cell_type": "code",
   "execution_count": 50,
   "id": "63fede0f",
   "metadata": {},
   "outputs": [
    {
     "name": "stdout",
     "output_type": "stream",
     "text": [
      "['lexical_dev_pt_BR', 'lexical_dev_pt_PT', 'lexical_test_pt_BR', 'lexical_test_pt_PT', 'lexical_exemplars_pt_BR', 'lexical_exemplars_pt_PT']\n"
     ]
    }
   ],
   "source": [
    "def split_key(bucket, split, region):\n",
    "    # pt-BR  ➜  pt_BR   (dash → underscore)\n",
    "    return f\"{bucket}_{split}_{region.replace('-', '_')}\"\n",
    "\n",
    "data_files = {\n",
    "    split_key(bucket, split, region): [\n",
    "        f\"{GITHUB_RAW}/{bucket}_bucket/\"\n",
    "        f\"{buckets[bucket]}_{split}_en_{region}.tsv\"\n",
    "    ]\n",
    "    for bucket in buckets\n",
    "    for split  in splits\n",
    "    for region in regions\n",
    "}\n",
    "\n",
    "from datasets import load_dataset, DatasetDict\n",
    "\n",
    "ds = load_dataset(\n",
    "        \"csv\",\n",
    "        data_files   = data_files,\n",
    "        delimiter    = \"\\t\",\n",
    "        column_names = [\"en\", \"pt\"],\n",
    ")\n",
    "\n",
    "print(list(ds.keys())[:6])\n",
    "# ['lexical_dev_pt_BR', 'lexical_dev_pt_PT', 'lexical_test_pt_BR', …]\n"
   ]
  },
  {
   "cell_type": "code",
   "execution_count": 51,
   "id": "bba6ea67",
   "metadata": {},
   "outputs": [],
   "source": [
    "entity_br = pd.DataFrame(ds['entity_dev_pt_BR'])"
   ]
  },
  {
   "cell_type": "code",
   "execution_count": 52,
   "id": "c9081030",
   "metadata": {},
   "outputs": [
    {
     "data": {
      "text/html": [
       "<div>\n",
       "<style scoped>\n",
       "    .dataframe tbody tr th:only-of-type {\n",
       "        vertical-align: middle;\n",
       "    }\n",
       "\n",
       "    .dataframe tbody tr th {\n",
       "        vertical-align: top;\n",
       "    }\n",
       "\n",
       "    .dataframe thead th {\n",
       "        text-align: right;\n",
       "    }\n",
       "</style>\n",
       "<table border=\"1\" class=\"dataframe\">\n",
       "  <thead>\n",
       "    <tr style=\"text-align: right;\">\n",
       "      <th></th>\n",
       "      <th>en</th>\n",
       "      <th>pt</th>\n",
       "    </tr>\n",
       "  </thead>\n",
       "  <tbody>\n",
       "    <tr>\n",
       "      <th>0</th>\n",
       "      <td>Constâncio was Secretary of State for Planning...</td>\n",
       "      <td>Constâncio foi Secretário de Estado para Plane...</td>\n",
       "    </tr>\n",
       "    <tr>\n",
       "      <th>1</th>\n",
       "      <td>He then became Finance Minister from January t...</td>\n",
       "      <td>Depois, tornou-se Ministro das Finanças de jan...</td>\n",
       "    </tr>\n",
       "    <tr>\n",
       "      <th>2</th>\n",
       "      <td>Constâncio was secretary-general of the Social...</td>\n",
       "      <td>De 1986 a 1989, Constâncio foi secretário-gera...</td>\n",
       "    </tr>\n",
       "    <tr>\n",
       "      <th>3</th>\n",
       "      <td>He lost the legislative elections of 19 July 1...</td>\n",
       "      <td>Ele perdeu as eleições legislativas de 19 de j...</td>\n",
       "    </tr>\n",
       "    <tr>\n",
       "      <th>4</th>\n",
       "      <td>He resigned the following year, being replaced...</td>\n",
       "      <td>No ano seguinte, ele renunciou, sendo substitu...</td>\n",
       "    </tr>\n",
       "    <tr>\n",
       "      <th>...</th>\n",
       "      <td>...</td>\n",
       "      <td>...</td>\n",
       "    </tr>\n",
       "    <tr>\n",
       "      <th>930</th>\n",
       "      <td>The northern and western sides of the castle, ...</td>\n",
       "      <td>Os lados norte e oeste do castelo, por sua vez...</td>\n",
       "    </tr>\n",
       "    <tr>\n",
       "      <th>931</th>\n",
       "      <td>The castle is also partially encircled by a mo...</td>\n",
       "      <td>O castelo também é, em parte, rodeado por um f...</td>\n",
       "    </tr>\n",
       "    <tr>\n",
       "      <th>932</th>\n",
       "      <td>The main entrance is fronted by a stone bridge...</td>\n",
       "      <td>De frente para a entrada principal, há uma pon...</td>\n",
       "    </tr>\n",
       "    <tr>\n",
       "      <th>933</th>\n",
       "      <td>On the west side, there is a long curtain wall...</td>\n",
       "      <td>No lado oeste, há uma divisória que se estende...</td>\n",
       "    </tr>\n",
       "    <tr>\n",
       "      <th>934</th>\n",
       "      <td>This tower served to control the valley below,...</td>\n",
       "      <td>Essa torre servia para controlar o vale abaixo...</td>\n",
       "    </tr>\n",
       "  </tbody>\n",
       "</table>\n",
       "<p>935 rows × 2 columns</p>\n",
       "</div>"
      ],
      "text/plain": [
       "                                                    en                                                 pt\n",
       "0    Constâncio was Secretary of State for Planning...  Constâncio foi Secretário de Estado para Plane...\n",
       "1    He then became Finance Minister from January t...  Depois, tornou-se Ministro das Finanças de jan...\n",
       "2    Constâncio was secretary-general of the Social...  De 1986 a 1989, Constâncio foi secretário-gera...\n",
       "3    He lost the legislative elections of 19 July 1...  Ele perdeu as eleições legislativas de 19 de j...\n",
       "4    He resigned the following year, being replaced...  No ano seguinte, ele renunciou, sendo substitu...\n",
       "..                                                 ...                                                ...\n",
       "930  The northern and western sides of the castle, ...  Os lados norte e oeste do castelo, por sua vez...\n",
       "931  The castle is also partially encircled by a mo...  O castelo também é, em parte, rodeado por um f...\n",
       "932  The main entrance is fronted by a stone bridge...  De frente para a entrada principal, há uma pon...\n",
       "933  On the west side, there is a long curtain wall...  No lado oeste, há uma divisória que se estende...\n",
       "934  This tower served to control the valley below,...  Essa torre servia para controlar o vale abaixo...\n",
       "\n",
       "[935 rows x 2 columns]"
      ]
     },
     "execution_count": 52,
     "metadata": {},
     "output_type": "execute_result"
    }
   ],
   "source": [
    "entity_br"
   ]
  },
  {
   "cell_type": "code",
   "execution_count": 53,
   "id": "d14ee48d",
   "metadata": {},
   "outputs": [
    {
     "data": {
      "text/html": [
       "<div>\n",
       "<style scoped>\n",
       "    .dataframe tbody tr th:only-of-type {\n",
       "        vertical-align: middle;\n",
       "    }\n",
       "\n",
       "    .dataframe tbody tr th {\n",
       "        vertical-align: top;\n",
       "    }\n",
       "\n",
       "    .dataframe thead th {\n",
       "        text-align: right;\n",
       "    }\n",
       "</style>\n",
       "<table border=\"1\" class=\"dataframe\">\n",
       "  <thead>\n",
       "    <tr style=\"text-align: right;\">\n",
       "      <th></th>\n",
       "      <th>en</th>\n",
       "      <th>pt</th>\n",
       "    </tr>\n",
       "  </thead>\n",
       "  <tbody>\n",
       "    <tr>\n",
       "      <th>52</th>\n",
       "      <td>After the Portuguese legislative election of 2...</td>\n",
       "      <td>Após as eleições legislativas portuguesas de 2...</td>\n",
       "    </tr>\n",
       "    <tr>\n",
       "      <th>64</th>\n",
       "      <td>After the Portuguese legislative election of 2...</td>\n",
       "      <td>Após as eleições legislativas portuguesas de 2...</td>\n",
       "    </tr>\n",
       "  </tbody>\n",
       "</table>\n",
       "</div>"
      ],
      "text/plain": [
       "                                                   en                                                 pt\n",
       "52  After the Portuguese legislative election of 2...  Após as eleições legislativas portuguesas de 2...\n",
       "64  After the Portuguese legislative election of 2...  Após as eleições legislativas portuguesas de 2..."
      ]
     },
     "execution_count": 53,
     "metadata": {},
     "output_type": "execute_result"
    }
   ],
   "source": [
    "entity_pt = pd.DataFrame(ds['entity_dev_pt_PT'])\n",
    "entity_pt[entity_pt[\"en\"].duplicated(keep=False)].head()"
   ]
  },
  {
   "cell_type": "code",
   "execution_count": 57,
   "id": "24a0e7b5",
   "metadata": {},
   "outputs": [
    {
     "data": {
      "text/html": [
       "<div>\n",
       "<style scoped>\n",
       "    .dataframe tbody tr th:only-of-type {\n",
       "        vertical-align: middle;\n",
       "    }\n",
       "\n",
       "    .dataframe tbody tr th {\n",
       "        vertical-align: top;\n",
       "    }\n",
       "\n",
       "    .dataframe thead th {\n",
       "        text-align: right;\n",
       "    }\n",
       "</style>\n",
       "<table border=\"1\" class=\"dataframe\">\n",
       "  <thead>\n",
       "    <tr style=\"text-align: right;\">\n",
       "      <th></th>\n",
       "      <th>en</th>\n",
       "      <th>pt</th>\n",
       "    </tr>\n",
       "  </thead>\n",
       "  <tbody>\n",
       "    <tr>\n",
       "      <th>52</th>\n",
       "      <td>After the Portuguese legislative election of 2...</td>\n",
       "      <td>Após a eleição legislativa portuguesa de 2009,...</td>\n",
       "    </tr>\n",
       "    <tr>\n",
       "      <th>64</th>\n",
       "      <td>After the Portuguese legislative election of 2...</td>\n",
       "      <td>Após a eleição legislativa portuguesa de 2009,...</td>\n",
       "    </tr>\n",
       "  </tbody>\n",
       "</table>\n",
       "</div>"
      ],
      "text/plain": [
       "                                                   en                                                 pt\n",
       "52  After the Portuguese legislative election of 2...  Após a eleição legislativa portuguesa de 2009,...\n",
       "64  After the Portuguese legislative election of 2...  Após a eleição legislativa portuguesa de 2009,..."
      ]
     },
     "execution_count": 57,
     "metadata": {},
     "output_type": "execute_result"
    }
   ],
   "source": [
    "entity_br[entity_br[\"en\"].duplicated(keep=False)].head()"
   ]
  },
  {
   "cell_type": "markdown",
   "id": "98f132b2",
   "metadata": {},
   "source": [
    "**//GOLD COLLECTION**"
   ]
  },
  {
   "cell_type": "code",
   "execution_count": 54,
   "id": "f1fcba86",
   "metadata": {},
   "outputs": [
    {
     "data": {
      "text/plain": [
       "DatasetDict({\n",
       "    gold_collection: Dataset({\n",
       "        features: ['text'],\n",
       "        num_rows: 500\n",
       "    })\n",
       "    referencia_DeepL: Dataset({\n",
       "        features: ['text'],\n",
       "        num_rows: 500\n",
       "    })\n",
       "    referencia_manual: Dataset({\n",
       "        features: ['text'],\n",
       "        num_rows: 500\n",
       "    })\n",
       "})"
      ]
     },
     "execution_count": 54,
     "metadata": {},
     "output_type": "execute_result"
    }
   ],
   "source": [
    "ds = load_dataset(\"joaosanches/golden_collection\")\n",
    "\n",
    "ds\n"
   ]
  },
  {
   "cell_type": "code",
   "execution_count": 55,
   "id": "f58278e4",
   "metadata": {},
   "outputs": [
    {
     "data": {
      "text/html": [
       "<div>\n",
       "<style scoped>\n",
       "    .dataframe tbody tr th:only-of-type {\n",
       "        vertical-align: middle;\n",
       "    }\n",
       "\n",
       "    .dataframe tbody tr th {\n",
       "        vertical-align: top;\n",
       "    }\n",
       "\n",
       "    .dataframe thead th {\n",
       "        text-align: right;\n",
       "    }\n",
       "</style>\n",
       "<table border=\"1\" class=\"dataframe\">\n",
       "  <thead>\n",
       "    <tr style=\"text-align: right;\">\n",
       "      <th></th>\n",
       "      <th>text</th>\n",
       "    </tr>\n",
       "  </thead>\n",
       "  <tbody>\n",
       "    <tr>\n",
       "      <th>0</th>\n",
       "      <td>Segundo Kellner, apesar de o animal ser um bai...</td>\n",
       "    </tr>\n",
       "    <tr>\n",
       "      <th>1</th>\n",
       "      <td>Para a ONG, há evidências de que as companhias...</td>\n",
       "    </tr>\n",
       "    <tr>\n",
       "      <th>2</th>\n",
       "      <td>Mas, segundo a agência de notícias France Pres...</td>\n",
       "    </tr>\n",
       "    <tr>\n",
       "      <th>3</th>\n",
       "      <td>Ele afirmou que dieta e exercícios devem conti...</td>\n",
       "    </tr>\n",
       "    <tr>\n",
       "      <th>4</th>\n",
       "      <td>O biólogo William Eberhard, da Universidade da...</td>\n",
       "    </tr>\n",
       "    <tr>\n",
       "      <th>...</th>\n",
       "      <td>...</td>\n",
       "    </tr>\n",
       "    <tr>\n",
       "      <th>495</th>\n",
       "      <td>Isso significa que a preposição é o termo que ...</td>\n",
       "    </tr>\n",
       "    <tr>\n",
       "      <th>496</th>\n",
       "      <td>Foi então que a vestimenta mais feminina que s...</td>\n",
       "    </tr>\n",
       "    <tr>\n",
       "      <th>497</th>\n",
       "      <td>Um de seus professores foi Martin Wegelius.\\n</td>\n",
       "    </tr>\n",
       "    <tr>\n",
       "      <th>498</th>\n",
       "      <td>Nessa época, iniciou uma verdadeira polêmica c...</td>\n",
       "    </tr>\n",
       "    <tr>\n",
       "      <th>499</th>\n",
       "      <td>Disponibilizar conteúdo livre, ao acesso de to...</td>\n",
       "    </tr>\n",
       "  </tbody>\n",
       "</table>\n",
       "<p>500 rows × 1 columns</p>\n",
       "</div>"
      ],
      "text/plain": [
       "                                                  text\n",
       "0    Segundo Kellner, apesar de o animal ser um bai...\n",
       "1    Para a ONG, há evidências de que as companhias...\n",
       "2    Mas, segundo a agência de notícias France Pres...\n",
       "3    Ele afirmou que dieta e exercícios devem conti...\n",
       "4    O biólogo William Eberhard, da Universidade da...\n",
       "..                                                 ...\n",
       "495  Isso significa que a preposição é o termo que ...\n",
       "496  Foi então que a vestimenta mais feminina que s...\n",
       "497      Um de seus professores foi Martin Wegelius.\\n\n",
       "498  Nessa época, iniciou uma verdadeira polêmica c...\n",
       "499  Disponibilizar conteúdo livre, ao acesso de to...\n",
       "\n",
       "[500 rows x 1 columns]"
      ]
     },
     "execution_count": 55,
     "metadata": {},
     "output_type": "execute_result"
    }
   ],
   "source": [
    "pd.DataFrame(ds['gold_collection'])"
   ]
  },
  {
   "cell_type": "code",
   "execution_count": 56,
   "id": "14402f05",
   "metadata": {},
   "outputs": [
    {
     "data": {
      "text/html": [
       "<div>\n",
       "<style scoped>\n",
       "    .dataframe tbody tr th:only-of-type {\n",
       "        vertical-align: middle;\n",
       "    }\n",
       "\n",
       "    .dataframe tbody tr th {\n",
       "        vertical-align: top;\n",
       "    }\n",
       "\n",
       "    .dataframe thead th {\n",
       "        text-align: right;\n",
       "    }\n",
       "</style>\n",
       "<table border=\"1\" class=\"dataframe\">\n",
       "  <thead>\n",
       "    <tr style=\"text-align: right;\">\n",
       "      <th></th>\n",
       "      <th>text</th>\n",
       "    </tr>\n",
       "  </thead>\n",
       "  <tbody>\n",
       "    <tr>\n",
       "      <th>0</th>\n",
       "      <td>Segundo Kellner, apesar de o animal ser muito ...</td>\n",
       "    </tr>\n",
       "    <tr>\n",
       "      <th>1</th>\n",
       "      <td>Para a ONG, há evidências de que as empresas q...</td>\n",
       "    </tr>\n",
       "    <tr>\n",
       "      <th>2</th>\n",
       "      <td>Mas, segundo a agência de notícias France Pres...</td>\n",
       "    </tr>\n",
       "    <tr>\n",
       "      <th>3</th>\n",
       "      <td>Ele afirmou que dieta e exercícios devem conti...</td>\n",
       "    </tr>\n",
       "    <tr>\n",
       "      <th>4</th>\n",
       "      <td>O biólogo William Eberhard, da Universidade da...</td>\n",
       "    </tr>\n",
       "    <tr>\n",
       "      <th>...</th>\n",
       "      <td>...</td>\n",
       "    </tr>\n",
       "    <tr>\n",
       "      <th>495</th>\n",
       "      <td>Isso significa que a preposição é o termo que ...</td>\n",
       "    </tr>\n",
       "    <tr>\n",
       "      <th>496</th>\n",
       "      <td>Foi então que a peça de vestuário mais feminin...</td>\n",
       "    </tr>\n",
       "    <tr>\n",
       "      <th>497</th>\n",
       "      <td>Um dos seus professores foi Martin Wegelius.\\n</td>\n",
       "    </tr>\n",
       "    <tr>\n",
       "      <th>498</th>\n",
       "      <td>Nessa época, iniciou-se uma verdadeira polémic...</td>\n",
       "    </tr>\n",
       "    <tr>\n",
       "      <th>499</th>\n",
       "      <td>Disponibilizar conteúdo livre, ao acesso de to...</td>\n",
       "    </tr>\n",
       "  </tbody>\n",
       "</table>\n",
       "<p>500 rows × 1 columns</p>\n",
       "</div>"
      ],
      "text/plain": [
       "                                                  text\n",
       "0    Segundo Kellner, apesar de o animal ser muito ...\n",
       "1    Para a ONG, há evidências de que as empresas q...\n",
       "2    Mas, segundo a agência de notícias France Pres...\n",
       "3    Ele afirmou que dieta e exercícios devem conti...\n",
       "4    O biólogo William Eberhard, da Universidade da...\n",
       "..                                                 ...\n",
       "495  Isso significa que a preposição é o termo que ...\n",
       "496  Foi então que a peça de vestuário mais feminin...\n",
       "497     Um dos seus professores foi Martin Wegelius.\\n\n",
       "498  Nessa época, iniciou-se uma verdadeira polémic...\n",
       "499  Disponibilizar conteúdo livre, ao acesso de to...\n",
       "\n",
       "[500 rows x 1 columns]"
      ]
     },
     "execution_count": 56,
     "metadata": {},
     "output_type": "execute_result"
    }
   ],
   "source": [
    "pd.DataFrame(ds['referencia_manual'])"
   ]
  },
  {
   "cell_type": "code",
   "execution_count": null,
   "id": "31850ec1",
   "metadata": {},
   "outputs": [],
   "source": []
  }
 ],
 "metadata": {
  "kernelspec": {
   "display_name": "thesis (3.12.3)",
   "language": "python",
   "name": "python3"
  },
  "language_info": {
   "codemirror_mode": {
    "name": "ipython",
    "version": 3
   },
   "file_extension": ".py",
   "mimetype": "text/x-python",
   "name": "python",
   "nbconvert_exporter": "python",
   "pygments_lexer": "ipython3",
   "version": "3.12.3"
  }
 },
 "nbformat": 4,
 "nbformat_minor": 5
}
