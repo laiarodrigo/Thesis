{
 "cells": [
  {
   "cell_type": "markdown",
   "id": "84700088",
   "metadata": {},
   "source": [
    "**//IMPORTS**"
   ]
  },
  {
   "cell_type": "code",
   "execution_count": 2,
   "id": "adbe5431",
   "metadata": {},
   "outputs": [],
   "source": [
    "import duckdb\n",
    "import pandas as pd, pathlib, itertools, textwrap"
   ]
  },
  {
   "cell_type": "markdown",
   "id": "c8ae16be",
   "metadata": {},
   "source": [
    "**//CONFIGS**"
   ]
  },
  {
   "cell_type": "code",
   "execution_count": 3,
   "id": "b4baa7d8",
   "metadata": {},
   "outputs": [],
   "source": [
    "DB_PATH = '../data/duckdb/subs.duckdb'\n",
    "pd.set_option(\"display.max_colwidth\", None)\n"
   ]
  },
  {
   "cell_type": "markdown",
   "id": "d1cc9501",
   "metadata": {},
   "source": [
    "**//MAIN CODE**"
   ]
  },
  {
   "cell_type": "code",
   "execution_count": 4,
   "id": "3e4d48d4",
   "metadata": {},
   "outputs": [
    {
     "ename": "IOException",
     "evalue": "IO Error: Could not set lock on file \"/home/laiarodrigo/repos/Thesis/eda's/../data/duckdb/subs.duckdb\": Conflicting lock is held in /usr/bin/python3.12 (PID 387580). See also https://duckdb.org/docs/stable/connect/concurrency",
     "output_type": "error",
     "traceback": [
      "\u001b[31m---------------------------------------------------------------------------\u001b[39m",
      "\u001b[31mIOException\u001b[39m                               Traceback (most recent call last)",
      "\u001b[36mCell\u001b[39m\u001b[36m \u001b[39m\u001b[32mIn[4]\u001b[39m\u001b[32m, line 1\u001b[39m\n\u001b[32m----> \u001b[39m\u001b[32m1\u001b[39m con = \u001b[43mduckdb\u001b[49m\u001b[43m.\u001b[49m\u001b[43mconnect\u001b[49m\u001b[43m(\u001b[49m\u001b[43mpathlib\u001b[49m\u001b[43m.\u001b[49m\u001b[43mPath\u001b[49m\u001b[43m(\u001b[49m\u001b[33;43m'\u001b[39;49m\u001b[33;43m../data/duckdb/subs.duckdb\u001b[39;49m\u001b[33;43m'\u001b[39;49m\u001b[43m)\u001b[49m\u001b[43m,\u001b[49m\u001b[43m \u001b[49m\u001b[43mread_only\u001b[49m\u001b[43m=\u001b[49m\u001b[38;5;28;43;01mTrue\u001b[39;49;00m\u001b[43m)\u001b[49m\n\u001b[32m      2\u001b[39m con.execute(\u001b[33m\"\u001b[39m\u001b[33mSELECT table_name FROM information_schema.tables WHERE table_schema=\u001b[39m\u001b[33m'\u001b[39m\u001b[33mmain\u001b[39m\u001b[33m'\u001b[39m\u001b[33m\"\u001b[39m).fetchall()\n",
      "\u001b[31mIOException\u001b[39m: IO Error: Could not set lock on file \"/home/laiarodrigo/repos/Thesis/eda's/../data/duckdb/subs.duckdb\": Conflicting lock is held in /usr/bin/python3.12 (PID 387580). See also https://duckdb.org/docs/stable/connect/concurrency"
     ]
    }
   ],
   "source": [
    "con = duckdb.connect(pathlib.Path('../data/duckdb/subs.duckdb'), read_only=True)\n",
    "con.execute(\"SELECT table_name FROM information_schema.tables WHERE table_schema='main'\").fetchall()\n",
    "\n"
   ]
  },
  {
   "cell_type": "markdown",
   "id": "ba9c95e7",
   "metadata": {},
   "source": [
    "**//LOAD TEST DATASETS**"
   ]
  },
  {
   "cell_type": "code",
   "execution_count": 14,
   "id": "db72df9c",
   "metadata": {},
   "outputs": [
    {
     "name": "stdout",
     "output_type": "stream",
     "text": [
      "['https://raw.githubusercontent.com/google-research/google-research/HEAD/frmt/dataset/entity_bucket/pt_entity_dev_en_pt-BR.tsv', 'https://raw.githubusercontent.com/google-research/google-research/HEAD/frmt/dataset/entity_bucket/pt_entity_dev_en_pt-PT.tsv', 'https://raw.githubusercontent.com/google-research/google-research/HEAD/frmt/dataset/entity_bucket/pt_entity_test_en_pt-BR.tsv']\n",
      "['lexical_dev_pt_BR', 'lexical_dev_pt_PT', 'lexical_test_pt_BR', 'lexical_test_pt_PT', 'lexical_exemplars_pt_BR', 'lexical_exemplars_pt_PT']\n",
      "\n",
      "⚠️  lexical-BR: 4 distinct English sentences duplicated (8 rows).\n",
      "                                                                                                                                                                                                                    en                                                                                                                                                                                                                                                                        pt\n",
      "    Guided buses are fitted with technology to allow them to run in designated guideways, allowing the controlled alignment at bus stops and less space taken up by guided lanes than conventional roads or bus lanes. Os ônibus guiados são equipados com tecnologia para permitir que eles rodem em vias de guiamento designadas, permitindo o alinhamento controlado em paradas de ônibus e menos espaço ocupado pelas pistas guiadas do que as rodovias convencionais ou pistas para ônibus.\n",
      "    Guided buses are fitted with technology to allow them to run in designated guideways, allowing the controlled alignment at bus stops and less space taken up by guided lanes than conventional roads or bus lanes.     Os ônibus guiados são equipados com tecnologia para permitir que operem em vias de guiamento designadas, permitindo o alinhamento controlado em paradas de ônibus, e menos espaço é ocupado por pistas guiadas do que por rodovias convencionais ou pistas de ônibus.\n",
      "                                                                                                                                                           Frozen foods, previously a luxury item, became commonplace.                                                                                                                                                                                                              Alimentos congelados, antes um item de luxo, ficaram comuns.\n",
      "                                                                                                                                                    Freezer units are used in households and in industry and commerce.                                                                                                                                                                                               As unidades de freezer são usadas em residências e na indústria e comércio.\n",
      "                                                                                                                                                           Frozen foods, previously a luxury item, became commonplace.                                                                                                                                                                                                          Alimentos congelados, antes um item de luxo, se tornaram comuns.\n",
      "                                                                                                                                                    Freezer units are used in households and in industry and commerce.                                                                                                                                                                                              Unidades de congelamento são usadas em domicílios e na indústria e comércio.\n",
      "\n",
      "⚠️  lexical-PT: 4 distinct English sentences duplicated (8 rows).\n",
      "                                                                                                                                                                                                                    en                                                                                                                                                                                                                                                                                             pt\n",
      "    Guided buses are fitted with technology to allow them to run in designated guideways, allowing the controlled alignment at bus stops and less space taken up by guided lanes than conventional roads or bus lanes. Os autocarros guiados estão equipados com uma tecnologia que lhes permite funcionar em guias específicas, o que permite o alinhamento controlado em paragens de autocarro e as linhas orientadas ocupam menos espaço do que as estradas comuns ou as faixas destinadas a transportes públicos.\n",
      "    Guided buses are fitted with technology to allow them to run in designated guideways, allowing the controlled alignment at bus stops and less space taken up by guided lanes than conventional roads or bus lanes.        Os autocarros guiados estão equipados com tecnologia que lhes permitem circular em guias específicas, permitindo o alinhamento controlado em paragens de autocarro e ocupando menos espaço nas faixas guiadas do que nas estradas comuns ou nas vias destinadas a transportes públicos.\n",
      "                                                                                                                                                           Frozen foods, previously a luxury item, became commonplace.                                                                                                                                                                                                                       Os alimentos congelados, outrora um produto de luxo, tornaram-se comuns.\n",
      "                                                                                                                                                    Freezer units are used in households and in industry and commerce.                                                                                                                                                                                                                          Os congeladores têm uma utilização doméstica, industrial e comercial.\n",
      "                                                                                                                                                           Frozen foods, previously a luxury item, became commonplace.                                                                                                                                                                                                                       Os alimentos congelados, outrora um produto de luxo, tornaram-se comuns.\n",
      "                                                                                                                                                    Freezer units are used in households and in industry and commerce.                                                                                                                                                                                                                          Os congeladores têm uma utilização doméstica, industrial e comercial.\n"
     ]
    }
   ],
   "source": [
    "GITHUB_RAW = (\"https://raw.githubusercontent.com/google-research/google-research/\"\n",
    "              \"HEAD/frmt/dataset\")\n",
    "\n",
    "def read_file(bucket, region):\n",
    "    url = f\"{GITHUB_RAW}/{bucket}_bucket/pt_{bucket}_test_en_pt-{region}.tsv\"\n",
    "    return pd.read_csv(url, sep=\"\\t\", names=[\"en\", \"pt\"])\n",
    "\n",
    "def report_dupes(df, tag):\n",
    "    dupes = df[df[\"en\"].duplicated(keep=False)]\n",
    "    if not dupes.empty:\n",
    "        print(f\"\\n⚠️  {tag}: {dupes['en'].nunique()} distinct English \"\n",
    "              f\"sentences duplicated ({len(dupes)} rows).\")\n",
    "        # show the first few duplicates\n",
    "        print(textwrap.indent(dupes.head(6).to_string(index=False), \"    \"))\n",
    "    return dupes\n",
    "\n",
    "buckets = {          # bucket → filename prefix inside that bucket\n",
    "    \"lexical\": \"pt_lexical\",\n",
    "    \"entity\" : \"pt_entity\",\n",
    "    \"random\" : \"pt_random\",\n",
    "}\n",
    "\n",
    "splits   = [\"dev\", \"test\", \"exemplars\"]        # the paper’s three splits\n",
    "regions  = [\"pt-BR\", \"pt-PT\"]                  # ⬅️ we ignore zh-* files\n",
    "\n",
    "def urls(bucket):\n",
    "    prefix = buckets[bucket]\n",
    "    return [f\"{GITHUB_RAW}/{bucket}_bucket/\"\n",
    "            f\"{prefix}_{split}_en_{region}.tsv\"\n",
    "            for split in splits\n",
    "            for region in regions]\n",
    "\n",
    "# sanity-check\n",
    "print(urls(\"entity\")[:3])\n",
    "\n",
    "def split_key(bucket, split, region):\n",
    "    # pt-BR  ➜  pt_BR   (dash → underscore)\n",
    "    return f\"{bucket}_{split}_{region.replace('-', '_')}\"\n",
    "\n",
    "data_files = {\n",
    "    split_key(bucket, split, region): [\n",
    "        f\"{GITHUB_RAW}/{bucket}_bucket/\"\n",
    "        f\"{buckets[bucket]}_{split}_en_{region}.tsv\"\n",
    "    ]\n",
    "    for bucket in buckets\n",
    "    for split  in splits\n",
    "    for region in regions\n",
    "}\n",
    "\n",
    "from datasets import load_dataset, DatasetDict\n",
    "\n",
    "ds = load_dataset(\n",
    "        \"csv\",\n",
    "        data_files   = data_files,\n",
    "        delimiter    = \"\\t\",\n",
    "        column_names = [\"en\", \"pt\"],\n",
    ")\n",
    "\n",
    "print(list(ds.keys())[:6])\n",
    "# ['lexical_dev_pt_BR', 'lexical_dev_pt_PT', 'lexical_test_pt_BR', …]\n",
    "\n",
    "all_frames = []\n",
    "\n",
    "for bucket, region in itertools.product([\"lexical\", \"entity\", \"random\"], [\"BR\",\"PT\"]):\n",
    "    df = read_file(bucket, region)\n",
    "    report_dupes(df, f\"{bucket}-{region}\")\n",
    "    # keep first occurrence only\n",
    "    df = df.drop_duplicates(subset=\"en\", keep=\"first\")\n",
    "    all_frames.append(((bucket, region), df))"
   ]
  },
  {
   "cell_type": "code",
   "execution_count": null,
   "id": "e3fabac2",
   "metadata": {},
   "outputs": [
    {
     "name": "stdout",
     "output_type": "stream",
     "text": [
      "Rows after merge: 2608\n"
     ]
    }
   ],
   "source": [
    "# con = duckdb.connect(DB_PATH)\n",
    "\n",
    "# # --------------------------------------------------\n",
    "# # 1)  create sequence + test_data table (if absent)\n",
    "# # --------------------------------------------------\n",
    "# con.execute(\"\"\"\n",
    "# CREATE SEQUENCE IF NOT EXISTS seq_test_pairs START 1;\n",
    "# CREATE TABLE IF NOT EXISTS test_data (\n",
    "#     test_id     BIGINT PRIMARY KEY DEFAULT nextval('seq_test_pairs'),\n",
    "#     dataset     TEXT NOT NULL,          -- 'FRMT' / 'Gold' / …\n",
    "#     bucket      TEXT NOT NULL,          -- 'lexical' / 'entity' / 'random'\n",
    "#     text_pt_br  TEXT,\n",
    "#     text_pt_pt  TEXT\n",
    "# );\n",
    "# \"\"\")\n",
    "\n",
    "# aligned_frames = []\n",
    "\n",
    "# for bucket in [\"lexical\", \"entity\", \"random\"]:\n",
    "#     br = dict(all_frames)[(bucket, \"BR\")]\n",
    "#     pt = dict(all_frames)[(bucket, \"PT\")]\n",
    "\n",
    "#     merged = br.merge(pt, on=\"en\", validate=\"one_to_one\")  # now guaranteed\n",
    "#     aligned_frames.append(\n",
    "#         merged.assign(dataset=\"FRMT\", bucket=bucket)\n",
    "#               .rename(columns={\"pt_x\": \"text_pt_br\",\n",
    "#                                \"pt_y\": \"text_pt_pt\"})\n",
    "#               [[\"dataset\", \"bucket\", \"text_pt_br\", \"text_pt_pt\"]]\n",
    "#     )\n",
    "\n",
    "# frmt_test = pd.concat(aligned_frames, ignore_index=True)\n",
    "# print(\"Rows after merge:\", len(frmt_test))    # ≈ 2 616 if nothing was lost\n"
   ]
  },
  {
   "cell_type": "code",
   "execution_count": null,
   "id": "ef823d9a",
   "metadata": {},
   "outputs": [],
   "source": [
    "# with duckdb.connect(\"../data/duckdb/subs.duckdb\") as con:\n",
    "#     con.register(\"tmp_frmt\", frmt_test)\n",
    "\n",
    "#     con.execute(\"\"\"\n",
    "#         INSERT INTO test_data (dataset, bucket, text_pt_br, text_pt_pt)\n",
    "#         SELECT      dataset, bucket, text_pt_br, text_pt_pt\n",
    "#         FROM tmp_frmt\n",
    "#     \"\"\")\n",
    "\n",
    "#     con.unregister(\"tmp_frmt\")\n"
   ]
  },
  {
   "cell_type": "code",
   "execution_count": 4,
   "id": "ea3c5ecf",
   "metadata": {},
   "outputs": [
    {
     "ename": "NameError",
     "evalue": "name 'con' is not defined",
     "output_type": "error",
     "traceback": [
      "\u001b[31m---------------------------------------------------------------------------\u001b[39m",
      "\u001b[31mNameError\u001b[39m                                 Traceback (most recent call last)",
      "\u001b[36mCell\u001b[39m\u001b[36m \u001b[39m\u001b[32mIn[4]\u001b[39m\u001b[32m, line 1\u001b[39m\n\u001b[32m----> \u001b[39m\u001b[32m1\u001b[39m \u001b[43mcon\u001b[49m.close()\n",
      "\u001b[31mNameError\u001b[39m: name 'con' is not defined"
     ]
    }
   ],
   "source": [
    "con.close()\n"
   ]
  },
  {
   "cell_type": "code",
   "execution_count": null,
   "id": "78db4608",
   "metadata": {},
   "outputs": [],
   "source": [
    "# gold_ds   = load_dataset(\"joaosanches/golden_collection\")\n",
    "\n",
    "# df_gold = pd.DataFrame({\n",
    "#     \"dataset\"        : \"Gold Collection\",\n",
    "#     \"bucket\"         : \"n/a\",                 # Gold set isn’t bucketed\n",
    "#     \"text_pt_br\"     : gold_ds[\"gold_collection\"][\"text\"],   # bp source\n",
    "#     \"text_pt_pt\"     : gold_ds[\"referencia_manual\"][\"text\"], # human ref\n",
    "#     \"text_pt_pt_DeepL\" : gold_ds[\"referencia_DeepL\"][\"text\"]   # DeepL ref\n",
    "# })\n",
    "\n",
    "# with duckdb.connect(\"../data/duckdb/subs.duckdb\") as con:\n",
    "#     con.register(\"tmp_gold\", df_gold)\n",
    "#     con.execute(\"\"\"\n",
    "#         INSERT INTO test_data\n",
    "#               (dataset, bucket, text_pt_br, text_pt_pt, text_pt_pt_DeepL)\n",
    "#         SELECT dataset, bucket, text_pt_br, text_pt_pt, text_pt_pt_DeepL\n",
    "#         FROM   tmp_gold;\n",
    "#     \"\"\")\n",
    "#     con.unregister(\"tmp_gold\")\n",
    "#     con.close()"
   ]
  },
  {
   "cell_type": "code",
   "execution_count": 28,
   "id": "9c89eb0b",
   "metadata": {},
   "outputs": [
    {
     "data": {
      "text/html": [
       "<div>\n",
       "<style scoped>\n",
       "    .dataframe tbody tr th:only-of-type {\n",
       "        vertical-align: middle;\n",
       "    }\n",
       "\n",
       "    .dataframe tbody tr th {\n",
       "        vertical-align: top;\n",
       "    }\n",
       "\n",
       "    .dataframe thead th {\n",
       "        text-align: right;\n",
       "    }\n",
       "</style>\n",
       "<table border=\"1\" class=\"dataframe\">\n",
       "  <thead>\n",
       "    <tr style=\"text-align: right;\">\n",
       "      <th></th>\n",
       "      <th>test_id</th>\n",
       "      <th>dataset</th>\n",
       "      <th>bucket</th>\n",
       "      <th>text_pt_br</th>\n",
       "      <th>text_pt_pt</th>\n",
       "      <th>text_pt_pt_DeepL</th>\n",
       "    </tr>\n",
       "  </thead>\n",
       "  <tbody>\n",
       "    <tr>\n",
       "      <th>0</th>\n",
       "      <td>1</td>\n",
       "      <td>FRMT</td>\n",
       "      <td>lexical</td>\n",
       "      <td>Um ônibus (contração de ômnibus, com as variações multibus, motorbus, autobus etc.) é um veículo rodoviário projetado para transportar muitos passageiros.</td>\n",
       "      <td>Um autocarro é um veículo rodoviário concebido para transportar muitos passageiros.</td>\n",
       "      <td>None</td>\n",
       "    </tr>\n",
       "    <tr>\n",
       "      <th>1</th>\n",
       "      <td>2</td>\n",
       "      <td>FRMT</td>\n",
       "      <td>lexical</td>\n",
       "      <td>Ônibus podem ter capacidade para até 300 passageiros.</td>\n",
       "      <td>Os autocarros têm capacidade para transportar no máximo 300 passageiros.</td>\n",
       "      <td>None</td>\n",
       "    </tr>\n",
       "    <tr>\n",
       "      <th>2</th>\n",
       "      <td>3</td>\n",
       "      <td>FRMT</td>\n",
       "      <td>lexical</td>\n",
       "      <td>O tipo de ônibus mais comum é o ônibus rígido de um andar, com cargas maiores transportadas por ônibus de dois andares e articulados, e cargas menores transportadas por ônibus médios e micro-ônibus, enquanto ônibus executivos são usados para serviços de distâncias maiores.</td>\n",
       "      <td>Os tipos de autocarros mais comuns são os rígidos de um andar, sendo as cargas maiores nos de dois andares e os autocarros articulados. As cargas menores transportadas por autocarros médios e miniautocarros e enquanto as camionetas de passageiros são utilizadas para serviços de maior distância.</td>\n",
       "      <td>None</td>\n",
       "    </tr>\n",
       "    <tr>\n",
       "      <th>3</th>\n",
       "      <td>4</td>\n",
       "      <td>FRMT</td>\n",
       "      <td>lexical</td>\n",
       "      <td>Muitos tipos de ônibus, como os de transporte urbano e os intermunicipais, cobram uma tarifa.</td>\n",
       "      <td>Muitos tipos de autocarros, como os de trânsito urbano e intercidades, cobram bilhete.</td>\n",
       "      <td>None</td>\n",
       "    </tr>\n",
       "    <tr>\n",
       "      <th>4</th>\n",
       "      <td>5</td>\n",
       "      <td>FRMT</td>\n",
       "      <td>lexical</td>\n",
       "      <td>Outros tipos, como ônibus escolares do ensino médio ou fundamental ou ônibus de traslado em uma instituição de ensino superior não cobram tarifas.</td>\n",
       "      <td>Outros tipos, como os autocarros da escola primária ou secundária ou de ida e volta num campus pós-secundário não cobram bilhete.</td>\n",
       "      <td>None</td>\n",
       "    </tr>\n",
       "  </tbody>\n",
       "</table>\n",
       "</div>"
      ],
      "text/plain": [
       "   test_id dataset   bucket  \\\n",
       "0        1    FRMT  lexical   \n",
       "1        2    FRMT  lexical   \n",
       "2        3    FRMT  lexical   \n",
       "3        4    FRMT  lexical   \n",
       "4        5    FRMT  lexical   \n",
       "\n",
       "                                                                                                                                                                                                                                                                          text_pt_br  \\\n",
       "0                                                                                                                         Um ônibus (contração de ômnibus, com as variações multibus, motorbus, autobus etc.) é um veículo rodoviário projetado para transportar muitos passageiros.   \n",
       "1                                                                                                                                                                                                                              Ônibus podem ter capacidade para até 300 passageiros.   \n",
       "2  O tipo de ônibus mais comum é o ônibus rígido de um andar, com cargas maiores transportadas por ônibus de dois andares e articulados, e cargas menores transportadas por ônibus médios e micro-ônibus, enquanto ônibus executivos são usados para serviços de distâncias maiores.   \n",
       "3                                                                                                                                                                                      Muitos tipos de ônibus, como os de transporte urbano e os intermunicipais, cobram uma tarifa.   \n",
       "4                                                                                                                                 Outros tipos, como ônibus escolares do ensino médio ou fundamental ou ônibus de traslado em uma instituição de ensino superior não cobram tarifas.   \n",
       "\n",
       "                                                                                                                                                                                                                                                                                                text_pt_pt  \\\n",
       "0                                                                                                                                                                                                                      Um autocarro é um veículo rodoviário concebido para transportar muitos passageiros.   \n",
       "1                                                                                                                                                                                                                                 Os autocarros têm capacidade para transportar no máximo 300 passageiros.   \n",
       "2  Os tipos de autocarros mais comuns são os rígidos de um andar, sendo as cargas maiores nos de dois andares e os autocarros articulados. As cargas menores transportadas por autocarros médios e miniautocarros e enquanto as camionetas de passageiros são utilizadas para serviços de maior distância.   \n",
       "3                                                                                                                                                                                                                   Muitos tipos de autocarros, como os de trânsito urbano e intercidades, cobram bilhete.   \n",
       "4                                                                                                                                                                        Outros tipos, como os autocarros da escola primária ou secundária ou de ida e volta num campus pós-secundário não cobram bilhete.   \n",
       "\n",
       "  text_pt_pt_DeepL  \n",
       "0             None  \n",
       "1             None  \n",
       "2             None  \n",
       "3             None  \n",
       "4             None  "
      ]
     },
     "execution_count": 28,
     "metadata": {},
     "output_type": "execute_result"
    }
   ],
   "source": [
    "con = duckdb.connect(DB_PATH)\n",
    "df = con.execute(\"SELECT * FROM test_data LIMIT 5\").fetchdf()\n",
    "con.close()\n",
    "df"
   ]
  },
  {
   "cell_type": "code",
   "execution_count": 29,
   "id": "23a59277",
   "metadata": {},
   "outputs": [
    {
     "data": {
      "text/html": [
       "<div>\n",
       "<style scoped>\n",
       "    .dataframe tbody tr th:only-of-type {\n",
       "        vertical-align: middle;\n",
       "    }\n",
       "\n",
       "    .dataframe tbody tr th {\n",
       "        vertical-align: top;\n",
       "    }\n",
       "\n",
       "    .dataframe thead th {\n",
       "        text-align: right;\n",
       "    }\n",
       "</style>\n",
       "<table border=\"1\" class=\"dataframe\">\n",
       "  <thead>\n",
       "    <tr style=\"text-align: right;\">\n",
       "      <th></th>\n",
       "      <th>test_id</th>\n",
       "      <th>dataset</th>\n",
       "      <th>bucket</th>\n",
       "      <th>text_pt_br</th>\n",
       "      <th>text_pt_pt</th>\n",
       "      <th>text_pt_pt_DeepL</th>\n",
       "    </tr>\n",
       "  </thead>\n",
       "  <tbody>\n",
       "    <tr>\n",
       "      <th>0</th>\n",
       "      <td>1</td>\n",
       "      <td>FRMT</td>\n",
       "      <td>lexical</td>\n",
       "      <td>Um ônibus (contração de ômnibus, com as variações multibus, motorbus, autobus etc.) é um veículo rodoviário projetado para transportar muitos passageiros.</td>\n",
       "      <td>Um autocarro é um veículo rodoviário concebido para transportar muitos passageiros.</td>\n",
       "      <td>None</td>\n",
       "    </tr>\n",
       "    <tr>\n",
       "      <th>1</th>\n",
       "      <td>2</td>\n",
       "      <td>FRMT</td>\n",
       "      <td>lexical</td>\n",
       "      <td>Ônibus podem ter capacidade para até 300 passageiros.</td>\n",
       "      <td>Os autocarros têm capacidade para transportar no máximo 300 passageiros.</td>\n",
       "      <td>None</td>\n",
       "    </tr>\n",
       "    <tr>\n",
       "      <th>2</th>\n",
       "      <td>3</td>\n",
       "      <td>FRMT</td>\n",
       "      <td>lexical</td>\n",
       "      <td>O tipo de ônibus mais comum é o ônibus rígido de um andar, com cargas maiores transportadas por ônibus de dois andares e articulados, e cargas menores transportadas por ônibus médios e micro-ônibus, enquanto ônibus executivos são usados para serviços de distâncias maiores.</td>\n",
       "      <td>Os tipos de autocarros mais comuns são os rígidos de um andar, sendo as cargas maiores nos de dois andares e os autocarros articulados. As cargas menores transportadas por autocarros médios e miniautocarros e enquanto as camionetas de passageiros são utilizadas para serviços de maior distância.</td>\n",
       "      <td>None</td>\n",
       "    </tr>\n",
       "    <tr>\n",
       "      <th>3</th>\n",
       "      <td>4</td>\n",
       "      <td>FRMT</td>\n",
       "      <td>lexical</td>\n",
       "      <td>Muitos tipos de ônibus, como os de transporte urbano e os intermunicipais, cobram uma tarifa.</td>\n",
       "      <td>Muitos tipos de autocarros, como os de trânsito urbano e intercidades, cobram bilhete.</td>\n",
       "      <td>None</td>\n",
       "    </tr>\n",
       "    <tr>\n",
       "      <th>4</th>\n",
       "      <td>5</td>\n",
       "      <td>FRMT</td>\n",
       "      <td>lexical</td>\n",
       "      <td>Outros tipos, como ônibus escolares do ensino médio ou fundamental ou ônibus de traslado em uma instituição de ensino superior não cobram tarifas.</td>\n",
       "      <td>Outros tipos, como os autocarros da escola primária ou secundária ou de ida e volta num campus pós-secundário não cobram bilhete.</td>\n",
       "      <td>None</td>\n",
       "    </tr>\n",
       "    <tr>\n",
       "      <th>...</th>\n",
       "      <td>...</td>\n",
       "      <td>...</td>\n",
       "      <td>...</td>\n",
       "      <td>...</td>\n",
       "      <td>...</td>\n",
       "      <td>...</td>\n",
       "    </tr>\n",
       "    <tr>\n",
       "      <th>3103</th>\n",
       "      <td>3104</td>\n",
       "      <td>Gold Collection</td>\n",
       "      <td>n/a</td>\n",
       "      <td>Isso significa que a preposição é o termo que relaciona substantivo a substantivo, verbo a substantivo, substantivo a verbo, adjetivo a substantivo, advérbio a substantivo, etc.\\n</td>\n",
       "      <td>Isso significa que a preposição é o termo que relaciona substantivo a substantivo, verbo a substantivo, substantivo a verbo, adjetivo a substantivo, advérbio a substantivo, etc.\\n</td>\n",
       "      <td>Isto significa que uma preposição é o termo que relaciona um substantivo com um substantivo, um verbo com um substantivo, um substantivo com um verbo, um adjetivo com um substantivo, um advérbio com um substantivo, etc.\\n</td>\n",
       "    </tr>\n",
       "    <tr>\n",
       "      <th>3104</th>\n",
       "      <td>3105</td>\n",
       "      <td>Gold Collection</td>\n",
       "      <td>n/a</td>\n",
       "      <td>Foi então que a vestimenta mais feminina que se conhece começou a ganhar forma: o espartilho.\\n</td>\n",
       "      <td>Foi então que a peça de vestuário mais feminina que se conhece começou a ganhar forma: o espartilho.\\n</td>\n",
       "      <td>Foi nessa altura que começou a ganhar forma a peça de vestuário mais feminina que se conhece: o espartilho.\\n</td>\n",
       "    </tr>\n",
       "    <tr>\n",
       "      <th>3105</th>\n",
       "      <td>3106</td>\n",
       "      <td>Gold Collection</td>\n",
       "      <td>n/a</td>\n",
       "      <td>Um de seus professores foi Martin Wegelius.\\n</td>\n",
       "      <td>Um dos seus professores foi Martin Wegelius.\\n</td>\n",
       "      <td>Um dos seus professores foi Martin Wegelius.\\n</td>\n",
       "    </tr>\n",
       "    <tr>\n",
       "      <th>3106</th>\n",
       "      <td>3107</td>\n",
       "      <td>Gold Collection</td>\n",
       "      <td>n/a</td>\n",
       "      <td>Nessa época, iniciou uma verdadeira polêmica com o escritor democrata Björnstjerne Björnson, através de correspondência.\\n</td>\n",
       "      <td>Nessa época, iniciou-se uma verdadeira polémica com o escritor democrata Björnstjerne Björnson, através de correspondência.\\n</td>\n",
       "      <td>Nesta época, iniciou uma verdadeira polémica com o escritor democrata Björnstjerne Björnson, através de correspondência.\\n</td>\n",
       "    </tr>\n",
       "    <tr>\n",
       "      <th>3107</th>\n",
       "      <td>3108</td>\n",
       "      <td>Gold Collection</td>\n",
       "      <td>n/a</td>\n",
       "      <td>Disponibilizar conteúdo livre, ao acesso de todos, de qualidade, sendo uma fonte fíavel de conhecimento educativo, informativo, em um plano horizontal.</td>\n",
       "      <td>Disponibilizar conteúdo livre, ao acesso de todos, de qualidade, sendo uma fonte fíavel de conhecimento educativo, informativo, em um plano horizontal.</td>\n",
       "      <td>Fornecer conteúdos gratuitos, acessíveis e de qualidade para todos, como uma fonte fiável de conhecimentos educativos e informativos a nível horizontal.\\n</td>\n",
       "    </tr>\n",
       "  </tbody>\n",
       "</table>\n",
       "<p>3108 rows × 6 columns</p>\n",
       "</div>"
      ],
      "text/plain": [
       "      test_id          dataset   bucket  \\\n",
       "0           1             FRMT  lexical   \n",
       "1           2             FRMT  lexical   \n",
       "2           3             FRMT  lexical   \n",
       "3           4             FRMT  lexical   \n",
       "4           5             FRMT  lexical   \n",
       "...       ...              ...      ...   \n",
       "3103     3104  Gold Collection      n/a   \n",
       "3104     3105  Gold Collection      n/a   \n",
       "3105     3106  Gold Collection      n/a   \n",
       "3106     3107  Gold Collection      n/a   \n",
       "3107     3108  Gold Collection      n/a   \n",
       "\n",
       "                                                                                                                                                                                                                                                                             text_pt_br  \\\n",
       "0                                                                                                                            Um ônibus (contração de ômnibus, com as variações multibus, motorbus, autobus etc.) é um veículo rodoviário projetado para transportar muitos passageiros.   \n",
       "1                                                                                                                                                                                                                                 Ônibus podem ter capacidade para até 300 passageiros.   \n",
       "2     O tipo de ônibus mais comum é o ônibus rígido de um andar, com cargas maiores transportadas por ônibus de dois andares e articulados, e cargas menores transportadas por ônibus médios e micro-ônibus, enquanto ônibus executivos são usados para serviços de distâncias maiores.   \n",
       "3                                                                                                                                                                                         Muitos tipos de ônibus, como os de transporte urbano e os intermunicipais, cobram uma tarifa.   \n",
       "4                                                                                                                                    Outros tipos, como ônibus escolares do ensino médio ou fundamental ou ônibus de traslado em uma instituição de ensino superior não cobram tarifas.   \n",
       "...                                                                                                                                                                                                                                                                                 ...   \n",
       "3103                                                                                                Isso significa que a preposição é o termo que relaciona substantivo a substantivo, verbo a substantivo, substantivo a verbo, adjetivo a substantivo, advérbio a substantivo, etc.\\n   \n",
       "3104                                                                                                                                                                                    Foi então que a vestimenta mais feminina que se conhece começou a ganhar forma: o espartilho.\\n   \n",
       "3105                                                                                                                                                                                                                                      Um de seus professores foi Martin Wegelius.\\n   \n",
       "3106                                                                                                                                                         Nessa época, iniciou uma verdadeira polêmica com o escritor democrata Björnstjerne Björnson, através de correspondência.\\n   \n",
       "3107                                                                                                                            Disponibilizar conteúdo livre, ao acesso de todos, de qualidade, sendo uma fonte fíavel de conhecimento educativo, informativo, em um plano horizontal.   \n",
       "\n",
       "                                                                                                                                                                                                                                                                                                   text_pt_pt  \\\n",
       "0                                                                                                                                                                                                                         Um autocarro é um veículo rodoviário concebido para transportar muitos passageiros.   \n",
       "1                                                                                                                                                                                                                                    Os autocarros têm capacidade para transportar no máximo 300 passageiros.   \n",
       "2     Os tipos de autocarros mais comuns são os rígidos de um andar, sendo as cargas maiores nos de dois andares e os autocarros articulados. As cargas menores transportadas por autocarros médios e miniautocarros e enquanto as camionetas de passageiros são utilizadas para serviços de maior distância.   \n",
       "3                                                                                                                                                                                                                      Muitos tipos de autocarros, como os de trânsito urbano e intercidades, cobram bilhete.   \n",
       "4                                                                                                                                                                           Outros tipos, como os autocarros da escola primária ou secundária ou de ida e volta num campus pós-secundário não cobram bilhete.   \n",
       "...                                                                                                                                                                                                                                                                                                       ...   \n",
       "3103                                                                                                                      Isso significa que a preposição é o termo que relaciona substantivo a substantivo, verbo a substantivo, substantivo a verbo, adjetivo a substantivo, advérbio a substantivo, etc.\\n   \n",
       "3104                                                                                                                                                                                                   Foi então que a peça de vestuário mais feminina que se conhece começou a ganhar forma: o espartilho.\\n   \n",
       "3105                                                                                                                                                                                                                                                           Um dos seus professores foi Martin Wegelius.\\n   \n",
       "3106                                                                                                                                                                            Nessa época, iniciou-se uma verdadeira polémica com o escritor democrata Björnstjerne Björnson, através de correspondência.\\n   \n",
       "3107                                                                                                                                                  Disponibilizar conteúdo livre, ao acesso de todos, de qualidade, sendo uma fonte fíavel de conhecimento educativo, informativo, em um plano horizontal.   \n",
       "\n",
       "                                                                                                                                                                                                                   text_pt_pt_DeepL  \n",
       "0                                                                                                                                                                                                                              None  \n",
       "1                                                                                                                                                                                                                              None  \n",
       "2                                                                                                                                                                                                                              None  \n",
       "3                                                                                                                                                                                                                              None  \n",
       "4                                                                                                                                                                                                                              None  \n",
       "...                                                                                                                                                                                                                             ...  \n",
       "3103  Isto significa que uma preposição é o termo que relaciona um substantivo com um substantivo, um verbo com um substantivo, um substantivo com um verbo, um adjetivo com um substantivo, um advérbio com um substantivo, etc.\\n  \n",
       "3104                                                                                                                  Foi nessa altura que começou a ganhar forma a peça de vestuário mais feminina que se conhece: o espartilho.\\n  \n",
       "3105                                                                                                                                                                                 Um dos seus professores foi Martin Wegelius.\\n  \n",
       "3106                                                                                                     Nesta época, iniciou uma verdadeira polémica com o escritor democrata Björnstjerne Björnson, através de correspondência.\\n  \n",
       "3107                                                                     Fornecer conteúdos gratuitos, acessíveis e de qualidade para todos, como uma fonte fiável de conhecimentos educativos e informativos a nível horizontal.\\n  \n",
       "\n",
       "[3108 rows x 6 columns]"
      ]
     },
     "execution_count": 29,
     "metadata": {},
     "output_type": "execute_result"
    }
   ],
   "source": [
    "con = duckdb.connect(DB_PATH)\n",
    "df = con.execute(\"SELECT * FROM test_data\").fetchdf()\n",
    "con.close()\n",
    "df"
   ]
  },
  {
   "cell_type": "code",
   "execution_count": 14,
   "id": "0bf7fd50",
   "metadata": {},
   "outputs": [],
   "source": [
    "def sample_test_df(DB_PATH, dataset, n=5):\n",
    "    \"\"\"Return a random sample of `n` rows from the DataFrame.\"\"\"\n",
    "    con = duckdb.connect(DB_PATH)\n",
    "    df = con.execute(f\"SELECT * FROM test_data WHERE dataset = '{dataset}' LIMIT {n}\").fetchdf()\n",
    "    con.close()\n",
    "    return df\n",
    "\n",
    "def sample_train_df(DB_PATH, dataset, n=5):\n",
    "    \"\"\"Return a random sample of `n` rows from the DataFrame.\"\"\"\n",
    "    con = duckdb.connect(DB_PATH)\n",
    "    df = con.execute(f\"SELECT * FROM train_data WHERE dataset = '{dataset}' LIMIT {n}\").fetchdf()\n",
    "    con.close()\n",
    "    return df"
   ]
  },
  {
   "cell_type": "code",
   "execution_count": 13,
   "id": "933f22de",
   "metadata": {},
   "outputs": [
    {
     "data": {
      "text/html": [
       "<div>\n",
       "<style scoped>\n",
       "    .dataframe tbody tr th:only-of-type {\n",
       "        vertical-align: middle;\n",
       "    }\n",
       "\n",
       "    .dataframe tbody tr th {\n",
       "        vertical-align: top;\n",
       "    }\n",
       "\n",
       "    .dataframe thead th {\n",
       "        text-align: right;\n",
       "    }\n",
       "</style>\n",
       "<table border=\"1\" class=\"dataframe\">\n",
       "  <thead>\n",
       "    <tr style=\"text-align: right;\">\n",
       "      <th></th>\n",
       "      <th>test_id</th>\n",
       "      <th>dataset</th>\n",
       "      <th>bucket</th>\n",
       "      <th>text_pt_br</th>\n",
       "      <th>text_pt_pt</th>\n",
       "    </tr>\n",
       "  </thead>\n",
       "  <tbody>\n",
       "    <tr>\n",
       "      <th>0</th>\n",
       "      <td>1</td>\n",
       "      <td>FRMT</td>\n",
       "      <td>lexical</td>\n",
       "      <td>Um ônibus (contração de ômnibus, com as variações multibus, motorbus, autobus etc.) é um veículo rodoviário projetado para transportar muitos passageiros.</td>\n",
       "      <td>Um autocarro é um veículo rodoviário concebido para transportar muitos passageiros.</td>\n",
       "    </tr>\n",
       "    <tr>\n",
       "      <th>1</th>\n",
       "      <td>2</td>\n",
       "      <td>FRMT</td>\n",
       "      <td>lexical</td>\n",
       "      <td>Ônibus podem ter capacidade para até 300 passageiros.</td>\n",
       "      <td>Os autocarros têm capacidade para transportar no máximo 300 passageiros.</td>\n",
       "    </tr>\n",
       "    <tr>\n",
       "      <th>2</th>\n",
       "      <td>3</td>\n",
       "      <td>FRMT</td>\n",
       "      <td>lexical</td>\n",
       "      <td>O tipo de ônibus mais comum é o ônibus rígido de um andar, com cargas maiores transportadas por ônibus de dois andares e articulados, e cargas menores transportadas por ônibus médios e micro-ônibus, enquanto ônibus executivos são usados para serviços de distâncias maiores.</td>\n",
       "      <td>Os tipos de autocarros mais comuns são os rígidos de um andar, sendo as cargas maiores nos de dois andares e os autocarros articulados. As cargas menores transportadas por autocarros médios e miniautocarros e enquanto as camionetas de passageiros são utilizadas para serviços de maior distância.</td>\n",
       "    </tr>\n",
       "    <tr>\n",
       "      <th>3</th>\n",
       "      <td>4</td>\n",
       "      <td>FRMT</td>\n",
       "      <td>lexical</td>\n",
       "      <td>Muitos tipos de ônibus, como os de transporte urbano e os intermunicipais, cobram uma tarifa.</td>\n",
       "      <td>Muitos tipos de autocarros, como os de trânsito urbano e intercidades, cobram bilhete.</td>\n",
       "    </tr>\n",
       "    <tr>\n",
       "      <th>4</th>\n",
       "      <td>5</td>\n",
       "      <td>FRMT</td>\n",
       "      <td>lexical</td>\n",
       "      <td>Outros tipos, como ônibus escolares do ensino médio ou fundamental ou ônibus de traslado em uma instituição de ensino superior não cobram tarifas.</td>\n",
       "      <td>Outros tipos, como os autocarros da escola primária ou secundária ou de ida e volta num campus pós-secundário não cobram bilhete.</td>\n",
       "    </tr>\n",
       "  </tbody>\n",
       "</table>\n",
       "</div>"
      ],
      "text/plain": [
       "   test_id dataset   bucket  \\\n",
       "0        1    FRMT  lexical   \n",
       "1        2    FRMT  lexical   \n",
       "2        3    FRMT  lexical   \n",
       "3        4    FRMT  lexical   \n",
       "4        5    FRMT  lexical   \n",
       "\n",
       "                                                                                                                                                                                                                                                                          text_pt_br  \\\n",
       "0                                                                                                                         Um ônibus (contração de ômnibus, com as variações multibus, motorbus, autobus etc.) é um veículo rodoviário projetado para transportar muitos passageiros.   \n",
       "1                                                                                                                                                                                                                              Ônibus podem ter capacidade para até 300 passageiros.   \n",
       "2  O tipo de ônibus mais comum é o ônibus rígido de um andar, com cargas maiores transportadas por ônibus de dois andares e articulados, e cargas menores transportadas por ônibus médios e micro-ônibus, enquanto ônibus executivos são usados para serviços de distâncias maiores.   \n",
       "3                                                                                                                                                                                      Muitos tipos de ônibus, como os de transporte urbano e os intermunicipais, cobram uma tarifa.   \n",
       "4                                                                                                                                 Outros tipos, como ônibus escolares do ensino médio ou fundamental ou ônibus de traslado em uma instituição de ensino superior não cobram tarifas.   \n",
       "\n",
       "                                                                                                                                                                                                                                                                                                text_pt_pt  \n",
       "0                                                                                                                                                                                                                      Um autocarro é um veículo rodoviário concebido para transportar muitos passageiros.  \n",
       "1                                                                                                                                                                                                                                 Os autocarros têm capacidade para transportar no máximo 300 passageiros.  \n",
       "2  Os tipos de autocarros mais comuns são os rígidos de um andar, sendo as cargas maiores nos de dois andares e os autocarros articulados. As cargas menores transportadas por autocarros médios e miniautocarros e enquanto as camionetas de passageiros são utilizadas para serviços de maior distância.  \n",
       "3                                                                                                                                                                                                                   Muitos tipos de autocarros, como os de trânsito urbano e intercidades, cobram bilhete.  \n",
       "4                                                                                                                                                                        Outros tipos, como os autocarros da escola primária ou secundária ou de ida e volta num campus pós-secundário não cobram bilhete.  "
      ]
     },
     "execution_count": 13,
     "metadata": {},
     "output_type": "execute_result"
    }
   ],
   "source": [
    "sample_test_df(DB_PATH, \"FRMT\")"
   ]
  },
  {
   "cell_type": "code",
   "execution_count": 5,
   "id": "76c73e96",
   "metadata": {},
   "outputs": [],
   "source": [
    "con.close()"
   ]
  },
  {
   "cell_type": "markdown",
   "id": "3cc91ed6",
   "metadata": {},
   "source": [
    "vale a pena manter frases iguais nos dados?"
   ]
  },
  {
   "cell_type": "markdown",
   "id": "12070dea",
   "metadata": {},
   "source": [
    "**//TRAIN DATASETS**"
   ]
  },
  {
   "cell_type": "code",
   "execution_count": 4,
   "id": "61187d18",
   "metadata": {},
   "outputs": [],
   "source": [
    "con = duckdb.connect(DB_PATH)\n"
   ]
  },
  {
   "cell_type": "code",
   "execution_count": 5,
   "id": "b353cf13",
   "metadata": {},
   "outputs": [
    {
     "data": {
      "text/html": [
       "<div>\n",
       "<style scoped>\n",
       "    .dataframe tbody tr th:only-of-type {\n",
       "        vertical-align: middle;\n",
       "    }\n",
       "\n",
       "    .dataframe tbody tr th {\n",
       "        vertical-align: top;\n",
       "    }\n",
       "\n",
       "    .dataframe thead th {\n",
       "        text-align: right;\n",
       "    }\n",
       "</style>\n",
       "<table border=\"1\" class=\"dataframe\">\n",
       "  <thead>\n",
       "    <tr style=\"text-align: right;\">\n",
       "      <th></th>\n",
       "      <th>dataset</th>\n",
       "      <th>split</th>\n",
       "      <th>label</th>\n",
       "      <th>text_pt_br</th>\n",
       "      <th>text_pt_pt</th>\n",
       "    </tr>\n",
       "  </thead>\n",
       "  <tbody>\n",
       "  </tbody>\n",
       "</table>\n",
       "</div>"
      ],
      "text/plain": [
       "Empty DataFrame\n",
       "Columns: [dataset, split, label, text_pt_br, text_pt_pt]\n",
       "Index: []"
      ]
     },
     "execution_count": 5,
     "metadata": {},
     "output_type": "execute_result"
    }
   ],
   "source": [
    "con.execute(\"SELECT * FROM ptbrvarid WHERE dataset = 'train'\").fetchdf()"
   ]
  },
  {
   "cell_type": "code",
   "execution_count": null,
   "id": "63b3acb3",
   "metadata": {},
   "outputs": [
    {
     "data": {
      "application/vnd.jupyter.widget-view+json": {
       "model_id": "416602af7ba849cb8e877955f004a0f8",
       "version_major": 2,
       "version_minor": 0
      },
      "text/plain": [
       "FloatProgress(value=0.0, layout=Layout(width='auto'), style=ProgressStyle(bar_color='black'))"
      ]
     },
     "metadata": {},
     "output_type": "display_data"
    }
   ],
   "source": [
    "\n"
   ]
  },
  {
   "cell_type": "code",
   "execution_count": null,
   "id": "db40929f",
   "metadata": {},
   "outputs": [
    {
     "data": {
      "text/plain": [
       "<duckdb.duckdb.DuckDBPyConnection at 0x78dd3c374b30>"
      ]
     },
     "execution_count": 6,
     "metadata": {},
     "output_type": "execute_result"
    }
   ],
   "source": [
    "# con = duckdb.connect(DB_PATH)\n",
    "# con.execute(\"\"\"CREATE TABLE IF NOT EXISTS ptbrvarid (\n",
    "#     dataset     TEXT,              -- always 'PtBrVarId'\n",
    "#     split       TEXT,              -- 'train' | 'valid' | 'test'\n",
    "#     label       TEXT,              -- 'pt-BR' | 'pt-PT'\n",
    "#     text_pt_br  TEXT,\n",
    "#     text_pt_pt  TEXT\n",
    "# );\"\"\")"
   ]
  },
  {
   "cell_type": "code",
   "execution_count": 6,
   "id": "9481c79a",
   "metadata": {},
   "outputs": [
    {
     "name": "stderr",
     "output_type": "stream",
     "text": [
      "journalistic-train: 1776290rows [4:56:50, 99.73rows/s]   \n",
      "journalistic-valid: 1000rows [00:03, 275.65rows/s]\n",
      "legal-train: 1122709rows [2:53:44, 107.70rows/s]  \n"
     ]
    },
    {
     "ename": "KeyboardInterrupt",
     "evalue": "",
     "output_type": "error",
     "traceback": [
      "\u001b[31m---------------------------------------------------------------------------\u001b[39m",
      "\u001b[31mKeyboardInterrupt\u001b[39m                         Traceback (most recent call last)",
      "\u001b[36mCell\u001b[39m\u001b[36m \u001b[39m\u001b[32mIn[6]\u001b[39m\u001b[32m, line 8\u001b[39m\n\u001b[32m      4\u001b[39m DB_PATH = \u001b[33m\"\u001b[39m\u001b[33m../data/duckdb/subs.duckdb\u001b[39m\u001b[33m\"\u001b[39m\n\u001b[32m      5\u001b[39m domains = [\u001b[33m\"\u001b[39m\u001b[33mjournalistic\u001b[39m\u001b[33m\"\u001b[39m, \u001b[33m\"\u001b[39m\u001b[33mlegal\u001b[39m\u001b[33m\"\u001b[39m, \u001b[33m\"\u001b[39m\u001b[33mliterature\u001b[39m\u001b[33m\"\u001b[39m,\n\u001b[32m      6\u001b[39m            \u001b[33m\"\u001b[39m\u001b[33mpolitics\u001b[39m\u001b[33m\"\u001b[39m, \u001b[33m\"\u001b[39m\u001b[33msocial_media\u001b[39m\u001b[33m\"\u001b[39m, \u001b[33m\"\u001b[39m\u001b[33mweb\u001b[39m\u001b[33m\"\u001b[39m]\n\u001b[32m----> \u001b[39m\u001b[32m8\u001b[39m \u001b[38;5;28;43;01mwith\u001b[39;49;00m\u001b[43m \u001b[49m\u001b[43mduckdb\u001b[49m\u001b[43m.\u001b[49m\u001b[43mconnect\u001b[49m\u001b[43m(\u001b[49m\u001b[43mDB_PATH\u001b[49m\u001b[43m)\u001b[49m\u001b[43m \u001b[49m\u001b[38;5;28;43;01mas\u001b[39;49;00m\u001b[43m \u001b[49m\u001b[43mcon\u001b[49m\u001b[43m:\u001b[49m\n\u001b[32m      9\u001b[39m \u001b[43m    \u001b[49m\u001b[38;5;66;43;03m# ensure the storage table exists once\u001b[39;49;00m\n\u001b[32m     10\u001b[39m \u001b[43m    \u001b[49m\u001b[43mcon\u001b[49m\u001b[43m.\u001b[49m\u001b[43mexecute\u001b[49m\u001b[43m(\u001b[49m\u001b[33;43m\"\"\"\u001b[39;49m\n\u001b[32m     11\u001b[39m \u001b[33;43m        CREATE TABLE IF NOT EXISTS ptbrvarid (\u001b[39;49m\n\u001b[32m     12\u001b[39m \u001b[33;43m            dataset     TEXT,\u001b[39;49m\n\u001b[32m   (...)\u001b[39m\u001b[32m     17\u001b[39m \u001b[33;43m        );\u001b[39;49m\n\u001b[32m     18\u001b[39m \u001b[33;43m    \u001b[39;49m\u001b[33;43m\"\"\"\u001b[39;49m\u001b[43m)\u001b[49m\n\u001b[32m     20\u001b[39m \u001b[43m    \u001b[49m\u001b[43mBATCH\u001b[49m\u001b[43m \u001b[49m\u001b[43m=\u001b[49m\u001b[43m \u001b[49m\u001b[32;43m50_000\u001b[39;49m\n",
      "\u001b[36mCell\u001b[39m\u001b[36m \u001b[39m\u001b[32mIn[6]\u001b[39m\u001b[32m, line 38\u001b[39m\n\u001b[32m     34\u001b[39m                 buffer.append((\u001b[33m\"\u001b[39m\u001b[33mPtBrVarId\u001b[39m\u001b[33m\"\u001b[39m, split, \u001b[33m\"\u001b[39m\u001b[33mpt-PT\u001b[39m\u001b[33m\"\u001b[39m,\n\u001b[32m     35\u001b[39m                                 \u001b[38;5;28;01mNone\u001b[39;00m, ex[\u001b[33m\"\u001b[39m\u001b[33mtext\u001b[39m\u001b[33m\"\u001b[39m]))\n\u001b[32m     37\u001b[39m             \u001b[38;5;28;01mif\u001b[39;00m \u001b[38;5;28mlen\u001b[39m(buffer) >= BATCH:\n\u001b[32m---> \u001b[39m\u001b[32m38\u001b[39m                 \u001b[43mcon\u001b[49m\u001b[43m.\u001b[49m\u001b[43mexecutemany\u001b[49m\u001b[43m(\u001b[49m\n\u001b[32m     39\u001b[39m \u001b[43m                    \u001b[49m\u001b[33;43m\"\u001b[39;49m\u001b[33;43mINSERT INTO ptbrvarid VALUES (?, ?, ?, ?, ?)\u001b[39;49m\u001b[33;43m\"\u001b[39;49m\u001b[43m,\u001b[49m\n\u001b[32m     40\u001b[39m \u001b[43m                    \u001b[49m\u001b[43mbuffer\u001b[49m\u001b[43m)\u001b[49m\n\u001b[32m     41\u001b[39m                 buffer.clear()\n\u001b[32m     43\u001b[39m \u001b[38;5;66;03m# flush remainder\u001b[39;00m\n",
      "\u001b[36mFile \u001b[39m\u001b[32m<frozen abc>:117\u001b[39m, in \u001b[36m__instancecheck__\u001b[39m\u001b[34m(cls, instance)\u001b[39m\n",
      "\u001b[31mKeyboardInterrupt\u001b[39m: "
     ]
    }
   ],
   "source": [
    "from datasets import load_dataset\n",
    "import duckdb, pandas as pd, tqdm\n",
    "\n",
    "DB_PATH = \"../data/duckdb/subs.duckdb\"\n",
    "domains = [\"journalistic\", \"legal\", \"literature\",\n",
    "           \"politics\", \"social_media\", \"web\"]\n",
    "\n",
    "with duckdb.connect(DB_PATH) as con:\n",
    "    # ensure the storage table exists once\n",
    "    con.execute(\"\"\"\n",
    "        CREATE TABLE IF NOT EXISTS ptbrvarid (\n",
    "            dataset     TEXT,\n",
    "            split       TEXT,\n",
    "            label       TEXT,\n",
    "            text_pt_br  TEXT,\n",
    "            text_pt_pt  TEXT\n",
    "        );\n",
    "    \"\"\")\n",
    "\n",
    "    BATCH = 50_000\n",
    "    buffer = []\n",
    "\n",
    "    for cfg in domains:\n",
    "        ds_cfg = load_dataset(\"liaad/PtBrVId\", cfg, streaming=True)  # stream!\n",
    "\n",
    "        for split in (\"train\", \"valid\"):           # leave 'test' for later\n",
    "            for ex in tqdm.tqdm(ds_cfg[split],\n",
    "                                desc=f\"{cfg}-{split}\",\n",
    "                                unit=\"rows\"):\n",
    "                if ex[\"label\"] == 1:               # 1 = BR\n",
    "                    buffer.append((\"PtBrVarId\", split, \"pt-BR\",\n",
    "                                    ex[\"text\"], None))\n",
    "                else:                              # 0 = PT\n",
    "                    buffer.append((\"PtBrVarId\", split, \"pt-PT\",\n",
    "                                    None, ex[\"text\"]))\n",
    "\n",
    "                if len(buffer) >= BATCH:\n",
    "                    con.executemany(\n",
    "                        \"INSERT INTO ptbrvarid VALUES (?, ?, ?, ?, ?)\",\n",
    "                        buffer)\n",
    "                    buffer.clear()\n",
    "\n",
    "    # flush remainder\n",
    "    if buffer:\n",
    "        con.executemany(\n",
    "            \"INSERT INTO ptbrvarid VALUES (?, ?, ?, ?, ?)\",\n",
    "            buffer)\n"
   ]
  },
  {
   "cell_type": "code",
   "execution_count": null,
   "id": "469e0254",
   "metadata": {},
   "outputs": [
    {
     "data": {
      "text/plain": [
       "<duckdb.duckdb.DuckDBPyConnection at 0x729a7d475130>"
      ]
     },
     "execution_count": 8,
     "metadata": {},
     "output_type": "execute_result"
    }
   ],
   "source": [
    "rows_test = []\n",
    "for cfg in domains:\n",
    "    for ex in load_dataset(\"liaad/PtBrVId\", cfg, split=\"test\"):\n",
    "        if ex[\"label\"] == 0:\n",
    "            rows_test.append((\"PtBrVarId\", \"n/a\", ex[\"text\"], None))\n",
    "        else:\n",
    "            rows_test.append((\"PtBrVarId\", \"n/a\", None, ex[\"text\"]))\n",
    "\n",
    "with duckdb.connect(DB_PATH) as con:\n",
    "    con.executemany(\n",
    "        \"INSERT INTO test_data (dataset, bucket, text_pt_br, text_pt_pt) \"\n",
    "        \"VALUES (?, ?, ?, ?)\",\n",
    "        rows_test)\n"
   ]
  },
  {
   "cell_type": "code",
   "execution_count": null,
   "id": "4649335a",
   "metadata": {},
   "outputs": [],
   "source": [
    "con.execute(\"\"\"\n",
    "DROP VIEW IF EXISTS train_data;\n",
    "\n",
    "CREATE VIEW train_data AS\n",
    "\n",
    "-- OpenSubtitles: always used for translation\n",
    "SELECT\n",
    "       'OpenSubs'  AS dataset,\n",
    "       sent_pt_br  AS text_pt_br,\n",
    "       sent_pt_pt  AS text_pt_pt,\n",
    "       NULL        AS label                           -- no class label\n",
    "FROM   opus_moses\n",
    "\n",
    "UNION ALL\n",
    "\n",
    "-- PtBrVarId: keep just train & valid rows\n",
    "SELECT\n",
    "       'PtBrVarId' AS dataset,\n",
    "       text_pt_br,\n",
    "       text_pt_pt,\n",
    "       label                                        -- 'pt-BR' / 'pt-PT'\n",
    "FROM   ptbrvarid\n",
    "WHERE  split IN ('train','valid');\n",
    "\n",
    "\n",
    "\"\"\")"
   ]
  },
  {
   "cell_type": "code",
   "execution_count": 12,
   "id": "9f733b9a",
   "metadata": {},
   "outputs": [
    {
     "data": {
      "text/html": [
       "<div>\n",
       "<style scoped>\n",
       "    .dataframe tbody tr th:only-of-type {\n",
       "        vertical-align: middle;\n",
       "    }\n",
       "\n",
       "    .dataframe tbody tr th {\n",
       "        vertical-align: top;\n",
       "    }\n",
       "\n",
       "    .dataframe thead th {\n",
       "        text-align: right;\n",
       "    }\n",
       "</style>\n",
       "<table border=\"1\" class=\"dataframe\">\n",
       "  <thead>\n",
       "    <tr style=\"text-align: right;\">\n",
       "      <th></th>\n",
       "      <th>dataset</th>\n",
       "      <th>split</th>\n",
       "      <th>label</th>\n",
       "      <th>text_pt_br</th>\n",
       "      <th>text_pt_pt</th>\n",
       "    </tr>\n",
       "  </thead>\n",
       "  <tbody>\n",
       "    <tr>\n",
       "      <th>0</th>\n",
       "      <td>PtBrVarId</td>\n",
       "      <td>valid</td>\n",
       "      <td>pt-PT</td>\n",
       "      <td>None</td>\n",
       "      <td>None</td>\n",
       "    </tr>\n",
       "    <tr>\n",
       "      <th>1</th>\n",
       "      <td>PtBrVarId</td>\n",
       "      <td>valid</td>\n",
       "      <td>pt-PT</td>\n",
       "      <td>None</td>\n",
       "      <td>None</td>\n",
       "    </tr>\n",
       "    <tr>\n",
       "      <th>2</th>\n",
       "      <td>PtBrVarId</td>\n",
       "      <td>valid</td>\n",
       "      <td>pt-PT</td>\n",
       "      <td>None</td>\n",
       "      <td>None</td>\n",
       "    </tr>\n",
       "    <tr>\n",
       "      <th>3</th>\n",
       "      <td>PtBrVarId</td>\n",
       "      <td>valid</td>\n",
       "      <td>pt-PT</td>\n",
       "      <td>None</td>\n",
       "      <td>None</td>\n",
       "    </tr>\n",
       "    <tr>\n",
       "      <th>4</th>\n",
       "      <td>PtBrVarId</td>\n",
       "      <td>valid</td>\n",
       "      <td>pt-PT</td>\n",
       "      <td>None</td>\n",
       "      <td>None</td>\n",
       "    </tr>\n",
       "  </tbody>\n",
       "</table>\n",
       "</div>"
      ],
      "text/plain": [
       "     dataset  split  label text_pt_br text_pt_pt\n",
       "0  PtBrVarId  valid  pt-PT       None       None\n",
       "1  PtBrVarId  valid  pt-PT       None       None\n",
       "2  PtBrVarId  valid  pt-PT       None       None\n",
       "3  PtBrVarId  valid  pt-PT       None       None\n",
       "4  PtBrVarId  valid  pt-PT       None       None"
      ]
     },
     "execution_count": 12,
     "metadata": {},
     "output_type": "execute_result"
    }
   ],
   "source": [
    "con.execute(\"SELECT * FROM train_data WHERE split = 'valid' LIMIT 5\").fetchdf()"
   ]
  },
  {
   "cell_type": "code",
   "execution_count": null,
   "id": "6fb5165c",
   "metadata": {},
   "outputs": [],
   "source": []
  },
  {
   "cell_type": "code",
   "execution_count": 17,
   "id": "82cc096d",
   "metadata": {},
   "outputs": [
    {
     "data": {
      "text/html": [
       "<div>\n",
       "<style scoped>\n",
       "    .dataframe tbody tr th:only-of-type {\n",
       "        vertical-align: middle;\n",
       "    }\n",
       "\n",
       "    .dataframe tbody tr th {\n",
       "        vertical-align: top;\n",
       "    }\n",
       "\n",
       "    .dataframe thead th {\n",
       "        text-align: right;\n",
       "    }\n",
       "</style>\n",
       "<table border=\"1\" class=\"dataframe\">\n",
       "  <thead>\n",
       "    <tr style=\"text-align: right;\">\n",
       "      <th></th>\n",
       "      <th>dataset</th>\n",
       "      <th>split</th>\n",
       "      <th>label</th>\n",
       "      <th>text_pt_br</th>\n",
       "      <th>text_pt_pt</th>\n",
       "    </tr>\n",
       "  </thead>\n",
       "  <tbody>\n",
       "    <tr>\n",
       "      <th>0</th>\n",
       "      <td>OpenSubs</td>\n",
       "      <td>train</td>\n",
       "      <td>None</td>\n",
       "      <td>o diretor mueller acaba de nomear nos um número de caso principal, investigações foi oficialmente dublado amerithrax, quemosenviou cartas receberam antraz de um laboratório americano, nós não estaríamos aqui se nós não tinha provas nos conduzindo de volta para usamriid,</td>\n",
       "      <td>Em episódios anteriores... O diretor Mueller atribuiu-nos um caso importante. Oficialmente, a investigação chama-se Amerithrax.</td>\n",
       "    </tr>\n",
       "    <tr>\n",
       "      <th>1</th>\n",
       "      <td>OpenSubs</td>\n",
       "      <td>train</td>\n",
       "      <td>None</td>\n",
       "      <td>bruce ivins é o nosso melhor homem com antraz, então eu quero falar com ele, eles estão nos tratando como se fôssemos o inimigo, nós somos os heróis, a entrada tem que ser através do complexo de seu herói,</td>\n",
       "      <td>- Bruce Ivins é o perito em antraz. - Então quero falar com ele. Tratam-nos como o inimigo e somos os heróis.</td>\n",
       "    </tr>\n",
       "    <tr>\n",
       "      <th>2</th>\n",
       "      <td>OpenSubs</td>\n",
       "      <td>train</td>\n",
       "      <td>None</td>\n",
       "      <td>eu conheço a maioria dos americanos não estão prestando atenção, mas vocês tiveram sinais que o 11 de setembro iria acontecer, eagoravocênão consegueentender quem enviou essas cartas, então, em vez disso, você está assediando patriotas que trabalham duro como eu,</td>\n",
       "      <td>Temos de entrar através do complexo de herói dele. A maioria dos americanos não presta atenção, mas vocês tiveram sinais de que o 11 de Setembro ia acontecer. E agora não descobrem quem enviou as cartas.</td>\n",
       "    </tr>\n",
       "    <tr>\n",
       "      <th>3</th>\n",
       "      <td>OpenSubs</td>\n",
       "      <td>train</td>\n",
       "      <td>None</td>\n",
       "      <td>bruce,vocêé considerando fazer fisicamente mal a alguém?</td>\n",
       "      <td>E, em vez disso, incomodam patriotas trabalhadores como eu. Bruce, está a pensar em magoar alguém?</td>\n",
       "    </tr>\n",
       "    <tr>\n",
       "      <th>4</th>\n",
       "      <td>OpenSubs</td>\n",
       "      <td>train</td>\n",
       "      <td>None</td>\n",
       "      <td>você fez isso, dr, ivins?</td>\n",
       "      <td>Fez isto, Dr. Ivins?</td>\n",
       "    </tr>\n",
       "  </tbody>\n",
       "</table>\n",
       "</div>"
      ],
      "text/plain": [
       "    dataset  split label  \\\n",
       "0  OpenSubs  train  None   \n",
       "1  OpenSubs  train  None   \n",
       "2  OpenSubs  train  None   \n",
       "3  OpenSubs  train  None   \n",
       "4  OpenSubs  train  None   \n",
       "\n",
       "                                                                                                                                                                                                                                                                       text_pt_br  \\\n",
       "0  o diretor mueller acaba de nomear nos um número de caso principal, investigações foi oficialmente dublado amerithrax, quemosenviou cartas receberam antraz de um laboratório americano, nós não estaríamos aqui se nós não tinha provas nos conduzindo de volta para usamriid,   \n",
       "1                                                                   bruce ivins é o nosso melhor homem com antraz, então eu quero falar com ele, eles estão nos tratando como se fôssemos o inimigo, nós somos os heróis, a entrada tem que ser através do complexo de seu herói,   \n",
       "2         eu conheço a maioria dos americanos não estão prestando atenção, mas vocês tiveram sinais que o 11 de setembro iria acontecer, eagoravocênão consegueentender quem enviou essas cartas, então, em vez disso, você está assediando patriotas que trabalham duro como eu,   \n",
       "3                                                                                                                                                                                                                        bruce,vocêé considerando fazer fisicamente mal a alguém?   \n",
       "4                                                                                                                                                                                                                                                       você fez isso, dr, ivins?   \n",
       "\n",
       "                                                                                                                                                                                                    text_pt_pt  \n",
       "0                                                                              Em episódios anteriores... O diretor Mueller atribuiu-nos um caso importante. Oficialmente, a investigação chama-se Amerithrax.  \n",
       "1                                                                                                - Bruce Ivins é o perito em antraz. - Então quero falar com ele. Tratam-nos como o inimigo e somos os heróis.  \n",
       "2  Temos de entrar através do complexo de herói dele. A maioria dos americanos não presta atenção, mas vocês tiveram sinais de que o 11 de Setembro ia acontecer. E agora não descobrem quem enviou as cartas.  \n",
       "3                                                                                                           E, em vez disso, incomodam patriotas trabalhadores como eu. Bruce, está a pensar em magoar alguém?  \n",
       "4                                                                                                                                                                                         Fez isto, Dr. Ivins?  "
      ]
     },
     "execution_count": 17,
     "metadata": {},
     "output_type": "execute_result"
    }
   ],
   "source": [
    "sample_train_df(DB_PATH, \"OpenSubs\")"
   ]
  },
  {
   "cell_type": "code",
   "execution_count": null,
   "id": "98ea0302",
   "metadata": {},
   "outputs": [
    {
     "data": {
      "application/vnd.jupyter.widget-view+json": {
       "model_id": "75a6dc367fed4454813bcadd280aa0ad",
       "version_major": 2,
       "version_minor": 0
      },
      "text/plain": [
       "FloatProgress(value=0.0, layout=Layout(width='auto'), style=ProgressStyle(bar_color='black'))"
      ]
     },
     "metadata": {},
     "output_type": "display_data"
    }
   ],
   "source": [
    "df_test = con.execute(\"SELECT * FROM train_data WHERE split = 'train'\").fetchdf()"
   ]
  },
  {
   "cell_type": "code",
   "execution_count": null,
   "id": "24be2c97",
   "metadata": {},
   "outputs": [
    {
     "data": {
      "text/html": [
       "<div>\n",
       "<style scoped>\n",
       "    .dataframe tbody tr th:only-of-type {\n",
       "        vertical-align: middle;\n",
       "    }\n",
       "\n",
       "    .dataframe tbody tr th {\n",
       "        vertical-align: top;\n",
       "    }\n",
       "\n",
       "    .dataframe thead th {\n",
       "        text-align: right;\n",
       "    }\n",
       "</style>\n",
       "<table border=\"1\" class=\"dataframe\">\n",
       "  <thead>\n",
       "    <tr style=\"text-align: right;\">\n",
       "      <th></th>\n",
       "      <th>dataset</th>\n",
       "      <th>split</th>\n",
       "      <th>label</th>\n",
       "      <th>text_pt_br</th>\n",
       "      <th>text_pt_pt</th>\n",
       "    </tr>\n",
       "  </thead>\n",
       "  <tbody>\n",
       "  </tbody>\n",
       "</table>\n",
       "</div>"
      ],
      "text/plain": [
       "Empty DataFrame\n",
       "Columns: [dataset, split, label, text_pt_br, text_pt_pt]\n",
       "Index: []"
      ]
     },
     "execution_count": 21,
     "metadata": {},
     "output_type": "execute_result"
    }
   ],
   "source": [
    "df_test"
   ]
  },
  {
   "cell_type": "code",
   "execution_count": null,
   "id": "fc3b15c4",
   "metadata": {},
   "outputs": [],
   "source": []
  }
 ],
 "metadata": {
  "kernelspec": {
   "display_name": "thesis (3.12.3)",
   "language": "python",
   "name": "python3"
  },
  "language_info": {
   "codemirror_mode": {
    "name": "ipython",
    "version": 3
   },
   "file_extension": ".py",
   "mimetype": "text/x-python",
   "name": "python",
   "nbconvert_exporter": "python",
   "pygments_lexer": "ipython3",
   "version": "3.12.3"
  }
 },
 "nbformat": 4,
 "nbformat_minor": 5
}
