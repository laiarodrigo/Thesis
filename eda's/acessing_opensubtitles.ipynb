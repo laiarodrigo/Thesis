{
 "cells": [
  {
   "cell_type": "markdown",
   "id": "3de25adc",
   "metadata": {},
   "source": [
    "**//IMPORTS**"
   ]
  },
  {
   "cell_type": "code",
   "execution_count": null,
   "id": "307e4f85",
   "metadata": {},
   "outputs": [],
   "source": [
    "import os\n",
    "import gzip\n",
    "import requests\n",
    "from dotenv import load_dotenv\n",
    "from opensubtitlescom import OpenSubtitles\n"
   ]
  },
  {
   "cell_type": "markdown",
   "id": "4c811c55",
   "metadata": {},
   "source": [
    "**//CONFIGS**"
   ]
  },
  {
   "cell_type": "code",
   "execution_count": 39,
   "id": "1e2b241c",
   "metadata": {},
   "outputs": [],
   "source": [
    "load_dotenv()  # loads .env → os.environ\n",
    "API_BASE   = \"https://api.opensubtitles.com/api/v1\"\n",
    "API_KEY    = os.getenv(\"OPENSUBTITLES_API_KEY\")\n",
    "USERNAME   = os.getenv(\"OPENSUBTITLES_USER\", \"\")\n",
    "PASSWORD   = os.getenv(\"OPENSUBTITLES_PASS\", \"\")\n",
    "USER_AGENT = \"MySubtitleApp/1.0\"\n",
    "\n",
    "HEADERS = {\n",
    "    \"Api-Key\":     API_KEY,       \n",
    "    \"User-Agent\":  USER_AGENT,\n",
    "    \"Content-Type\":\"application/json\"\n",
    "}\n",
    "\n",
    "MOVIES = [\n",
    "    {\"imdb_id\": \"tt14513804\", \"title\": \"Captain America: Brave New World\"},\n",
    "   \n",
    "]\n",
    "\n",
    "OUTPUT_DIR = \"../data/raw/test_pt_subs\"\n",
    "os.makedirs(OUTPUT_DIR, exist_ok=True)\n"
   ]
  },
  {
   "cell_type": "markdown",
   "id": "fc666a71",
   "metadata": {},
   "source": [
    "**//FUNCTIONS**"
   ]
  },
  {
   "cell_type": "code",
   "execution_count": 60,
   "id": "635eaf12",
   "metadata": {},
   "outputs": [
    {
     "name": "stdout",
     "output_type": "stream",
     "text": [
      "✓ Saved: ../data/raw/test_br_subs/tt14513804.srt\n",
      "✓ Saved: ../data/raw/test_br_subs/tt34463310.srt\n"
     ]
    }
   ],
   "source": [
    "import os, gzip, requests\n",
    "from dotenv import load_dotenv\n",
    "from opensubtitlescom import OpenSubtitles\n",
    "from xmlrpc.client import ServerProxy\n",
    "\n",
    "# 2) Load secrets & define constants\n",
    "load_dotenv()\n",
    "\n",
    "API_BASE    = \"https://api.opensubtitles.com/api/v1\"\n",
    "API_KEY     = os.getenv(\"OPENSUBTITLES_API_KEY\")\n",
    "USERNAME    = os.getenv(\"OPENSUBTITLES_USER\", \"\")\n",
    "PASSWORD    = os.getenv(\"OPENSUBTITLES_PASS\", \"\")\n",
    "USER_AGENT  = \"MySubtitleApp/1.0\"\n",
    "\n",
    "# REST headers\n",
    "REST_HEADERS = {\n",
    "    \"Api-Key\":     API_KEY,\n",
    "    \"User-Agent\":  USER_AGENT,\n",
    "    \"Content-Type\":\"application/json\"\n",
    "}\n",
    "\n",
    "# XML-RPC client (fallback path)\n",
    "ost = OpenSubtitles(user_agent=USER_AGENT, api_key=API_KEY)\n",
    "# optional login for higher quotas\n",
    "if USERNAME and PASSWORD:\n",
    "    try:\n",
    "        ost.login(USERNAME, PASSWORD)\n",
    "    except Exception:\n",
    "        pass\n",
    "\n",
    "MOVIES = [\n",
    "    {\"imdb_id\": \"tt14513804\", \"title\": \"Captain America: Brave New World\"},\n",
    "    {\"imdb_id\": \"tt34463310\", \"title\": \"Detective Chinatown 1900\"},\n",
    "]\n",
    "\n",
    "OUTPUT_DIR = \"../data/raw/test_br_subs\"\n",
    "os.makedirs(OUTPUT_DIR, exist_ok=True)\n",
    "\n",
    "\n",
    "# 3) Prepare XML-RPC client for fallback\n",
    "xmlrpc = ServerProxy(\"https://api.opensubtitles.org/xml-rpc\")\n",
    "try:\n",
    "    rpc_token = xmlrpc.LogIn(\"\", \"\", USER_AGENT, \"\").get(\"token\") or \"\"\n",
    "except Exception:\n",
    "    rpc_token = \"\"\n",
    "\n",
    "def fetch_subtitles_for(imdb_id):\n",
    "    # — Attempt REST search first —\n",
    "    resp = requests.get(\n",
    "        f\"{API_BASE}/subtitles\",\n",
    "        headers=REST_HEADERS,\n",
    "        params={\n",
    "            \"query\":     \"Captain America Brave New World\",  # title search\n",
    "            \"languages\": \"pt-br\"                                # two-letter code\n",
    "        }\n",
    "    )\n",
    "    resp.raise_for_status()\n",
    "    data = resp.json().get(\"data\", [])    \n",
    "    if data:\n",
    "        # Got REST results → download via REST\n",
    "        attrs  = data[0][\"attributes\"]\n",
    "        files  = attrs.get(\"files\", [])\n",
    "        if files:\n",
    "            file_id = files[0][\"file_id\"]\n",
    "            dl = requests.post(\n",
    "                f\"{API_BASE}/download\",\n",
    "                headers=REST_HEADERS,\n",
    "                json={\"file_id\": file_id}\n",
    "            )\n",
    "            dl.raise_for_status()\n",
    "            link = dl.json().get(\"link\")\n",
    "            if link:\n",
    "                r = requests.get(link)\n",
    "                r.raise_for_status()\n",
    "                return r.text\n",
    "    \n",
    "    # — Fallback to XML-RPC search —\n",
    "    imdb_num = imdb_id.lstrip(\"tt\")\n",
    "    results = xmlrpc.SearchSubtitles(\n",
    "        rpc_token,                            # never None, at worst \"\"\n",
    "        [{\"imdbid\": imdb_num, \"sublanguageid\": \"por\"}]\n",
    "    ).get(\"data\") or []\n",
    "    \n",
    "    if not results:\n",
    "        return None\n",
    "    \n",
    "    sub = results[0]\n",
    "    dl  = sub.get(\"SubDownloadLink\")\n",
    "    if not dl:\n",
    "        return None\n",
    "    \n",
    "    # Download (some are gzipped, some not)\n",
    "    gz = requests.get(dl).content\n",
    "    try:\n",
    "        return gzip.decompress(gz).decode(\"utf-8\", errors=\"replace\")\n",
    "    except:\n",
    "        return gz.decode(\"utf-8\", errors=\"replace\")\n",
    "\n",
    "# 4) Run & save all\n",
    "for movie in MOVIES:\n",
    "    imdb_id = movie[\"imdb_id\"]\n",
    "    srt     = fetch_subtitles_for(imdb_id)\n",
    "    if not srt:\n",
    "        print(f\"✗ No PT subs at all for {imdb_id}\")\n",
    "        continue\n",
    "\n",
    "    out_path = os.path.join(OUTPUT_DIR, f\"{imdb_id}.srt\")\n",
    "    with open(out_path, \"w\", encoding=\"utf-8\") as f:\n",
    "        f.write(srt)\n",
    "    print(f\"✓ Saved: {out_path}\")"
   ]
  },
  {
   "cell_type": "code",
   "execution_count": null,
   "id": "2e99be2c",
   "metadata": {},
   "outputs": [],
   "source": []
  },
  {
   "cell_type": "code",
   "execution_count": null,
   "id": "99fff7d2",
   "metadata": {},
   "outputs": [],
   "source": []
  }
 ],
 "metadata": {
  "kernelspec": {
   "display_name": "thesis",
   "language": "python",
   "name": "python3"
  },
  "language_info": {
   "codemirror_mode": {
    "name": "ipython",
    "version": 3
   },
   "file_extension": ".py",
   "mimetype": "text/x-python",
   "name": "python",
   "nbconvert_exporter": "python",
   "pygments_lexer": "ipython3",
   "version": "3.11.10"
  }
 },
 "nbformat": 4,
 "nbformat_minor": 5
}
