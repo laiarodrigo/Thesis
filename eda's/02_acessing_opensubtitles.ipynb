{
 "cells": [
  {
   "cell_type": "markdown",
   "id": "3de25adc",
   "metadata": {},
   "source": [
    "**//IMPORTS**"
   ]
  },
  {
   "cell_type": "code",
   "execution_count": 1,
   "id": "307e4f85",
   "metadata": {},
   "outputs": [
    {
     "name": "stdout",
     "output_type": "stream",
     "text": [
      "Project root: /home/rofarate/Thesis\n",
      "OpenSubtitles login failed: 429 Client Error: Too Many Requests for url: https://api.opensubtitles.com/api/v1/login → continuing without token.\n"
     ]
    }
   ],
   "source": [
    "import os, gzip, requests, time\n",
    "import pandas as pd\n",
    "import pathlib, sys\n",
    "\n",
    "from datetime import datetime, timezone\n",
    "from dotenv import load_dotenv         \n",
    "from pathlib import Path\n",
    "from opensubtitlescom import OpenSubtitles\n",
    "from xmlrpc.client import ServerProxy, Error as XMLRPCError\n",
    "\n",
    "project_root = pathlib.Path().resolve().parents[0] \n",
    "print(f\"Project root: {project_root}\")\n",
    "sys.path.insert(0, str(project_root / \"src\"))\n",
    "from extract.access_open_subtitles import (fetch_subtitles_for_br, save_batch, save_batch)\n",
    "from catalog import load_intersection_from_catalog\n"
   ]
  },
  {
   "cell_type": "markdown",
   "id": "4c811c55",
   "metadata": {},
   "source": [
    "**//CONFIGS**"
   ]
  },
  {
   "cell_type": "code",
   "execution_count": null,
   "id": "1e2b241c",
   "metadata": {},
   "outputs": [],
   "source": [
    "# load_dotenv()\n",
    "\n",
    "# API_BASE = \"https://api.opensubtitles.com/api/v1\"\n",
    "# API_KEY = os.getenv(\"OPENSUBTITLES_API_KEY\")\n",
    "# USERNAME = os.getenv(\"OPENSUBTITLES_USER\", \"\")\n",
    "# PASSWORD = os.getenv(\"OPENSUBTITLES_PASS\", \"\")\n",
    "# USER_AGENT = \"MySubtitleApp/1.0\"\n",
    "\n",
    "# # REST headers\n",
    "# # REST_HEADERS = {\n",
    "# #     \"Api-Key\":     API_KEY,\n",
    "# #     \"User-Agent\":  USER_AGENT,\n",
    "# #     \"Content-Type\":\"application/json\"\n",
    "# # }\n",
    "\n",
    "# # HEAD = {\n",
    "# #     \"Api-Key\": os.getenv(\"OPENSUBTITLES_API_KEY\"),\n",
    "# #     \"User-Agent\": \"TeseCollector/0.1\",\n",
    "# #     \"Accept\": \"application/json\",\n",
    "# # }\n",
    "\n",
    "# BASE_HEADERS = {\n",
    "#     \"Api-Key\":     API_KEY,\n",
    "#     \"User-Agent\":  \"MySubtitleApp/1.0\",          # <- descriptive!\n",
    "#     \"Accept\":      \"application/json\",           # <- important\n",
    "#     \"Content-Type\":\"application/json\",\n",
    "# }\n",
    "# AUTH_HEADERS = dict(BASE_HEADERS)       # will gain 'Authorization' below\n",
    "\n",
    "# # XML-RPC client (fallback path)\n",
    "# ost = OpenSubtitles(user_agent=USER_AGENT, api_key=API_KEY)\n",
    "# # optional login for higher quotas\n",
    "# if USERNAME and PASSWORD:\n",
    "#     try:\n",
    "#         ost.login(USERNAME, PASSWORD)\n",
    "#     except Exception:\n",
    "#         pass\n",
    "\n",
    "# # YEARS AND LANGUAGES\n",
    "\n",
    "# YEARS = range(2023, 2024)          \n",
    "# LANGS = {\"pt-br\", \"pt-pt\"}             \n",
    "# by_lang = {lang: {} for lang in LANGS}\n",
    "\n",
    "# TIMEOUT = 15\n",
    "\n"
   ]
  },
  {
   "cell_type": "code",
   "execution_count": 2,
   "id": "2a417a43",
   "metadata": {},
   "outputs": [],
   "source": [
    "OUTPUT_DIR_BR = Path(\"../data/raw/test_br_subs\")\n",
    "OUTPUT_DIR_PT = Path(\"../data/raw/test_pt_subs\")\n",
    "os.makedirs(OUTPUT_DIR_BR, exist_ok=True)\n",
    "os.makedirs(OUTPUT_DIR_PT, exist_ok=True)\n",
    "\n"
   ]
  },
  {
   "cell_type": "markdown",
   "id": "2917db61",
   "metadata": {},
   "source": [
    "**//MOVIES IN OPENSUBTITLES IN PT AND BR**"
   ]
  },
  {
   "cell_type": "code",
   "execution_count": null,
   "id": "5c56dc28",
   "metadata": {},
   "outputs": [],
   "source": [
    "# import requests, time, random\n",
    "\n",
    "# MAX_RETRIES   = 5          # try the same request up to 5 times\n",
    "# BACKOFF_BASE  = 1.5        # exponential factor   (1.5, 2, 3 … all fine)\n",
    "# JITTER        = 0.3        # add ±30 % random jitter to avoid thundering herd\n",
    "\n",
    "# def safe_get(url, headers=None, params=None, timeout=15):\n",
    "#     \"\"\"GET with automatic retries on 5xx / network errors.\"\"\"\n",
    "#     delay = 1.0                           # initial wait (s) before retry\n",
    "#     for attempt in range(1, MAX_RETRIES + 1):\n",
    "#         try:\n",
    "#             r = requests.get(url, headers=headers, params=params, timeout=timeout)\n",
    "#             # retry only on 5xx\n",
    "#             if 500 <= r.status_code < 600:\n",
    "#                 raise requests.HTTPError(f\"{r.status_code} {r.reason}\", response=r)\n",
    "#             return r                      # success\n",
    "#         except (requests.ConnectionError,\n",
    "#                 requests.Timeout,\n",
    "#                 requests.HTTPError) as e:\n",
    "#             if attempt == MAX_RETRIES:\n",
    "#                 raise                     # bubble up after last attempt\n",
    "#             sleep_for = delay * (1 + JITTER * (random.random() * 2 - 1))\n",
    "#             print(f\"[retry {attempt}/{MAX_RETRIES}] {e} – sleeping {sleep_for:.2f}s\")\n",
    "#             time.sleep(sleep_for)\n",
    "#             delay *= BACKOFF_BASE         # exponential back-off\n"
   ]
  },
  {
   "cell_type": "code",
   "execution_count": null,
   "id": "3fb74d05",
   "metadata": {},
   "outputs": [],
   "source": [
    "# for lang in LANGS:\n",
    "#     for year in YEARS:\n",
    "#         page = 1\n",
    "#         while True:\n",
    "#             q = {\"languages\": lang, \"year\": year, \"type\": \"movie\", \"page\": page}\n",
    "#             r = safe_get(f\"{API_BASE}/subtitles\", headers=BASE_HEADERS, params=q)\n",
    "#             payload = r.json()\n",
    "#             data = payload[\"data\"]\n",
    "#             if not data:\n",
    "#                 break\n",
    "#             for sub in data:\n",
    "#                 feat = sub[\"attributes\"][\"feature_details\"]\n",
    "#                 by_lang[lang][feat[\"imdb_id\"]] = feat[\"title\"]\n",
    "#             page += 1\n",
    "#             time.sleep(1)                           # stay under 40 req / 10 s\n",
    "#             if page > payload[\"total_pages\"]:\n",
    "#                 break\n",
    "\n"
   ]
  },
  {
   "cell_type": "code",
   "execution_count": null,
   "id": "ecbdd6a8",
   "metadata": {},
   "outputs": [
    {
     "data": {
      "text/html": [
       "<div>\n",
       "<style scoped>\n",
       "    .dataframe tbody tr th:only-of-type {\n",
       "        vertical-align: middle;\n",
       "    }\n",
       "\n",
       "    .dataframe tbody tr th {\n",
       "        vertical-align: top;\n",
       "    }\n",
       "\n",
       "    .dataframe thead th {\n",
       "        text-align: right;\n",
       "    }\n",
       "</style>\n",
       "<table border=\"1\" class=\"dataframe\">\n",
       "  <thead>\n",
       "    <tr style=\"text-align: right;\">\n",
       "      <th></th>\n",
       "      <th>imdb_id</th>\n",
       "      <th>title</th>\n",
       "    </tr>\n",
       "  </thead>\n",
       "  <tbody>\n",
       "    <tr>\n",
       "      <th>0</th>\n",
       "      <td>28524545</td>\n",
       "      <td>Mystery Island</td>\n",
       "    </tr>\n",
       "    <tr>\n",
       "      <th>1</th>\n",
       "      <td>26931203</td>\n",
       "      <td>Barbie: Skipper and the Big Babysitting Adventure</td>\n",
       "    </tr>\n",
       "    <tr>\n",
       "      <th>2</th>\n",
       "      <td>20113412</td>\n",
       "      <td>The Convert</td>\n",
       "    </tr>\n",
       "    <tr>\n",
       "      <th>3</th>\n",
       "      <td>24082438</td>\n",
       "      <td>20 Days in Mariupol</td>\n",
       "    </tr>\n",
       "    <tr>\n",
       "      <th>4</th>\n",
       "      <td>9658388</td>\n",
       "      <td>Praise This</td>\n",
       "    </tr>\n",
       "    <tr>\n",
       "      <th>...</th>\n",
       "      <td>...</td>\n",
       "      <td>...</td>\n",
       "    </tr>\n",
       "    <tr>\n",
       "      <th>663</th>\n",
       "      <td>15845360</td>\n",
       "      <td>Dance First</td>\n",
       "    </tr>\n",
       "    <tr>\n",
       "      <th>664</th>\n",
       "      <td>4225012</td>\n",
       "      <td>A Little White Lie</td>\n",
       "    </tr>\n",
       "    <tr>\n",
       "      <th>665</th>\n",
       "      <td>13871094</td>\n",
       "      <td>Stamped from the Beginning</td>\n",
       "    </tr>\n",
       "    <tr>\n",
       "      <th>666</th>\n",
       "      <td>22054902</td>\n",
       "      <td>Ivalu</td>\n",
       "    </tr>\n",
       "    <tr>\n",
       "      <th>667</th>\n",
       "      <td>17663992</td>\n",
       "      <td>Scream VI</td>\n",
       "    </tr>\n",
       "  </tbody>\n",
       "</table>\n",
       "<p>668 rows × 2 columns</p>\n",
       "</div>"
      ],
      "text/plain": [
       "      imdb_id                                              title\n",
       "0    28524545                                     Mystery Island\n",
       "1    26931203  Barbie: Skipper and the Big Babysitting Adventure\n",
       "2    20113412                                        The Convert\n",
       "3    24082438                                20 Days in Mariupol\n",
       "4     9658388                                        Praise This\n",
       "..        ...                                                ...\n",
       "663  15845360                                        Dance First\n",
       "664   4225012                                 A Little White Lie\n",
       "665  13871094                         Stamped from the Beginning\n",
       "666  22054902                                              Ivalu\n",
       "667  17663992                                          Scream VI\n",
       "\n",
       "[668 rows x 2 columns]"
      ]
     },
     "execution_count": 15,
     "metadata": {},
     "output_type": "execute_result"
    }
   ],
   "source": [
    "# MOVIES = pd.read_csv(\"tmdb_movies_2024_with_imdb.csv\")\n",
    "# MOVIES = MOVIES[MOVIES[\"imdb_id\"].notna()]\n",
    "# MOVIES = MOVIES.to_dict(orient=\"records\")\n",
    "\n",
    "# MOVIES = [\n",
    "#     {\"imdb_id\": \"tt14513804\", \"title\": \"Captain America: Brave New World\"},\n",
    "#     {\"imdb_id\": \"tt34463310\", \"title\": \"Detective Chinatown 1900\"},\n",
    "# ]\n",
    "\n",
    "# both_langs = set(by_lang[\"pt-br\"]).intersection(by_lang[\"pt-pt\"])\n",
    "# movies_by_id = {imdb: by_lang[\"pt-pt\"][imdb] for imdb in both_langs}\n",
    "\n",
    "# movies_df = (\n",
    "#     pd.DataFrame.from_dict(movies_by_id, orient=\"index\", columns=[\"title\"])\n",
    "#       .reset_index()\n",
    "#       .rename(columns={\"index\": \"imdb_id\"})\n",
    "# )\n",
    "\n",
    "# movies_df"
   ]
  },
  {
   "cell_type": "markdown",
   "id": "61e7fcc5",
   "metadata": {},
   "source": [
    "**//MAIN CODE**"
   ]
  },
  {
   "cell_type": "code",
   "execution_count": 8,
   "id": "513ea1c7",
   "metadata": {},
   "outputs": [
    {
     "name": "stdout",
     "output_type": "stream",
     "text": [
      "Download refused: {'requests': 5, 'remaining': 0, 'message': 'You have downloaded your allowed 5 subtitles for 24h.Your quota will be renewed in 02 hours and 00 minutes (2025-07-07 23:59:59 UTC) ts=1751925595 ', 'reset_time': '02 hours and 00 minutes', 'reset_time_utc': '2025-07-07T23:59:59.000Z', 'uk': 'app_125690_85.242.215.63', 'uid': 2, 'ts': 1751925595}\n",
      "✗ No pt-BR subs for 14230458 (Poor Things)\n",
      "Download refused: {'requests': 5, 'remaining': 0, 'message': 'You have downloaded your allowed 5 subtitles for 24h.Your quota will be renewed in 02 hours and 00 minutes (2025-07-07 23:59:59 UTC) ts=1751925598 ', 'reset_time': '02 hours and 00 minutes', 'reset_time_utc': '2025-07-07T23:59:59.000Z', 'uk': 'app_125690_85.242.215.63', 'uid': 2, 'ts': 1751925598}\n",
      "✗ No pt-PT subs for 14230458 (Poor Things)\n"
     ]
    }
   ],
   "source": [
    "movies_df = load_intersection_from_catalog(year=2023, n=10)\n",
    "\n",
    "# download first 10 BR files\n",
    "save_batch(movies_df, lang=\"pt-BR\", n=1)\n",
    "\n",
    "# download first 10 PT-PT files\n",
    "save_batch(movies_df, lang=\"pt-PT\", n=1)\n"
   ]
  },
  {
   "cell_type": "code",
   "execution_count": null,
   "id": "6138cdf5",
   "metadata": {},
   "outputs": [],
   "source": []
  }
 ],
 "metadata": {
  "kernelspec": {
   "display_name": "thesis",
   "language": "python",
   "name": "python3"
  },
  "language_info": {
   "codemirror_mode": {
    "name": "ipython",
    "version": 3
   },
   "file_extension": ".py",
   "mimetype": "text/x-python",
   "name": "python",
   "nbconvert_exporter": "python",
   "pygments_lexer": "ipython3",
   "version": "3.11.10"
  }
 },
 "nbformat": 4,
 "nbformat_minor": 5
}
